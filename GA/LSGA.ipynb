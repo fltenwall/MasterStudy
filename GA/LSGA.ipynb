{
 "cells": [
  {
   "cell_type": "code",
   "execution_count": 60,
   "metadata": {},
   "outputs": [
    {
     "name": "stdout",
     "output_type": "stream",
     "text": [
      "最佳最小频数: [40 51 59 48 39 50 52 49 58 56 46 59 48 59 49 59 49 46 42 50 55 44 57 57\n",
      " 48 58 49 59 51 49 42 50 47 51 47 47 53 49 55 51 54 59 49 59 55 45 44 46\n",
      " 47 46 44 42 40 52 54 45 46 46 50 46 47 43 42 49 48 54 58 54 43 47 39 47\n",
      " 50 49 44 54 43 49 56 62 57 61 43 40 57 40 40 51 54 61 44 57 55 57 48 58\n",
      " 48 60 44 50 43 48 44 55 57 55 48 53 44 59 48 48 54 48 49 57 44 53 51 39\n",
      " 47 52 42 56 51 47 45 50 59 45 45 39 44 49 58 42 53 47 44 55 42 41 52 58\n",
      " 45 45 46 41 55 55 43 52 47 43 51 71 42 57 44 56 49 50 49 62 54 50 41 50\n",
      " 42 58 54 52 47 47 53 55 56 56 49 49 47 45 61 53 54 45 49 51 49 48 60 55\n",
      " 40 53 62 55 52 56 43 46 54 41 48 58 45 55 44 40 53 50 47 54 40 58 42 69\n",
      " 39 44 40 47 45 48 45 57 47 63 55 55 45 43 48 57 53 43 44 57 46 50 49 54\n",
      " 42 47 48 44 50 43 44 41 65 44 49 47 56 53 51 62 54 52 50 48 46 53 51 62\n",
      " 55 53 44 42 52 61 51 40 52 47 49 49 63 49 63 55 50 57 45 66 55 54 51 48\n",
      " 49 53 39 45 52 49 54 43 48 42 55 46] 39\n"
     ]
    }
   ],
   "source": [
    "import numpy as np\n",
    "from deap import base, creator, tools\n",
    "import random\n",
    "\n",
    "# 初始化三维矩阵\n",
    "X = np.zeros((100, 50, 50))\n",
    "\n",
    "# 定义选择的数量\n",
    "N = 5000\n",
    "\n",
    "# 生成拉丁方\n",
    "def generate_latin_square(n):\n",
    "    latin_square = np.zeros((n, n), dtype=int)\n",
    "    for i in range(n):\n",
    "        latin_square[i] = (np.arange(n) + i) % n\n",
    "    return latin_square\n",
    "\n",
    "# 定义适应度函数\n",
    "def fitness_function(ind):\n",
    "    # 提取选择的索引\n",
    "    i_ind = ind[:N]\n",
    "    j_ind = ind[N:2*N]\n",
    "    k_ind = ind[2*N:3*N]\n",
    "    \n",
    "    # 计算频数\n",
    "    freq_i = np.bincount(i_ind, minlength=100)\n",
    "    freq_j = np.bincount(j_ind, minlength=50)\n",
    "    freq_k = np.bincount(k_ind, minlength=50)\n",
    "\n",
    "    # 合并频数\n",
    "    combined_freq = np.concatenate((freq_i, freq_j, freq_k))\n",
    "    \n",
    "    # 返回最小频数（作为适应度）\n",
    "    return np.min(combined_freq),\n",
    "\n",
    "# 遗传算法参数设置\n",
    "creator.create(\"FitnessMax\", base.Fitness, weights=(1.0,))  # 最大化\n",
    "creator.create(\"Individual\", list, fitness=creator.FitnessMax)\n",
    "\n",
    "toolbox = base.Toolbox()\n",
    "\n",
    "# 使用拉丁方初始化个体\n",
    "latin_square_i = generate_latin_square(100)  # 生成100x100的拉丁方用于i\n",
    "latin_square_jk = generate_latin_square(50)   # 生成50x50的拉丁方用于j和k\n",
    "\n",
    "toolbox.register(\"i_indices\", random.choices, (lambda: latin_square_i[random.randint(0, 99)].tolist())(), k=N)  # i 的选择\n",
    "toolbox.register(\"j_indices\", random.choices, (lambda: latin_square_i[random.randint(0, 49)].tolist())(), k=N)  # j 的选择\n",
    "toolbox.register(\"k_indices\", random.choices, (lambda: latin_square_i[random.randint(0, 49)].tolist())(), k=N)  # k 的选择\n",
    "\n",
    "toolbox.register(\"individual\", tools.initIterate, creator.Individual, \n",
    "                 lambda: toolbox.i_indices() + toolbox.j_indices() + toolbox.k_indices())\n",
    "\n",
    "\n",
    "toolbox.register(\"population\", tools.initRepeat, list, toolbox.individual)\n",
    "toolbox.register(\"evaluate\", fitness_function)\n",
    "toolbox.register(\"mate\", tools.cxTwoPoint)\n",
    "toolbox.register(\"mutate\", tools.mutFlipBit, indpb=0.1)\n",
    "toolbox.register(\"select\", tools.selTournament, tournsize=3)\n",
    "\n",
    "# 遗传算法执行\n",
    "population = toolbox.population(n=500)  # 种群大小\n",
    "ngen = 200  # 最大迭代次数\n",
    "\n",
    "for gen in range(ngen):\n",
    "    # 选择\n",
    "    offspring = toolbox.select(population, len(population))\n",
    "    offspring = list(map(toolbox.clone, offspring))\n",
    "\n",
    "    # 交叉和变异\n",
    "    for child1, child2 in zip(offspring[::2], offspring[1::2]):\n",
    "        if random.random() < 0.5:  # 交叉概率\n",
    "            toolbox.mate(child1, child2)\n",
    "            del child1.fitness.values\n",
    "            del child2.fitness.values\n",
    "\n",
    "    for mutant in offspring:\n",
    "        if random.random() < 0.3:  # 变异概率\n",
    "            toolbox.mutate(mutant)\n",
    "            del mutant.fitness.values\n",
    "\n",
    "    # 评估新一代个体\n",
    "    invalid_ind = [ind for ind in offspring if not ind.fitness.valid]\n",
    "    fitnesses = map(toolbox.evaluate, invalid_ind)\n",
    "    for ind, fit in zip(invalid_ind, fitnesses):\n",
    "        ind.fitness.values = fit\n",
    "\n",
    "    # 替换种群\n",
    "    population[:] = offspring\n",
    "\n",
    "# 输出最佳解\n",
    "fits = [ind.fitness.values[0] for ind in population]\n",
    "best_idx = np.argmax(fits)\n",
    "best_ind = population[best_idx]\n",
    "\n",
    "# 计算最佳解的最小频数\n",
    "best_freq_i = np.bincount(best_ind[:N], minlength=100)\n",
    "best_freq_j = np.bincount(best_ind[N:2*N], minlength=50)\n",
    "best_freq_k = np.bincount(best_ind[2*N:3*N], minlength=50)\n",
    "combined_best_freq = np.concatenate((best_freq_i, best_freq_j, best_freq_k))\n",
    "min_freq = np.min(combined_best_freq)\n",
    "\n",
    "print(\"最佳最小频数:\", combined_best_freq,min_freq)\n"
   ]
  },
  {
   "cell_type": "code",
   "execution_count": 42,
   "metadata": {},
   "outputs": [
    {
     "name": "stdout",
     "output_type": "stream",
     "text": [
      "[77, 78, 79, 80, 81, 82, 83, 84, 85, 86, 87, 88, 89, 90, 91, 92, 93, 94, 95, 96, 97, 98, 99, 0, 1, 2, 3, 4, 5, 6, 7, 8, 9, 10, 11, 12, 13, 14, 15, 16, 17, 18, 19, 20, 21, 22, 23, 24, 25, 26, 27, 28, 29, 30, 31, 32, 33, 34, 35, 36, 37, 38, 39, 40, 41, 42, 43, 44, 45, 46, 47, 48, 49, 50, 51, 52, 53, 54, 55, 56, 57, 58, 59, 60, 61, 62, 63, 64, 65, 66, 67, 68, 69, 70, 71, 72, 73, 74, 75, 76]\n"
     ]
    }
   ],
   "source": [
    "def generate_latin_square(n):\n",
    "    latin_square = np.zeros((n, n), dtype=int)\n",
    "    for i in range(n):\n",
    "        latin_square[i] = (np.arange(n) + i) % n\n",
    "    return latin_square\n",
    "latin_square_i = generate_latin_square(100) \n",
    "\n",
    "# latin_square_i[random.randint(0, 99)].tolist()\n",
    "arr = lambda: latin_square_i[random.randint(0, 99)].tolist()\n",
    "print(arr())"
   ]
  },
  {
   "cell_type": "code",
   "execution_count": 50,
   "metadata": {},
   "outputs": [
    {
     "data": {
      "text/plain": [
       "[0, 90, 77, 64, 51]"
      ]
     },
     "execution_count": 50,
     "metadata": {},
     "output_type": "execute_result"
    }
   ],
   "source": [
    "random.choices(range(100),k=5)"
   ]
  },
  {
   "cell_type": "code",
   "execution_count": null,
   "metadata": {},
   "outputs": [],
   "source": []
  }
 ],
 "metadata": {
  "kernelspec": {
   "display_name": "Python 3",
   "language": "python",
   "name": "python3"
  },
  "language_info": {
   "codemirror_mode": {
    "name": "ipython",
    "version": 3
   },
   "file_extension": ".py",
   "mimetype": "text/x-python",
   "name": "python",
   "nbconvert_exporter": "python",
   "pygments_lexer": "ipython3",
   "version": "3.12.4"
  }
 },
 "nbformat": 4,
 "nbformat_minor": 2
}
