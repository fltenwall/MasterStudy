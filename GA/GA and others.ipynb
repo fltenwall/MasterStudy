{
 "cells": [
  {
   "cell_type": "markdown",
   "metadata": {
    "colab_type": "text",
    "id": "view-in-github"
   },
   "source": [
    "<a href=\"https://colab.research.google.com/github/fltenwall/MasterStudy/blob/main/Copy_of_select_number_python.ipynb\" target=\"_parent\"><img src=\"https://colab.research.google.com/assets/colab-badge.svg\" alt=\"Open In Colab\"/></a>"
   ]
  },
  {
   "cell_type": "code",
   "execution_count": null,
   "metadata": {
    "collapsed": true,
    "id": "1Kn-b27Ef3uG"
   },
   "outputs": [],
   "source": [
    "import random\n",
    "import numpy as np\n",
    "\n",
    "def bibd_sample(items, k):\n",
    "    sample = np.copy(items)\n",
    "    first_select = []\n",
    "    second_select = []\n",
    "    third_select = []\n",
    "    # 100維\n",
    "    label = 0\n",
    "    first_dim = 100\n",
    "    second_dim = 50\n",
    "    third_dim = 50\n",
    "    while label < 99:\n",
    "\n",
    "      random_number1 = np.random.randint(0,first_dim-1)\n",
    "\n",
    "      # 第一個隨機數已經產生過，則繼續生成新的隨機數\n",
    "      while random_number1 in first_select and len(first_select) <= first_dim:\n",
    "        random_number1 = np.random.randint(0,first_dim-1)\n",
    "\n",
    "      if len(first_select) <= first_dim:\n",
    "        first_select.append(random_number1)\n",
    "\n",
    "      index2 = 0\n",
    "      while index2 < 5:\n",
    "        random_number2 = np.random.randint(0,second_dim-1)\n",
    "        # 對每一行取出5個樣本，每個樣本本身是50個格子\n",
    "        while random_number2 in second_select and len(second_select) <= 5:\n",
    "          random_number2 = np.random.randint(0,second_dim-1)\n",
    "        if len(second_select) <= 5:\n",
    "          second_select.append(random_number2)\n",
    "\n",
    "          index3 = 0\n",
    "          # 在每一個格子中取出10個樣本\n",
    "          while index3 < 10:\n",
    "            random_number3 = np.random.randint(0,third_dim-1)\n",
    "            while random_number3 in third_select and len(third_select) <= 10:\n",
    "              random_number3 = np.random.randint(0,third_dim-1)\n",
    "            sample[random_number1][random_number2][random_number3][3] = 1\n",
    "            index3 = index3 + 1\n",
    "          third_select = [] # 重置\n",
    "\n",
    "        index2 = index2 + 1\n",
    "      second_select = []\n",
    "\n",
    "      label = label + 1\n",
    "    return sample\n",
    "\n",
    "items = []\n",
    "for i in range(100):\n",
    "  arr1 = []\n",
    "  for j in range(50):\n",
    "    arr2 = []\n",
    "    for k in range(50):\n",
    "      arr2.append([i, j, k, 0])\n",
    "    # 隨機打亂術組\n",
    "    #random.shuffle(arr2)\n",
    "    arr1.append(arr2)\n",
    "  # 隨機打亂術組\n",
    "  #random.shuffle(arr1)\n",
    "  items.append(arr1)\n",
    "# 隨機打亂術組\n",
    "#items = random.shuffle(items)\n",
    "\n",
    "k = 10000  # 我们需要抽取10000个样本\n",
    "sample = bibd_sample(items, k)\n",
    "\n"
   ]
  },
  {
   "cell_type": "code",
   "execution_count": null,
   "metadata": {
    "collapsed": true,
    "id": "cHJ6ScO9u68n"
   },
   "outputs": [],
   "source": [
    "# expend\n",
    "result = [k for i in sample for j in i for k in j]\n",
    "random.shuffle(result)"
   ]
  },
  {
   "cell_type": "code",
   "execution_count": null,
   "metadata": {
    "colab": {
     "base_uri": "https://localhost:8080/"
    },
    "id": "bTLLaod7z066",
    "outputId": "fb4557ed-48be-4281-b1c0-ffc463daafb5"
   },
   "outputs": [],
   "source": [
    "result[0:9] # [i, j, k, value]"
   ]
  },
  {
   "cell_type": "code",
   "execution_count": null,
   "metadata": {
    "colab": {
     "base_uri": "https://localhost:8080/"
    },
    "id": "QcFDkm63tYVM",
    "outputId": "5b7d5770-8e5b-495c-c2c5-25ef96430078"
   },
   "outputs": [],
   "source": [
    "# 從 i 統計出現1對格子\n",
    "x1 = 0\n",
    "for i in range(99):\n",
    "  for item in result:\n",
    "    if(item[0] == i):\n",
    "      x1 = x1 + item[3]\n",
    "print(x1)"
   ]
  },
  {
   "cell_type": "code",
   "execution_count": null,
   "metadata": {
    "colab": {
     "base_uri": "https://localhost:8080/"
    },
    "id": "IrJEgyn6xTK8",
    "outputId": "f5d86bf4-6f09-4c35-8077-19f7e1c761b0"
   },
   "outputs": [],
   "source": [
    "# 從 j 統計出現1對格子\n",
    "x2 = 0\n",
    "for i in range(50):\n",
    "  for item in result:\n",
    "    if(item[1] == i):\n",
    "      x2 = x2 + item[3]\n",
    "print(x2)"
   ]
  },
  {
   "cell_type": "code",
   "execution_count": null,
   "metadata": {
    "colab": {
     "base_uri": "https://localhost:8080/"
    },
    "id": "q2BUVk5NxXml",
    "outputId": "b0d3c5f5-21d8-43fd-ccfa-cab9f88c4f27"
   },
   "outputs": [],
   "source": [
    "# 從 k 統計出現1對格子\n",
    "x3 = 0\n",
    "for i in range(50):\n",
    "  for item in result:\n",
    "    if(item[2] == i):\n",
    "      x3 = x3 + item[3]\n",
    "print(x3)"
   ]
  },
  {
   "cell_type": "code",
   "execution_count": null,
   "metadata": {
    "colab": {
     "base_uri": "https://localhost:8080/"
    },
    "id": "1iZfhx1RACbG",
    "outputId": "1b1032cc-f745-4643-985a-924b03e53890"
   },
   "outputs": [],
   "source": [
    "# 對全體樣本統計出現1的格子\n",
    "x4 = 0\n",
    "for item in result:\n",
    "    x4 = x4 + item[3]\n",
    "print(x4)"
   ]
  },
  {
   "cell_type": "code",
   "execution_count": null,
   "metadata": {
    "colab": {
     "base_uri": "https://localhost:8080/"
    },
    "id": "Opy5kJ4NkIQ1",
    "outputId": "974f36d4-4bde-46e1-f967-5cb6a1a690d1"
   },
   "outputs": [],
   "source": [
    "items = []\n",
    "for i in range(100):\n",
    "  arr1 = []\n",
    "  for j in range(100):\n",
    "    arr2 = []\n",
    "    for k in range(100):\n",
    "      arr2.append([i, j, k, 0])\n",
    "    arr1.append(arr2)\n",
    "  items.append(arr1)\n",
    "sample = np.copy(items)\n",
    "sample"
   ]
  },
  {
   "cell_type": "code",
   "execution_count": null,
   "metadata": {
    "id": "3HbENr8Ervc5"
   },
   "outputs": [],
   "source": [
    "import numpy as np"
   ]
  },
  {
   "cell_type": "code",
   "execution_count": null,
   "metadata": {},
   "outputs": [],
   "source": [
    "# matrix = np.random.rand(100,50,50)"
   ]
  },
  {
   "cell_type": "code",
   "execution_count": null,
   "metadata": {},
   "outputs": [],
   "source": [
    "arr = np.zeros((100,50,50))"
   ]
  },
  {
   "cell_type": "code",
   "execution_count": null,
   "metadata": {},
   "outputs": [],
   "source": [
    "np.bincount(best_ind[:5000], minlength=100)"
   ]
  },
  {
   "cell_type": "code",
   "execution_count": 1,
   "metadata": {},
   "outputs": [
    {
     "name": "stdout",
     "output_type": "stream",
     "text": [
      "最佳最小频数: 27\n"
     ]
    }
   ],
   "source": [
    "# 遗传算法\n",
    "import numpy as np\n",
    "from deap import base, creator, tools, algorithms\n",
    "import random\n",
    "\n",
    "# 初始化三维矩阵\n",
    "X = np.zeros((100, 50, 50))\n",
    "\n",
    "# 定义选择的数量\n",
    "N = 5000\n",
    "\n",
    "# 定义适应度函数\n",
    "def fitness_function(ind):\n",
    "    # 提取选择的索引\n",
    "    i_ind = ind[:N]\n",
    "    j_ind = ind[N:2*N]\n",
    "    k_ind = ind[2*N:3*N]\n",
    "    \n",
    "    # 计算频数\n",
    "    freq_i = np.bincount(i_ind, minlength=100)\n",
    "    freq_j = np.bincount(j_ind, minlength=50)\n",
    "    freq_k = np.bincount(k_ind, minlength=50)\n",
    "\n",
    "    # 合并频数\n",
    "    combined_freq = np.concatenate((freq_i, freq_j, freq_k))\n",
    "    \n",
    "    # 返回最小频数（作为适应度，取负值进行最大化）\n",
    "    return -np.min(combined_freq),\n",
    "\n",
    "# 遗传算法参数设置\n",
    "creator.create(\"FitnessMin\", base.Fitness, weights=(-1.0,))  # 最小化\n",
    "creator.create(\"Individual\", list, fitness=creator.FitnessMin)\n",
    "\n",
    "toolbox = base.Toolbox()\n",
    "toolbox.register(\"indices\", random.choices, range(100), k=N)  # i 的选择\n",
    "toolbox.register(\"j_indices\", random.choices, range(50), k=N)  # j 的选择\n",
    "toolbox.register(\"k_indices\", random.choices, range(50), k=N)  # k 的选择\n",
    "toolbox.register(\"individual\", tools.initIterate, creator.Individual, \n",
    "                 lambda: toolbox.indices() + toolbox.j_indices() + toolbox.k_indices())\n",
    "toolbox.register(\"population\", tools.initRepeat, list, toolbox.individual)\n",
    "toolbox.register(\"evaluate\", fitness_function)\n",
    "toolbox.register(\"mate\", tools.cxTwoPoint)\n",
    "toolbox.register(\"mutate\", tools.mutFlipBit, indpb=0.1)\n",
    "toolbox.register(\"select\", tools.selTournament, tournsize=3)\n",
    "\n",
    "# 遗传算法执行\n",
    "population = toolbox.population(n=500)  # 种群大小\n",
    "ngen = 100  # 最大迭代次数\n",
    "\n",
    "for gen in range(ngen):\n",
    "    # 选择\n",
    "    offspring = toolbox.select(population, len(population))\n",
    "    offspring = list(map(toolbox.clone, offspring))\n",
    "\n",
    "    # 交叉和变异\n",
    "    for child1, child2 in zip(offspring[::2], offspring[1::2]):\n",
    "        if random.random() < 0.5:  # 交叉概率\n",
    "            toolbox.mate(child1, child2)\n",
    "            del child1.fitness.values\n",
    "            del child2.fitness.values\n",
    "\n",
    "    for mutant in offspring:\n",
    "        if random.random() < 0.3:  # 变异概率\n",
    "            toolbox.mutate(mutant)\n",
    "            del mutant.fitness.values\n",
    "\n",
    "    # 评估新一代个体\n",
    "    invalid_ind = [ind for ind in offspring if not ind.fitness.valid]\n",
    "    fitnesses = map(toolbox.evaluate, invalid_ind)\n",
    "    for ind, fit in zip(invalid_ind, fitnesses):\n",
    "        ind.fitness.values = fit\n",
    "\n",
    "    # 替换种群\n",
    "    population[:] = offspring\n",
    "\n",
    "# 输出最佳解\n",
    "fits = [ind.fitness.values[0] for ind in population]\n",
    "best_idx = np.argmax(fits)\n",
    "best_ind = population[best_idx]\n",
    "\n",
    "# 计算最佳解的最小频数\n",
    "best_freq_i = np.bincount(best_ind[:N], minlength=100)\n",
    "best_freq_j = np.bincount(best_ind[N:2*N], minlength=50)\n",
    "best_freq_k = np.bincount(best_ind[2*N:3*N], minlength=50)\n",
    "combined_best_freq = np.concatenate((best_freq_i, best_freq_j, best_freq_k))\n",
    "min_freq = np.min(combined_best_freq)\n",
    "\n",
    "print(\"最佳最小频数:\", min_freq)"
   ]
  },
  {
   "cell_type": "code",
   "execution_count": 1,
   "metadata": {},
   "outputs": [
    {
     "name": "stdout",
     "output_type": "stream",
     "text": [
      "频数表: [50 50 50 50 50 50 50 50 50 50 50 50 50 50 50 50 50 50 50 50 50 50 50 50\n",
      " 50 50 50 50 50 50 50 50 50 50 50 50 50 50 50 50 50 50 50 50 50 50 50 50\n",
      " 50 50 50 50 50 50 50 50 50 50 50 50 50 50 50 50 50 50 50 50 50 50 50 50\n",
      " 50 50 50 50 50 50 50 50 50 50 50 50 50 50 50 50 50 50 50 50 50 50 42 36\n",
      " 32 30 27 23]\n",
      "最小频数: 23\n"
     ]
    }
   ],
   "source": [
    "import numpy as np\n",
    "import random\n",
    "from itertools import combinations\n",
    "\n",
    "def generate_bibd(v, k, r, lambda_):\n",
    "    \"\"\"生成平衡不重复设计（BIBD）的函数\"\"\"\n",
    "    # v: 总元素数\n",
    "    # k: 每个块的大小\n",
    "    # r: 每个元素的重复次数\n",
    "    # lambda_: 每对元素出现的次数\n",
    "    b = (v * r) // k  # 块的数量\n",
    "    # 生成所有元素的组合\n",
    "    elements = list(range(v))\n",
    "    blocks = []\n",
    "    \n",
    "    for combo in combinations(elements, k):\n",
    "        blocks.append(combo)\n",
    "    \n",
    "    # 过滤出符合 BIBD 条件的块\n",
    "    selected_blocks = []\n",
    "    for block in blocks:\n",
    "        counts = [0] * v\n",
    "        for b in selected_blocks:\n",
    "            for elem in b:\n",
    "                counts[elem] += 1\n",
    "        if all(counts[elem] < r for elem in block):\n",
    "            selected_blocks.append(block)\n",
    "            if len(selected_blocks) == b:\n",
    "                break\n",
    "    \n",
    "    return selected_blocks\n",
    "\n",
    "def select_elements_from_bibd(v, k, r, lambda_, total_selection):\n",
    "    \"\"\"从 BIBD 中选择元素\"\"\"\n",
    "    blocks = generate_bibd(v, k, r, lambda_)\n",
    "    selected_indices = []\n",
    "    \n",
    "    for block in blocks:\n",
    "        selected_indices.extend(random.sample(block, min(k, total_selection - len(selected_indices))))\n",
    "        if len(selected_indices) >= total_selection:\n",
    "            break\n",
    "    \n",
    "    return selected_indices[:total_selection]\n",
    "\n",
    "# 初始化三维矩阵\n",
    "X = np.zeros((100, 50, 50))\n",
    "\n",
    "# 定义选择的参数\n",
    "N = 5000  # 选择的总数\n",
    "v = 100   # 总元素数\n",
    "k = 5     # 每个块的大小\n",
    "r = 50    # 每个元素的重复次数\n",
    "lambda_ = 1  # 每对元素出现的次数\n",
    "\n",
    "# 使用 BIBD 方法选择元素\n",
    "selected_indices = select_elements_from_bibd(v, k, r, lambda_, N)\n",
    "\n",
    "# 计算频数\n",
    "freq = np.bincount(selected_indices, minlength=v)\n",
    "\n",
    "# 输出频数\n",
    "print(\"频数表:\", freq)\n",
    "\n",
    "# 计算最小频数\n",
    "min_freq = np.min(freq)\n",
    "print(\"最小频数:\", min_freq)\n"
   ]
  },
  {
   "cell_type": "code",
   "execution_count": 3,
   "metadata": {},
   "outputs": [],
   "source": [
    "import pandas as pd\n",
    "import numpy as np\n",
    "import random\n",
    "\n",
    "# 初始化三维矩阵\n",
    "X = np.zeros((100, 50, 50))"
   ]
  },
  {
   "cell_type": "code",
   "execution_count": 26,
   "metadata": {},
   "outputs": [],
   "source": [
    "for i in range(100):\n",
    "    for j in range(50):\n",
    "        for k in range(50):\n",
    "            if i == j or j == k or i == k:\n",
    "                X[i,j,k] = 1"
   ]
  },
  {
   "cell_type": "code",
   "execution_count": 30,
   "metadata": {},
   "outputs": [
    {
     "data": {
      "text/plain": [
       "1.0"
      ]
     },
     "execution_count": 30,
     "metadata": {},
     "output_type": "execute_result"
    }
   ],
   "source": [
    "rows = np.sum(X,axis=1)\n",
    "rows.min()"
   ]
  },
  {
   "cell_type": "code",
   "execution_count": null,
   "metadata": {},
   "outputs": [],
   "source": []
  }
 ],
 "metadata": {
  "colab": {
   "authorship_tag": "ABX9TyPe+N//aa5KbuTWHr73U+/2",
   "include_colab_link": true,
   "provenance": []
  },
  "kernelspec": {
   "display_name": "base",
   "language": "python",
   "name": "python3"
  },
  "language_info": {
   "codemirror_mode": {
    "name": "ipython",
    "version": 3
   },
   "file_extension": ".py",
   "mimetype": "text/x-python",
   "name": "python",
   "nbconvert_exporter": "python",
   "pygments_lexer": "ipython3",
   "version": "3.12.4"
  }
 },
 "nbformat": 4,
 "nbformat_minor": 0
}
