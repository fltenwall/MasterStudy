{
 "cells": [
  {
   "cell_type": "code",
   "execution_count": null,
   "metadata": {
    "vscode": {
     "languageId": "plaintext"
    }
   },
   "outputs": [],
   "source": [
    "n = 1000\n",
    "\n",
    "gamma0cancer = runif(5)  # true gamma\n",
    "gamma1cancer = runif(5)\n",
    "gamma0trait = runif(4)\n",
    "gamma1trait = runif(4)"
   ]
  },
  {
   "cell_type": "code",
   "execution_count": null,
   "metadata": {
    "vscode": {
     "languageId": "plaintext"
    }
   },
   "outputs": [],
   "source": [
    "x = rnorm(n)"
   ]
  },
  {
   "cell_type": "code",
   "execution_count": null,
   "metadata": {
    "vscode": {
     "languageId": "plaintext"
    }
   },
   "outputs": [],
   "source": [
    "hcancer = rep(1,n)%*% t(gamma0cancer) + x%*%t(gamma1cancer)"
   ]
  },
  {
   "cell_type": "code",
   "execution_count": null,
   "metadata": {
    "vscode": {
     "languageId": "plaintext"
    }
   },
   "outputs": [],
   "source": [
    "# a = apply(hcancer,1,which.max)\n",
    "a = apply(hcancer,1, function(h){sample(1:5,1,prob=c(1,exp(h)))} )"
   ]
  },
  {
   "cell_type": "code",
   "execution_count": null,
   "metadata": {
    "vscode": {
     "languageId": "plaintext"
    }
   },
   "outputs": [],
   "source": [
    "htrait = rep(1,n)%*% t(gamma0trait) + x%*%t(gamma1trait)"
   ]
  },
  {
   "cell_type": "code",
   "execution_count": null,
   "metadata": {
    "vscode": {
     "languageId": "plaintext"
    }
   },
   "outputs": [],
   "source": [
    "#b = apply(htrait,1,which.max)\n",
    "b = apply(htrait,1, function(h){sample(1:4,1,prob=c(1,exp(h)))} )"
   ]
  },
  {
   "cell_type": "code",
   "execution_count": null,
   "metadata": {
    "vscode": {
     "languageId": "plaintext"
    }
   },
   "outputs": [],
   "source": [
    "alpha0cancer = c(0,runif(5-1)) # true alpha (fix alpha for category 1 at zero to avoid the identification difficulty)\n",
    "alpha1cancer = c(0,runif(5-1))"
   ]
  },
  {
   "cell_type": "code",
   "execution_count": null,
   "metadata": {
    "vscode": {
     "languageId": "plaintext"
    }
   },
   "outputs": [],
   "source": [
    "alpha0trait = c(0,runif(4-1))\n",
    "alpha1trait = c(0,runif(4-1))"
   ]
  },
  {
   "cell_type": "code",
   "execution_count": null,
   "metadata": {
    "vscode": {
     "languageId": "plaintext"
    }
   },
   "outputs": [],
   "source": [
    "y = alpha0cancer[a]+alpha0trait[b]+(alpha1cancer[a]+alpha1trait[b])*x+ 0.01*rnorm(n)"
   ]
  }
 ],
 "metadata": {
  "language_info": {
   "name": "python"
  }
 },
 "nbformat": 4,
 "nbformat_minor": 2
}
