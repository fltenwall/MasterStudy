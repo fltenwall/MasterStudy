{
  "nbformat": 4,
  "nbformat_minor": 0,
  "metadata": {
    "colab": {
      "provenance": [],
      "authorship_tag": "ABX9TyOwy4RbaSjLC7YBqYXKm9T6",
      "include_colab_link": true
    },
    "kernelspec": {
      "name": "python3",
      "display_name": "Python 3"
    },
    "language_info": {
      "name": "python"
    }
  },
  "cells": [
    {
      "cell_type": "markdown",
      "metadata": {
        "id": "view-in-github",
        "colab_type": "text"
      },
      "source": [
        "<a href=\"https://colab.research.google.com/github/fltenwall/MasterStudy/blob/main/Copy_of_select_number_python.ipynb\" target=\"_parent\"><img src=\"https://colab.research.google.com/assets/colab-badge.svg\" alt=\"Open In Colab\"/></a>"
      ]
    },
    {
      "cell_type": "code",
      "execution_count": 100,
      "metadata": {
        "collapsed": true,
        "id": "1Kn-b27Ef3uG"
      },
      "outputs": [],
      "source": [
        "import random\n",
        "import numpy as np\n",
        "\n",
        "def bibd_sample(items, k):\n",
        "    sample = np.copy(items)\n",
        "    first_select = []\n",
        "    second_select = []\n",
        "    third_select = []\n",
        "    # 100維\n",
        "    label = 0\n",
        "    first_dim = 100\n",
        "    second_dim = 50\n",
        "    third_dim = 50\n",
        "    while label < 99:\n",
        "\n",
        "      random_number1 = np.random.randint(0,first_dim-1)\n",
        "\n",
        "      # 第一個隨機數已經產生過，則繼續生成新的隨機數\n",
        "      while random_number1 in first_select and len(first_select) <= first_dim:\n",
        "        random_number1 = np.random.randint(0,first_dim-1)\n",
        "\n",
        "      if len(first_select) <= first_dim:\n",
        "        first_select.append(random_number1)\n",
        "\n",
        "      index2 = 0\n",
        "      while index2 < 5:\n",
        "        random_number2 = np.random.randint(0,second_dim-1)\n",
        "        # 對每一行取出5個樣本，每個樣本本身是50個格子\n",
        "        while random_number2 in second_select and len(second_select) <= 5:\n",
        "          random_number2 = np.random.randint(0,second_dim-1)\n",
        "        if len(second_select) <= 5:\n",
        "          second_select.append(random_number2)\n",
        "\n",
        "          index3 = 0\n",
        "          # 在每一個格子中取出10個樣本\n",
        "          while index3 < 10:\n",
        "            random_number3 = np.random.randint(0,third_dim-1)\n",
        "            while random_number3 in third_select and len(third_select) <= 10:\n",
        "              random_number3 = np.random.randint(0,third_dim-1)\n",
        "            sample[random_number1][random_number2][random_number3][3] = 1\n",
        "            index3 = index3 + 1\n",
        "          third_select = [] # 重置\n",
        "\n",
        "        index2 = index2 + 1\n",
        "      second_select = []\n",
        "\n",
        "      label = label + 1\n",
        "    return sample\n",
        "\n",
        "items = []\n",
        "for i in range(100):\n",
        "  arr1 = []\n",
        "  for j in range(50):\n",
        "    arr2 = []\n",
        "    for k in range(50):\n",
        "      arr2.append([i, j, k, 0])\n",
        "    # 隨機打亂術組\n",
        "    #random.shuffle(arr2)\n",
        "    arr1.append(arr2)\n",
        "  # 隨機打亂術組\n",
        "  #random.shuffle(arr1)\n",
        "  items.append(arr1)\n",
        "# 隨機打亂術組\n",
        "#items = random.shuffle(items)\n",
        "\n",
        "k = 10000  # 我们需要抽取10000个样本\n",
        "sample = bibd_sample(items, k)\n",
        "\n"
      ]
    },
    {
      "cell_type": "code",
      "source": [
        "# expend\n",
        "result = [k for i in sample for j in i for k in j]"
      ],
      "metadata": {
        "collapsed": true,
        "id": "cHJ6ScO9u68n"
      },
      "execution_count": 101,
      "outputs": []
    },
    {
      "cell_type": "code",
      "source": [
        "len(result)"
      ],
      "metadata": {
        "colab": {
          "base_uri": "https://localhost:8080/"
        },
        "id": "bTLLaod7z066",
        "outputId": "47c040f3-a83a-4189-d142-b9cc8c8865d5"
      },
      "execution_count": 71,
      "outputs": [
        {
          "output_type": "execute_result",
          "data": {
            "text/plain": [
              "250000"
            ]
          },
          "metadata": {},
          "execution_count": 71
        }
      ]
    },
    {
      "cell_type": "code",
      "source": [
        "x1 = 0\n",
        "for i in range(99):\n",
        "  for item in result:\n",
        "    if(item[0] == i):\n",
        "      x1 = x1 + item[3]\n",
        "print(x1)"
      ],
      "metadata": {
        "colab": {
          "base_uri": "https://localhost:8080/"
        },
        "id": "QcFDkm63tYVM",
        "outputId": "cabf55b6-90aa-4f50-f78c-f2f555d8de5f"
      },
      "execution_count": 103,
      "outputs": [
        {
          "output_type": "stream",
          "name": "stdout",
          "text": [
            "4543\n"
          ]
        }
      ]
    },
    {
      "cell_type": "code",
      "source": [
        "x2 = 0\n",
        "for i in range(50):\n",
        "  for item in result:\n",
        "    if(item[1] == i):\n",
        "      x2 = x2 + item[3]\n",
        "print(x2)"
      ],
      "metadata": {
        "colab": {
          "base_uri": "https://localhost:8080/"
        },
        "id": "IrJEgyn6xTK8",
        "outputId": "16e4b88d-e65e-40ab-c0fa-a5f65a8c07a6"
      },
      "execution_count": 99,
      "outputs": [
        {
          "output_type": "stream",
          "name": "stdout",
          "text": [
            "4495\n"
          ]
        }
      ]
    },
    {
      "cell_type": "code",
      "source": [
        "x3 = 0\n",
        "for i in range(50):\n",
        "  for item in result:\n",
        "    if(item[2] == i):\n",
        "      x3 = x3 + item[3]\n",
        "print(x3)"
      ],
      "metadata": {
        "colab": {
          "base_uri": "https://localhost:8080/"
        },
        "id": "q2BUVk5NxXml",
        "outputId": "1dda76c6-aac3-43e9-9790-8d32f6f7c219"
      },
      "execution_count": 98,
      "outputs": [
        {
          "output_type": "stream",
          "name": "stdout",
          "text": [
            "4495\n"
          ]
        }
      ]
    },
    {
      "cell_type": "code",
      "source": [
        "x4 = 0\n",
        "for item in result:\n",
        "    x4 = x4 + item[3]\n",
        "    # print(item)\n",
        "print(x4)"
      ],
      "metadata": {
        "colab": {
          "base_uri": "https://localhost:8080/"
        },
        "id": "1iZfhx1RACbG",
        "outputId": "8d3f53e5-cbe0-4c43-f8c8-9efedf1c839d"
      },
      "execution_count": 102,
      "outputs": [
        {
          "output_type": "stream",
          "name": "stdout",
          "text": [
            "4543\n"
          ]
        }
      ]
    },
    {
      "cell_type": "code",
      "source": [
        "items = []\n",
        "for i in range(100):\n",
        "  arr1 = []\n",
        "  for j in range(100):\n",
        "    arr2 = []\n",
        "    for k in range(100):\n",
        "      arr2.append([i, j, k, 0])\n",
        "    arr1.append(arr2)\n",
        "  items.append(arr1)\n",
        "sample = np.copy(items)\n",
        "sample"
      ],
      "metadata": {
        "colab": {
          "base_uri": "https://localhost:8080/"
        },
        "id": "Opy5kJ4NkIQ1",
        "outputId": "974f36d4-4bde-46e1-f967-5cb6a1a690d1"
      },
      "execution_count": 60,
      "outputs": [
        {
          "output_type": "execute_result",
          "data": {
            "text/plain": [
              "array([[[[ 0,  0,  0,  0],\n",
              "         [ 0,  0,  1,  0],\n",
              "         [ 0,  0,  2,  0],\n",
              "         ...,\n",
              "         [ 0,  0, 97,  0],\n",
              "         [ 0,  0, 98,  0],\n",
              "         [ 0,  0, 99,  0]],\n",
              "\n",
              "        [[ 0,  1,  0,  0],\n",
              "         [ 0,  1,  1,  0],\n",
              "         [ 0,  1,  2,  0],\n",
              "         ...,\n",
              "         [ 0,  1, 97,  0],\n",
              "         [ 0,  1, 98,  0],\n",
              "         [ 0,  1, 99,  0]],\n",
              "\n",
              "        [[ 0,  2,  0,  0],\n",
              "         [ 0,  2,  1,  0],\n",
              "         [ 0,  2,  2,  0],\n",
              "         ...,\n",
              "         [ 0,  2, 97,  0],\n",
              "         [ 0,  2, 98,  0],\n",
              "         [ 0,  2, 99,  0]],\n",
              "\n",
              "        ...,\n",
              "\n",
              "        [[ 0, 97,  0,  0],\n",
              "         [ 0, 97,  1,  0],\n",
              "         [ 0, 97,  2,  0],\n",
              "         ...,\n",
              "         [ 0, 97, 97,  0],\n",
              "         [ 0, 97, 98,  0],\n",
              "         [ 0, 97, 99,  0]],\n",
              "\n",
              "        [[ 0, 98,  0,  0],\n",
              "         [ 0, 98,  1,  0],\n",
              "         [ 0, 98,  2,  0],\n",
              "         ...,\n",
              "         [ 0, 98, 97,  0],\n",
              "         [ 0, 98, 98,  0],\n",
              "         [ 0, 98, 99,  0]],\n",
              "\n",
              "        [[ 0, 99,  0,  0],\n",
              "         [ 0, 99,  1,  0],\n",
              "         [ 0, 99,  2,  0],\n",
              "         ...,\n",
              "         [ 0, 99, 97,  0],\n",
              "         [ 0, 99, 98,  0],\n",
              "         [ 0, 99, 99,  0]]],\n",
              "\n",
              "\n",
              "       [[[ 1,  0,  0,  0],\n",
              "         [ 1,  0,  1,  0],\n",
              "         [ 1,  0,  2,  0],\n",
              "         ...,\n",
              "         [ 1,  0, 97,  0],\n",
              "         [ 1,  0, 98,  0],\n",
              "         [ 1,  0, 99,  0]],\n",
              "\n",
              "        [[ 1,  1,  0,  0],\n",
              "         [ 1,  1,  1,  0],\n",
              "         [ 1,  1,  2,  0],\n",
              "         ...,\n",
              "         [ 1,  1, 97,  0],\n",
              "         [ 1,  1, 98,  0],\n",
              "         [ 1,  1, 99,  0]],\n",
              "\n",
              "        [[ 1,  2,  0,  0],\n",
              "         [ 1,  2,  1,  0],\n",
              "         [ 1,  2,  2,  0],\n",
              "         ...,\n",
              "         [ 1,  2, 97,  0],\n",
              "         [ 1,  2, 98,  0],\n",
              "         [ 1,  2, 99,  0]],\n",
              "\n",
              "        ...,\n",
              "\n",
              "        [[ 1, 97,  0,  0],\n",
              "         [ 1, 97,  1,  0],\n",
              "         [ 1, 97,  2,  0],\n",
              "         ...,\n",
              "         [ 1, 97, 97,  0],\n",
              "         [ 1, 97, 98,  0],\n",
              "         [ 1, 97, 99,  0]],\n",
              "\n",
              "        [[ 1, 98,  0,  0],\n",
              "         [ 1, 98,  1,  0],\n",
              "         [ 1, 98,  2,  0],\n",
              "         ...,\n",
              "         [ 1, 98, 97,  0],\n",
              "         [ 1, 98, 98,  0],\n",
              "         [ 1, 98, 99,  0]],\n",
              "\n",
              "        [[ 1, 99,  0,  0],\n",
              "         [ 1, 99,  1,  0],\n",
              "         [ 1, 99,  2,  0],\n",
              "         ...,\n",
              "         [ 1, 99, 97,  0],\n",
              "         [ 1, 99, 98,  0],\n",
              "         [ 1, 99, 99,  0]]],\n",
              "\n",
              "\n",
              "       [[[ 2,  0,  0,  0],\n",
              "         [ 2,  0,  1,  0],\n",
              "         [ 2,  0,  2,  0],\n",
              "         ...,\n",
              "         [ 2,  0, 97,  0],\n",
              "         [ 2,  0, 98,  0],\n",
              "         [ 2,  0, 99,  0]],\n",
              "\n",
              "        [[ 2,  1,  0,  0],\n",
              "         [ 2,  1,  1,  0],\n",
              "         [ 2,  1,  2,  0],\n",
              "         ...,\n",
              "         [ 2,  1, 97,  0],\n",
              "         [ 2,  1, 98,  0],\n",
              "         [ 2,  1, 99,  0]],\n",
              "\n",
              "        [[ 2,  2,  0,  0],\n",
              "         [ 2,  2,  1,  0],\n",
              "         [ 2,  2,  2,  0],\n",
              "         ...,\n",
              "         [ 2,  2, 97,  0],\n",
              "         [ 2,  2, 98,  0],\n",
              "         [ 2,  2, 99,  0]],\n",
              "\n",
              "        ...,\n",
              "\n",
              "        [[ 2, 97,  0,  0],\n",
              "         [ 2, 97,  1,  0],\n",
              "         [ 2, 97,  2,  0],\n",
              "         ...,\n",
              "         [ 2, 97, 97,  0],\n",
              "         [ 2, 97, 98,  0],\n",
              "         [ 2, 97, 99,  0]],\n",
              "\n",
              "        [[ 2, 98,  0,  0],\n",
              "         [ 2, 98,  1,  0],\n",
              "         [ 2, 98,  2,  0],\n",
              "         ...,\n",
              "         [ 2, 98, 97,  0],\n",
              "         [ 2, 98, 98,  0],\n",
              "         [ 2, 98, 99,  0]],\n",
              "\n",
              "        [[ 2, 99,  0,  0],\n",
              "         [ 2, 99,  1,  0],\n",
              "         [ 2, 99,  2,  0],\n",
              "         ...,\n",
              "         [ 2, 99, 97,  0],\n",
              "         [ 2, 99, 98,  0],\n",
              "         [ 2, 99, 99,  0]]],\n",
              "\n",
              "\n",
              "       ...,\n",
              "\n",
              "\n",
              "       [[[97,  0,  0,  0],\n",
              "         [97,  0,  1,  0],\n",
              "         [97,  0,  2,  0],\n",
              "         ...,\n",
              "         [97,  0, 97,  0],\n",
              "         [97,  0, 98,  0],\n",
              "         [97,  0, 99,  0]],\n",
              "\n",
              "        [[97,  1,  0,  0],\n",
              "         [97,  1,  1,  0],\n",
              "         [97,  1,  2,  0],\n",
              "         ...,\n",
              "         [97,  1, 97,  0],\n",
              "         [97,  1, 98,  0],\n",
              "         [97,  1, 99,  0]],\n",
              "\n",
              "        [[97,  2,  0,  0],\n",
              "         [97,  2,  1,  0],\n",
              "         [97,  2,  2,  0],\n",
              "         ...,\n",
              "         [97,  2, 97,  0],\n",
              "         [97,  2, 98,  0],\n",
              "         [97,  2, 99,  0]],\n",
              "\n",
              "        ...,\n",
              "\n",
              "        [[97, 97,  0,  0],\n",
              "         [97, 97,  1,  0],\n",
              "         [97, 97,  2,  0],\n",
              "         ...,\n",
              "         [97, 97, 97,  0],\n",
              "         [97, 97, 98,  0],\n",
              "         [97, 97, 99,  0]],\n",
              "\n",
              "        [[97, 98,  0,  0],\n",
              "         [97, 98,  1,  0],\n",
              "         [97, 98,  2,  0],\n",
              "         ...,\n",
              "         [97, 98, 97,  0],\n",
              "         [97, 98, 98,  0],\n",
              "         [97, 98, 99,  0]],\n",
              "\n",
              "        [[97, 99,  0,  0],\n",
              "         [97, 99,  1,  0],\n",
              "         [97, 99,  2,  0],\n",
              "         ...,\n",
              "         [97, 99, 97,  0],\n",
              "         [97, 99, 98,  0],\n",
              "         [97, 99, 99,  0]]],\n",
              "\n",
              "\n",
              "       [[[98,  0,  0,  0],\n",
              "         [98,  0,  1,  0],\n",
              "         [98,  0,  2,  0],\n",
              "         ...,\n",
              "         [98,  0, 97,  0],\n",
              "         [98,  0, 98,  0],\n",
              "         [98,  0, 99,  0]],\n",
              "\n",
              "        [[98,  1,  0,  0],\n",
              "         [98,  1,  1,  0],\n",
              "         [98,  1,  2,  0],\n",
              "         ...,\n",
              "         [98,  1, 97,  0],\n",
              "         [98,  1, 98,  0],\n",
              "         [98,  1, 99,  0]],\n",
              "\n",
              "        [[98,  2,  0,  0],\n",
              "         [98,  2,  1,  0],\n",
              "         [98,  2,  2,  0],\n",
              "         ...,\n",
              "         [98,  2, 97,  0],\n",
              "         [98,  2, 98,  0],\n",
              "         [98,  2, 99,  0]],\n",
              "\n",
              "        ...,\n",
              "\n",
              "        [[98, 97,  0,  0],\n",
              "         [98, 97,  1,  0],\n",
              "         [98, 97,  2,  0],\n",
              "         ...,\n",
              "         [98, 97, 97,  0],\n",
              "         [98, 97, 98,  0],\n",
              "         [98, 97, 99,  0]],\n",
              "\n",
              "        [[98, 98,  0,  0],\n",
              "         [98, 98,  1,  0],\n",
              "         [98, 98,  2,  0],\n",
              "         ...,\n",
              "         [98, 98, 97,  0],\n",
              "         [98, 98, 98,  0],\n",
              "         [98, 98, 99,  0]],\n",
              "\n",
              "        [[98, 99,  0,  0],\n",
              "         [98, 99,  1,  0],\n",
              "         [98, 99,  2,  0],\n",
              "         ...,\n",
              "         [98, 99, 97,  0],\n",
              "         [98, 99, 98,  0],\n",
              "         [98, 99, 99,  0]]],\n",
              "\n",
              "\n",
              "       [[[99,  0,  0,  0],\n",
              "         [99,  0,  1,  0],\n",
              "         [99,  0,  2,  0],\n",
              "         ...,\n",
              "         [99,  0, 97,  0],\n",
              "         [99,  0, 98,  0],\n",
              "         [99,  0, 99,  0]],\n",
              "\n",
              "        [[99,  1,  0,  0],\n",
              "         [99,  1,  1,  0],\n",
              "         [99,  1,  2,  0],\n",
              "         ...,\n",
              "         [99,  1, 97,  0],\n",
              "         [99,  1, 98,  0],\n",
              "         [99,  1, 99,  0]],\n",
              "\n",
              "        [[99,  2,  0,  0],\n",
              "         [99,  2,  1,  0],\n",
              "         [99,  2,  2,  0],\n",
              "         ...,\n",
              "         [99,  2, 97,  0],\n",
              "         [99,  2, 98,  0],\n",
              "         [99,  2, 99,  0]],\n",
              "\n",
              "        ...,\n",
              "\n",
              "        [[99, 97,  0,  0],\n",
              "         [99, 97,  1,  0],\n",
              "         [99, 97,  2,  0],\n",
              "         ...,\n",
              "         [99, 97, 97,  0],\n",
              "         [99, 97, 98,  0],\n",
              "         [99, 97, 99,  0]],\n",
              "\n",
              "        [[99, 98,  0,  0],\n",
              "         [99, 98,  1,  0],\n",
              "         [99, 98,  2,  0],\n",
              "         ...,\n",
              "         [99, 98, 97,  0],\n",
              "         [99, 98, 98,  0],\n",
              "         [99, 98, 99,  0]],\n",
              "\n",
              "        [[99, 99,  0,  0],\n",
              "         [99, 99,  1,  0],\n",
              "         [99, 99,  2,  0],\n",
              "         ...,\n",
              "         [99, 99, 97,  0],\n",
              "         [99, 99, 98,  0],\n",
              "         [99, 99, 99,  0]]]])"
            ]
          },
          "metadata": {},
          "execution_count": 60
        }
      ]
    },
    {
      "cell_type": "code",
      "source": [],
      "metadata": {
        "id": "3HbENr8Ervc5"
      },
      "execution_count": null,
      "outputs": []
    }
  ]
}