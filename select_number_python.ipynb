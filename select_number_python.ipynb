{
  "nbformat": 4,
  "nbformat_minor": 0,
  "metadata": {
    "colab": {
      "provenance": [],
      "authorship_tag": "ABX9TyOURGks0fsj3laWzb3RSQtQ",
      "include_colab_link": true
    },
    "kernelspec": {
      "name": "python3",
      "display_name": "Python 3"
    },
    "language_info": {
      "name": "python"
    }
  },
  "cells": [
    {
      "cell_type": "markdown",
      "metadata": {
        "id": "view-in-github",
        "colab_type": "text"
      },
      "source": [
        "<a href=\"https://colab.research.google.com/github/fltenwall/MasterStudy/blob/main/select_number_python.ipynb\" target=\"_parent\"><img src=\"https://colab.research.google.com/assets/colab-badge.svg\" alt=\"Open In Colab\"/></a>"
      ]
    },
    {
      "cell_type": "code",
      "execution_count": 44,
      "metadata": {
        "collapsed": true,
        "id": "1Kn-b27Ef3uG"
      },
      "outputs": [],
      "source": [
        "import random\n",
        "import numpy as np\n",
        "\n",
        "def bibd_sample(items, k, seed=None):\n",
        "    if seed:\n",
        "        random.seed(seed)\n",
        "    sample = np.copy(items)\n",
        "\n",
        "    label = 0\n",
        "    first_select = []\n",
        "    second_select = []\n",
        "    third_select = []\n",
        "    while label < 99:\n",
        "      random_number1 = np.random.randint(0,99)\n",
        "      random_number2 = np.random.randint(0,99)\n",
        "      random_number3 = np.random.randint(0,99)\n",
        "      # 第一個隨機數已經產生過，則繼續生成新的隨機數\n",
        "      while random_number1 in first_select and len(first_select) < 100:\n",
        "        random_number1 = np.random.randint(0,99)\n",
        "\n",
        "      if len(first_select) < 100:\n",
        "        first_select.append(random_number1)\n",
        "      else:\n",
        "        break\n",
        "\n",
        "      index = 0\n",
        "      while index < 100:\n",
        "        while random_number2 in second_select and len(second_select) < 10:\n",
        "          random_number2 = np.random.randint(0,99)\n",
        "          index3 = 0\n",
        "          while random_number3 in third_select and len(third_select) < 10:\n",
        "            random_number3 = np.random.randint(0,99)\n",
        "          sample[random_number1][random_number2][random_number3][3] = 1\n",
        "          index3 = index3 + 1\n",
        "\n",
        "          # sample[random_number1][random_number2] = 1\n",
        "        index = index + 1\n",
        "        if len(second_select) < 100:\n",
        "          second_select.append(random_number2)\n",
        "        else:\n",
        "          break\n",
        "        second_select.append(random_number2)\n",
        "      second_select = []\n",
        "      label = label + 1\n",
        "    return sample\n",
        "\n",
        "# items = [[[0]]*10000 for i in range(100)]\n",
        "# items = [[i,j,k,0] for i in range(100) for j in range(100) for k in range(100)]  # 假设有一个包含1000000个元素的集合\n",
        "\n",
        "items = []\n",
        "for i in range(100):\n",
        "  arr1 = []\n",
        "  for j in range(100):\n",
        "    arr2 = []\n",
        "    for k in range(100):\n",
        "      arr2.append([i, j, k, 0])\n",
        "    arr1.append(arr2)\n",
        "  items.append(arr1)\n",
        "\n",
        "k = 10000  # 我们需要抽取10000个样本\n",
        "sample = bibd_sample(items, k)\n",
        "\n"
      ]
    },
    {
      "cell_type": "code",
      "source": [
        "# expend\n",
        "result = [k for i in sample for j in i for k in j]"
      ],
      "metadata": {
        "collapsed": true,
        "id": "cHJ6ScO9u68n"
      },
      "execution_count": 45,
      "outputs": []
    },
    {
      "cell_type": "code",
      "source": [
        "len(result)"
      ],
      "metadata": {
        "colab": {
          "base_uri": "https://localhost:8080/"
        },
        "id": "bTLLaod7z066",
        "outputId": "3f157d6e-985a-4c6f-d449-c64d6154f4c2"
      },
      "execution_count": 47,
      "outputs": [
        {
          "output_type": "execute_result",
          "data": {
            "text/plain": [
              "1000000"
            ]
          },
          "metadata": {},
          "execution_count": 47
        }
      ]
    },
    {
      "cell_type": "code",
      "source": [
        "x1 = 0\n",
        "for i in range(99):\n",
        "  for item in result:\n",
        "    if(item[0] == i):\n",
        "      x1 = x1 + item[3]\n",
        "print(x1)"
      ],
      "metadata": {
        "colab": {
          "base_uri": "https://localhost:8080/"
        },
        "id": "QcFDkm63tYVM",
        "outputId": "8879e3a3-afb7-42aa-8975-3bbc9d12c44c"
      },
      "execution_count": 48,
      "outputs": [
        {
          "output_type": "stream",
          "name": "stdout",
          "text": [
            "398\n"
          ]
        }
      ]
    },
    {
      "cell_type": "code",
      "source": [
        "x2 = 0\n",
        "for i in range(99):\n",
        "  for item in result:\n",
        "    if(item[1] == i):\n",
        "      x2 = x2 + item[3]\n",
        "print(x2)"
      ],
      "metadata": {
        "colab": {
          "base_uri": "https://localhost:8080/"
        },
        "id": "IrJEgyn6xTK8",
        "outputId": "ecc5e35f-b053-4cc2-f1e2-83871a757d73"
      },
      "execution_count": 49,
      "outputs": [
        {
          "output_type": "stream",
          "name": "stdout",
          "text": [
            "398\n"
          ]
        }
      ]
    },
    {
      "cell_type": "code",
      "source": [
        "x3 = 0\n",
        "for i in range(99):\n",
        "  for item in result:\n",
        "    if(item[1] == i):\n",
        "      x3 = x3 + item[3]\n",
        "print(x3)"
      ],
      "metadata": {
        "colab": {
          "base_uri": "https://localhost:8080/"
        },
        "id": "q2BUVk5NxXml",
        "outputId": "8862561d-846e-44c9-a99a-edaed1688092"
      },
      "execution_count": 50,
      "outputs": [
        {
          "output_type": "stream",
          "name": "stdout",
          "text": [
            "398\n"
          ]
        }
      ]
    },
    {
      "cell_type": "code",
      "source": [
        "items = []\n",
        "for i in range(100):\n",
        "  arr1 = []\n",
        "  for j in range(100):\n",
        "    arr2 = []\n",
        "    for k in range(100):\n",
        "      arr2.append([i, j, k, 0])\n",
        "    arr1.append(arr2)\n",
        "  items.append(arr1)\n",
        "items[0][0][0][0]"
      ],
      "metadata": {
        "colab": {
          "base_uri": "https://localhost:8080/"
        },
        "id": "Opy5kJ4NkIQ1",
        "outputId": "a05902f3-0ea0-49dd-faa7-c1071cc123ee"
      },
      "execution_count": 42,
      "outputs": [
        {
          "output_type": "execute_result",
          "data": {
            "text/plain": [
              "0"
            ]
          },
          "metadata": {},
          "execution_count": 42
        }
      ]
    },
    {
      "cell_type": "code",
      "source": [],
      "metadata": {
        "id": "3HbENr8Ervc5"
      },
      "execution_count": null,
      "outputs": []
    }
  ]
}