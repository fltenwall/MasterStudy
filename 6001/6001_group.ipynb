{
 "cells": [
  {
   "cell_type": "code",
   "execution_count": 4,
   "metadata": {},
   "outputs": [],
   "source": [
    "import numpy as np\n",
    "import pandas as pd"
   ]
  },
  {
   "cell_type": "code",
   "execution_count": 64,
   "metadata": {},
   "outputs": [],
   "source": [
    "path = './datasets/HKMO_Award_List/'"
   ]
  },
  {
   "cell_type": "code",
   "execution_count": 65,
   "metadata": {},
   "outputs": [],
   "source": [
    "HKMO_Award_List_2024 = pd.read_csv(path + 'HKMO_Award_List_2024.csv', delimiter='\t')\n",
    "HKMO_Award_List_2024_schools = HKMO_Award_List_2024['就讀學校'].value_counts()\n",
    "\n",
    "HKMO_Award_List_2023 = pd.read_csv(path + 'HKMO_Award_List_2023.csv', delimiter='\t')\n",
    "HKMO_Award_List_2023_schools = HKMO_Award_List_2023['就讀學校'].value_counts()\n",
    "\n",
    "HKMO_Award_List_2022 = pd.read_csv(path + 'HKMO_Award_List_2022.csv', delimiter='\t')\n",
    "HKMO_Award_List_2022_schools = HKMO_Award_List_2022['學校編號'].value_counts()\n",
    "\n",
    "HKMO_Award_List_2021 = pd.read_csv(path + 'HKMO_Award_List_2021.csv', delimiter='\t')\n",
    "HKMO_Award_List_2021_schools = HKMO_Award_List_2021['學校編號'].value_counts()"
   ]
  },
  {
   "cell_type": "code",
   "execution_count": 66,
   "metadata": {},
   "outputs": [
    {
     "data": {
      "text/html": [
       "<div>\n",
       "<style scoped>\n",
       "    .dataframe tbody tr th:only-of-type {\n",
       "        vertical-align: middle;\n",
       "    }\n",
       "\n",
       "    .dataframe tbody tr th {\n",
       "        vertical-align: top;\n",
       "    }\n",
       "\n",
       "    .dataframe thead th {\n",
       "        text-align: right;\n",
       "    }\n",
       "</style>\n",
       "<table border=\"1\" class=\"dataframe\">\n",
       "  <thead>\n",
       "    <tr style=\"text-align: right;\">\n",
       "      <th></th>\n",
       "      <th>School Code</th>\n",
       "      <th>2024</th>\n",
       "      <th>2023</th>\n",
       "      <th>2022</th>\n",
       "      <th>2021</th>\n",
       "    </tr>\n",
       "  </thead>\n",
       "  <tbody>\n",
       "    <tr>\n",
       "      <th>0</th>\n",
       "      <td>AP0409</td>\n",
       "      <td>27.0</td>\n",
       "      <td>6.0</td>\n",
       "      <td>1.0</td>\n",
       "      <td>6.0</td>\n",
       "    </tr>\n",
       "    <tr>\n",
       "      <th>1</th>\n",
       "      <td>AP0301</td>\n",
       "      <td>15.0</td>\n",
       "      <td>3.0</td>\n",
       "      <td>0.0</td>\n",
       "      <td>6.0</td>\n",
       "    </tr>\n",
       "    <tr>\n",
       "      <th>2</th>\n",
       "      <td>AP0118</td>\n",
       "      <td>14.0</td>\n",
       "      <td>31.0</td>\n",
       "      <td>6.0</td>\n",
       "      <td>10.0</td>\n",
       "    </tr>\n",
       "    <tr>\n",
       "      <th>3</th>\n",
       "      <td>AP0544</td>\n",
       "      <td>14.0</td>\n",
       "      <td>13.0</td>\n",
       "      <td>0.0</td>\n",
       "      <td>4.0</td>\n",
       "    </tr>\n",
       "    <tr>\n",
       "      <th>4</th>\n",
       "      <td>AP0653</td>\n",
       "      <td>13.0</td>\n",
       "      <td>9.0</td>\n",
       "      <td>4.0</td>\n",
       "      <td>8.0</td>\n",
       "    </tr>\n",
       "    <tr>\n",
       "      <th>...</th>\n",
       "      <td>...</td>\n",
       "      <td>...</td>\n",
       "      <td>...</td>\n",
       "      <td>...</td>\n",
       "      <td>...</td>\n",
       "    </tr>\n",
       "    <tr>\n",
       "      <th>535</th>\n",
       "      <td>AP0078</td>\n",
       "      <td>0.0</td>\n",
       "      <td>0.0</td>\n",
       "      <td>0.0</td>\n",
       "      <td>1.0</td>\n",
       "    </tr>\n",
       "    <tr>\n",
       "      <th>536</th>\n",
       "      <td>AP0595</td>\n",
       "      <td>0.0</td>\n",
       "      <td>0.0</td>\n",
       "      <td>0.0</td>\n",
       "      <td>1.0</td>\n",
       "    </tr>\n",
       "    <tr>\n",
       "      <th>537</th>\n",
       "      <td>AP0370</td>\n",
       "      <td>0.0</td>\n",
       "      <td>0.0</td>\n",
       "      <td>0.0</td>\n",
       "      <td>1.0</td>\n",
       "    </tr>\n",
       "    <tr>\n",
       "      <th>538</th>\n",
       "      <td>AP0148</td>\n",
       "      <td>0.0</td>\n",
       "      <td>0.0</td>\n",
       "      <td>0.0</td>\n",
       "      <td>1.0</td>\n",
       "    </tr>\n",
       "    <tr>\n",
       "      <th>539</th>\n",
       "      <td>AS0146</td>\n",
       "      <td>0.0</td>\n",
       "      <td>0.0</td>\n",
       "      <td>0.0</td>\n",
       "      <td>1.0</td>\n",
       "    </tr>\n",
       "  </tbody>\n",
       "</table>\n",
       "<p>540 rows × 5 columns</p>\n",
       "</div>"
      ],
      "text/plain": [
       "    School Code  2024  2023  2022  2021\n",
       "0        AP0409  27.0   6.0   1.0   6.0\n",
       "1        AP0301  15.0   3.0   0.0   6.0\n",
       "2        AP0118  14.0  31.0   6.0  10.0\n",
       "3        AP0544  14.0  13.0   0.0   4.0\n",
       "4        AP0653  13.0   9.0   4.0   8.0\n",
       "..          ...   ...   ...   ...   ...\n",
       "535      AP0078   0.0   0.0   0.0   1.0\n",
       "536      AP0595   0.0   0.0   0.0   1.0\n",
       "537      AP0370   0.0   0.0   0.0   1.0\n",
       "538      AP0148   0.0   0.0   0.0   1.0\n",
       "539      AS0146   0.0   0.0   0.0   1.0\n",
       "\n",
       "[540 rows x 5 columns]"
      ]
     },
     "execution_count": 66,
     "metadata": {},
     "output_type": "execute_result"
    }
   ],
   "source": [
    "HKMO_Award_List = pd.concat([HKMO_Award_List_2024_schools, HKMO_Award_List_2023_schools, HKMO_Award_List_2022_schools,HKMO_Award_List_2021_schools], axis=1,ignore_index=True)\n",
    "HKMO_Award_List.columns = ['2024','2023','2022','2021']\n",
    "HKMO_Award_List.values[HKMO_Award_List.isna()] = 0\n",
    "HKMO_Award_List.reset_index(inplace=True)\n",
    "HKMO_Award_List.rename(columns={'index': 'School Code'}, inplace=True)\n",
    "HKMO_Award_List"
   ]
  },
  {
   "cell_type": "code",
   "execution_count": 67,
   "metadata": {},
   "outputs": [
    {
     "data": {
      "text/html": [
       "<div>\n",
       "<style scoped>\n",
       "    .dataframe tbody tr th:only-of-type {\n",
       "        vertical-align: middle;\n",
       "    }\n",
       "\n",
       "    .dataframe tbody tr th {\n",
       "        vertical-align: top;\n",
       "    }\n",
       "\n",
       "    .dataframe thead th {\n",
       "        text-align: right;\n",
       "    }\n",
       "</style>\n",
       "<table border=\"1\" class=\"dataframe\">\n",
       "  <thead>\n",
       "    <tr style=\"text-align: right;\">\n",
       "      <th></th>\n",
       "      <th>Unnamed: 0</th>\n",
       "      <th>District</th>\n",
       "      <th>Sub_District</th>\n",
       "      <th>School Code</th>\n",
       "      <th>School Name</th>\n",
       "    </tr>\n",
       "  </thead>\n",
       "  <tbody>\n",
       "    <tr>\n",
       "      <th>0</th>\n",
       "      <td>0</td>\n",
       "      <td>港島</td>\n",
       "      <td>中西區</td>\n",
       "      <td>AP0159</td>\n",
       "      <td>己連拿小學</td>\n",
       "    </tr>\n",
       "    <tr>\n",
       "      <th>1</th>\n",
       "      <td>1</td>\n",
       "      <td>港島</td>\n",
       "      <td>中西區</td>\n",
       "      <td>AP0078</td>\n",
       "      <td>中西區聖安多尼學校</td>\n",
       "    </tr>\n",
       "    <tr>\n",
       "      <th>2</th>\n",
       "      <td>2</td>\n",
       "      <td>港島</td>\n",
       "      <td>中西區</td>\n",
       "      <td>AP0052</td>\n",
       "      <td>天主教總堂區學校</td>\n",
       "    </tr>\n",
       "    <tr>\n",
       "      <th>3</th>\n",
       "      <td>3</td>\n",
       "      <td>港島</td>\n",
       "      <td>中西區</td>\n",
       "      <td>AP0311</td>\n",
       "      <td>李陞小學</td>\n",
       "    </tr>\n",
       "    <tr>\n",
       "      <th>4</th>\n",
       "      <td>4</td>\n",
       "      <td>港島</td>\n",
       "      <td>中西區</td>\n",
       "      <td>AP0280</td>\n",
       "      <td>英皇書院同學會小學</td>\n",
       "    </tr>\n",
       "    <tr>\n",
       "      <th>...</th>\n",
       "      <td>...</td>\n",
       "      <td>...</td>\n",
       "      <td>...</td>\n",
       "      <td>...</td>\n",
       "      <td>...</td>\n",
       "    </tr>\n",
       "    <tr>\n",
       "      <th>576</th>\n",
       "      <td>576</td>\n",
       "      <td>新界</td>\n",
       "      <td>西貢區</td>\n",
       "      <td>AP0319</td>\n",
       "      <td>樂善堂劉德學校</td>\n",
       "    </tr>\n",
       "    <tr>\n",
       "      <th>577</th>\n",
       "      <td>577</td>\n",
       "      <td>新界</td>\n",
       "      <td>西貢區</td>\n",
       "      <td>AP0693</td>\n",
       "      <td>樹宏學校</td>\n",
       "    </tr>\n",
       "    <tr>\n",
       "      <th>578</th>\n",
       "      <td>578</td>\n",
       "      <td>新界</td>\n",
       "      <td>西貢區</td>\n",
       "      <td>AP0153</td>\n",
       "      <td>優才（楊殷有娣）書院</td>\n",
       "    </tr>\n",
       "    <tr>\n",
       "      <th>579</th>\n",
       "      <td>579</td>\n",
       "      <td>新界</td>\n",
       "      <td>西貢區</td>\n",
       "      <td>AP0714</td>\n",
       "      <td>思貝禮國際學校</td>\n",
       "    </tr>\n",
       "    <tr>\n",
       "      <th>580</th>\n",
       "      <td>580</td>\n",
       "      <td>新界</td>\n",
       "      <td>西貢區</td>\n",
       "      <td>AP0719</td>\n",
       "      <td>茵維特(香港)學校</td>\n",
       "    </tr>\n",
       "  </tbody>\n",
       "</table>\n",
       "<p>581 rows × 5 columns</p>\n",
       "</div>"
      ],
      "text/plain": [
       "     Unnamed: 0 District Sub_District School Code School Name\n",
       "0             0       港島          中西區      AP0159       己連拿小學\n",
       "1             1       港島          中西區      AP0078   中西區聖安多尼學校\n",
       "2             2       港島          中西區      AP0052    天主教總堂區學校\n",
       "3             3       港島          中西區      AP0311        李陞小學\n",
       "4             4       港島          中西區      AP0280   英皇書院同學會小學\n",
       "..          ...      ...          ...         ...         ...\n",
       "576         576       新界          西貢區      AP0319     樂善堂劉德學校\n",
       "577         577       新界          西貢區      AP0693        樹宏學校\n",
       "578         578       新界          西貢區      AP0153  優才（楊殷有娣）書院\n",
       "579         579       新界          西貢區      AP0714     思貝禮國際學校\n",
       "580         580       新界          西貢區      AP0719   茵維特(香港)學校\n",
       "\n",
       "[581 rows x 5 columns]"
      ]
     },
     "execution_count": 67,
     "metadata": {},
     "output_type": "execute_result"
    }
   ],
   "source": [
    "primary_school_code_and_list = pd.read_csv('./datasets/primary_school_code_and_list.csv')\n",
    "primary_school_code_and_list"
   ]
  },
  {
   "cell_type": "code",
   "execution_count": 68,
   "metadata": {},
   "outputs": [
    {
     "data": {
      "text/html": [
       "<div>\n",
       "<style scoped>\n",
       "    .dataframe tbody tr th:only-of-type {\n",
       "        vertical-align: middle;\n",
       "    }\n",
       "\n",
       "    .dataframe tbody tr th {\n",
       "        vertical-align: top;\n",
       "    }\n",
       "\n",
       "    .dataframe thead th {\n",
       "        text-align: right;\n",
       "    }\n",
       "</style>\n",
       "<table border=\"1\" class=\"dataframe\">\n",
       "  <thead>\n",
       "    <tr style=\"text-align: right;\">\n",
       "      <th></th>\n",
       "      <th>Unnamed: 0</th>\n",
       "      <th>District</th>\n",
       "      <th>Sub_District</th>\n",
       "      <th>School Code</th>\n",
       "      <th>School Name</th>\n",
       "      <th>2024</th>\n",
       "      <th>2023</th>\n",
       "      <th>2022</th>\n",
       "      <th>2021</th>\n",
       "    </tr>\n",
       "  </thead>\n",
       "  <tbody>\n",
       "    <tr>\n",
       "      <th>0</th>\n",
       "      <td>1</td>\n",
       "      <td>港島</td>\n",
       "      <td>中西區</td>\n",
       "      <td>AP0078</td>\n",
       "      <td>中西區聖安多尼學校</td>\n",
       "      <td>0.0</td>\n",
       "      <td>0.0</td>\n",
       "      <td>0.0</td>\n",
       "      <td>1.0</td>\n",
       "    </tr>\n",
       "    <tr>\n",
       "      <th>1</th>\n",
       "      <td>3</td>\n",
       "      <td>港島</td>\n",
       "      <td>中西區</td>\n",
       "      <td>AP0311</td>\n",
       "      <td>李陞小學</td>\n",
       "      <td>1.0</td>\n",
       "      <td>0.0</td>\n",
       "      <td>0.0</td>\n",
       "      <td>0.0</td>\n",
       "    </tr>\n",
       "    <tr>\n",
       "      <th>2</th>\n",
       "      <td>4</td>\n",
       "      <td>港島</td>\n",
       "      <td>中西區</td>\n",
       "      <td>AP0280</td>\n",
       "      <td>英皇書院同學會小學</td>\n",
       "      <td>2.0</td>\n",
       "      <td>0.0</td>\n",
       "      <td>0.0</td>\n",
       "      <td>0.0</td>\n",
       "    </tr>\n",
       "    <tr>\n",
       "      <th>3</th>\n",
       "      <td>5</td>\n",
       "      <td>港島</td>\n",
       "      <td>中西區</td>\n",
       "      <td>AP0281</td>\n",
       "      <td>英皇書院同學會小學第二校</td>\n",
       "      <td>3.0</td>\n",
       "      <td>1.0</td>\n",
       "      <td>0.0</td>\n",
       "      <td>1.0</td>\n",
       "    </tr>\n",
       "    <tr>\n",
       "      <th>4</th>\n",
       "      <td>7</td>\n",
       "      <td>港島</td>\n",
       "      <td>中西區</td>\n",
       "      <td>AP0026</td>\n",
       "      <td>般咸道官立小學</td>\n",
       "      <td>1.0</td>\n",
       "      <td>0.0</td>\n",
       "      <td>0.0</td>\n",
       "      <td>1.0</td>\n",
       "    </tr>\n",
       "    <tr>\n",
       "      <th>...</th>\n",
       "      <td>...</td>\n",
       "      <td>...</td>\n",
       "      <td>...</td>\n",
       "      <td>...</td>\n",
       "      <td>...</td>\n",
       "      <td>...</td>\n",
       "      <td>...</td>\n",
       "      <td>...</td>\n",
       "      <td>...</td>\n",
       "    </tr>\n",
       "    <tr>\n",
       "      <th>361</th>\n",
       "      <td>571</td>\n",
       "      <td>新界</td>\n",
       "      <td>西貢區</td>\n",
       "      <td>AP0175</td>\n",
       "      <td>港澳信義會小學</td>\n",
       "      <td>1.0</td>\n",
       "      <td>0.0</td>\n",
       "      <td>0.0</td>\n",
       "      <td>0.0</td>\n",
       "    </tr>\n",
       "    <tr>\n",
       "      <th>362</th>\n",
       "      <td>573</td>\n",
       "      <td>新界</td>\n",
       "      <td>西貢區</td>\n",
       "      <td>AP0566</td>\n",
       "      <td>順德聯誼總會梁潔華小學</td>\n",
       "      <td>3.0</td>\n",
       "      <td>0.0</td>\n",
       "      <td>0.0</td>\n",
       "      <td>1.0</td>\n",
       "    </tr>\n",
       "    <tr>\n",
       "      <th>363</th>\n",
       "      <td>575</td>\n",
       "      <td>新界</td>\n",
       "      <td>西貢區</td>\n",
       "      <td>AP0135</td>\n",
       "      <td>播道書院</td>\n",
       "      <td>3.0</td>\n",
       "      <td>0.0</td>\n",
       "      <td>0.0</td>\n",
       "      <td>1.0</td>\n",
       "    </tr>\n",
       "    <tr>\n",
       "      <th>364</th>\n",
       "      <td>578</td>\n",
       "      <td>新界</td>\n",
       "      <td>西貢區</td>\n",
       "      <td>AP0153</td>\n",
       "      <td>優才（楊殷有娣）書院</td>\n",
       "      <td>7.0</td>\n",
       "      <td>4.0</td>\n",
       "      <td>1.0</td>\n",
       "      <td>7.0</td>\n",
       "    </tr>\n",
       "    <tr>\n",
       "      <th>365</th>\n",
       "      <td>579</td>\n",
       "      <td>新界</td>\n",
       "      <td>西貢區</td>\n",
       "      <td>AP0714</td>\n",
       "      <td>思貝禮國際學校</td>\n",
       "      <td>1.0</td>\n",
       "      <td>0.0</td>\n",
       "      <td>0.0</td>\n",
       "      <td>0.0</td>\n",
       "    </tr>\n",
       "  </tbody>\n",
       "</table>\n",
       "<p>366 rows × 9 columns</p>\n",
       "</div>"
      ],
      "text/plain": [
       "     Unnamed: 0 District Sub_District School Code   School Name  2024  2023  \\\n",
       "0             1       港島          中西區      AP0078     中西區聖安多尼學校   0.0   0.0   \n",
       "1             3       港島          中西區      AP0311          李陞小學   1.0   0.0   \n",
       "2             4       港島          中西區      AP0280     英皇書院同學會小學   2.0   0.0   \n",
       "3             5       港島          中西區      AP0281  英皇書院同學會小學第二校   3.0   1.0   \n",
       "4             7       港島          中西區      AP0026       般咸道官立小學   1.0   0.0   \n",
       "..          ...      ...          ...         ...           ...   ...   ...   \n",
       "361         571       新界          西貢區      AP0175       港澳信義會小學   1.0   0.0   \n",
       "362         573       新界          西貢區      AP0566   順德聯誼總會梁潔華小學   3.0   0.0   \n",
       "363         575       新界          西貢區      AP0135          播道書院   3.0   0.0   \n",
       "364         578       新界          西貢區      AP0153    優才（楊殷有娣）書院   7.0   4.0   \n",
       "365         579       新界          西貢區      AP0714       思貝禮國際學校   1.0   0.0   \n",
       "\n",
       "     2022  2021  \n",
       "0     0.0   1.0  \n",
       "1     0.0   0.0  \n",
       "2     0.0   0.0  \n",
       "3     0.0   1.0  \n",
       "4     0.0   1.0  \n",
       "..    ...   ...  \n",
       "361   0.0   0.0  \n",
       "362   0.0   1.0  \n",
       "363   0.0   1.0  \n",
       "364   1.0   7.0  \n",
       "365   0.0   0.0  \n",
       "\n",
       "[366 rows x 9 columns]"
      ]
     },
     "execution_count": 68,
     "metadata": {},
     "output_type": "execute_result"
    }
   ],
   "source": [
    "primary_school_code_HKMO_Award = pd.merge(primary_school_code_and_list, HKMO_Award_List, on='School Code', how='inner')\n",
    "primary_school_code_HKMO_Award"
   ]
  },
  {
   "cell_type": "code",
   "execution_count": 69,
   "metadata": {},
   "outputs": [
    {
     "data": {
      "text/plain": [
       "District\n",
       "新界    181\n",
       "九龍    114\n",
       "港島     71\n",
       "Name: count, dtype: int64"
      ]
     },
     "execution_count": 69,
     "metadata": {},
     "output_type": "execute_result"
    }
   ],
   "source": [
    "primary_school_code_HKMO_Award['District'].value_counts()"
   ]
  },
  {
   "cell_type": "code",
   "execution_count": 70,
   "metadata": {},
   "outputs": [
    {
     "data": {
      "text/plain": [
       "Sub_District\n",
       "九龍城區    41\n",
       "沙田區     35\n",
       "元朗區     31\n",
       "屯門區     27\n",
       "東區      23\n",
       "深水埗區    22\n",
       "北區      20\n",
       "觀塘區     20\n",
       "中西區     17\n",
       "大埔區     17\n",
       "西貢區     17\n",
       "油尖旺區    16\n",
       "灣仔區     16\n",
       "黃大仙區    15\n",
       "南區      15\n",
       "葵青區     14\n",
       "荃灣區     13\n",
       "離島區      7\n",
       "Name: count, dtype: int64"
      ]
     },
     "execution_count": 70,
     "metadata": {},
     "output_type": "execute_result"
    }
   ],
   "source": [
    "primary_school_code_HKMO_Award['Sub_District'].value_counts()"
   ]
  },
  {
   "cell_type": "code",
   "execution_count": 71,
   "metadata": {},
   "outputs": [
    {
     "data": {
      "text/html": [
       "<div>\n",
       "<style scoped>\n",
       "    .dataframe tbody tr th:only-of-type {\n",
       "        vertical-align: middle;\n",
       "    }\n",
       "\n",
       "    .dataframe tbody tr th {\n",
       "        vertical-align: top;\n",
       "    }\n",
       "\n",
       "    .dataframe thead th {\n",
       "        text-align: right;\n",
       "    }\n",
       "</style>\n",
       "<table border=\"1\" class=\"dataframe\">\n",
       "  <thead>\n",
       "    <tr style=\"text-align: right;\">\n",
       "      <th></th>\n",
       "      <th>District</th>\n",
       "      <th>Sub_District</th>\n",
       "      <th>Total</th>\n",
       "    </tr>\n",
       "  </thead>\n",
       "  <tbody>\n",
       "    <tr>\n",
       "      <th>0</th>\n",
       "      <td>九龍</td>\n",
       "      <td>九龍城區</td>\n",
       "      <td>325.0</td>\n",
       "    </tr>\n",
       "    <tr>\n",
       "      <th>1</th>\n",
       "      <td>九龍</td>\n",
       "      <td>油尖旺區</td>\n",
       "      <td>113.0</td>\n",
       "    </tr>\n",
       "    <tr>\n",
       "      <th>2</th>\n",
       "      <td>九龍</td>\n",
       "      <td>深水埗區</td>\n",
       "      <td>140.0</td>\n",
       "    </tr>\n",
       "    <tr>\n",
       "      <th>3</th>\n",
       "      <td>九龍</td>\n",
       "      <td>觀塘區</td>\n",
       "      <td>96.0</td>\n",
       "    </tr>\n",
       "    <tr>\n",
       "      <th>4</th>\n",
       "      <td>九龍</td>\n",
       "      <td>黃大仙區</td>\n",
       "      <td>51.0</td>\n",
       "    </tr>\n",
       "    <tr>\n",
       "      <th>5</th>\n",
       "      <td>新界</td>\n",
       "      <td>元朗區</td>\n",
       "      <td>87.0</td>\n",
       "    </tr>\n",
       "    <tr>\n",
       "      <th>6</th>\n",
       "      <td>新界</td>\n",
       "      <td>北區</td>\n",
       "      <td>73.0</td>\n",
       "    </tr>\n",
       "    <tr>\n",
       "      <th>7</th>\n",
       "      <td>新界</td>\n",
       "      <td>大埔區</td>\n",
       "      <td>52.0</td>\n",
       "    </tr>\n",
       "    <tr>\n",
       "      <th>8</th>\n",
       "      <td>新界</td>\n",
       "      <td>屯門區</td>\n",
       "      <td>109.0</td>\n",
       "    </tr>\n",
       "    <tr>\n",
       "      <th>9</th>\n",
       "      <td>新界</td>\n",
       "      <td>沙田區</td>\n",
       "      <td>137.0</td>\n",
       "    </tr>\n",
       "    <tr>\n",
       "      <th>10</th>\n",
       "      <td>新界</td>\n",
       "      <td>荃灣區</td>\n",
       "      <td>61.0</td>\n",
       "    </tr>\n",
       "    <tr>\n",
       "      <th>11</th>\n",
       "      <td>新界</td>\n",
       "      <td>葵青區</td>\n",
       "      <td>51.0</td>\n",
       "    </tr>\n",
       "    <tr>\n",
       "      <th>12</th>\n",
       "      <td>新界</td>\n",
       "      <td>西貢區</td>\n",
       "      <td>85.0</td>\n",
       "    </tr>\n",
       "    <tr>\n",
       "      <th>13</th>\n",
       "      <td>新界</td>\n",
       "      <td>離島區</td>\n",
       "      <td>24.0</td>\n",
       "    </tr>\n",
       "    <tr>\n",
       "      <th>14</th>\n",
       "      <td>港島</td>\n",
       "      <td>中西區</td>\n",
       "      <td>46.0</td>\n",
       "    </tr>\n",
       "    <tr>\n",
       "      <th>15</th>\n",
       "      <td>港島</td>\n",
       "      <td>南區</td>\n",
       "      <td>168.0</td>\n",
       "    </tr>\n",
       "    <tr>\n",
       "      <th>16</th>\n",
       "      <td>港島</td>\n",
       "      <td>東區</td>\n",
       "      <td>122.0</td>\n",
       "    </tr>\n",
       "    <tr>\n",
       "      <th>17</th>\n",
       "      <td>港島</td>\n",
       "      <td>灣仔區</td>\n",
       "      <td>101.0</td>\n",
       "    </tr>\n",
       "  </tbody>\n",
       "</table>\n",
       "</div>"
      ],
      "text/plain": [
       "   District Sub_District  Total\n",
       "0        九龍         九龍城區  325.0\n",
       "1        九龍         油尖旺區  113.0\n",
       "2        九龍         深水埗區  140.0\n",
       "3        九龍          觀塘區   96.0\n",
       "4        九龍         黃大仙區   51.0\n",
       "5        新界          元朗區   87.0\n",
       "6        新界           北區   73.0\n",
       "7        新界          大埔區   52.0\n",
       "8        新界          屯門區  109.0\n",
       "9        新界          沙田區  137.0\n",
       "10       新界          荃灣區   61.0\n",
       "11       新界          葵青區   51.0\n",
       "12       新界          西貢區   85.0\n",
       "13       新界          離島區   24.0\n",
       "14       港島          中西區   46.0\n",
       "15       港島           南區  168.0\n",
       "16       港島           東區  122.0\n",
       "17       港島          灣仔區  101.0"
      ]
     },
     "execution_count": 71,
     "metadata": {},
     "output_type": "execute_result"
    }
   ],
   "source": [
    "# 计算每个区和子区的总和\n",
    "primary_school_code_HKMO_Award['Total'] = primary_school_code_HKMO_Award[['2024', '2023', '2022', '2021']].sum(axis=1)\n",
    "Total_HKMO_Awards_By_District = primary_school_code_HKMO_Award.groupby(['District', 'Sub_District'])['Total'].sum().reset_index()\n",
    "Total_HKMO_Awards_By_District"
   ]
  },
  {
   "cell_type": "code",
   "execution_count": 13,
   "metadata": {},
   "outputs": [],
   "source": [
    "import plotly.express as px"
   ]
  },
  {
   "cell_type": "code",
   "execution_count": 14,
   "metadata": {},
   "outputs": [],
   "source": [
    "!pip install nbformat>=4.2.0"
   ]
  },
  {
   "cell_type": "code",
   "execution_count": 16,
   "metadata": {},
   "outputs": [
    {
     "data": {
      "application/vnd.plotly.v1+json": {
       "config": {
        "plotlyServerURL": "https://plot.ly"
       },
       "data": [
        {
         "branchvalues": "total",
         "customdata": [
          [
           46
          ],
          [
           325
          ],
          [
           87
          ],
          [
           73
          ],
          [
           168
          ],
          [
           52
          ],
          [
           109
          ],
          [
           122
          ],
          [
           137
          ],
          [
           113
          ],
          [
           140
          ],
          [
           101
          ],
          [
           61
          ],
          [
           51
          ],
          [
           85
          ],
          [
           96
          ],
          [
           24
          ],
          [
           51
          ],
          [
           206.6358620689655
          ],
          [
           88.91752577319588
          ],
          [
           126.83066361556064
          ]
         ],
         "domain": {
          "x": [
           0,
           1
          ],
          "y": [
           0,
           1
          ]
         },
         "hovertemplate": "labels=%{label}<br>Total_sum=%{value}<br>parent=%{parent}<br>id=%{id}<br>Total=%{color}<extra></extra>",
         "ids": [
          "港島/中西區",
          "九龍/九龍城區",
          "新界/元朗區",
          "新界/北區",
          "港島/南區",
          "新界/大埔區",
          "新界/屯門區",
          "港島/東區",
          "新界/沙田區",
          "九龍/油尖旺區",
          "九龍/深水埗區",
          "港島/灣仔區",
          "新界/荃灣區",
          "新界/葵青區",
          "新界/西貢區",
          "九龍/觀塘區",
          "新界/離島區",
          "九龍/黃大仙區",
          "九龍",
          "新界",
          "港島"
         ],
         "labels": [
          "中西區",
          "九龍城區",
          "元朗區",
          "北區",
          "南區",
          "大埔區",
          "屯門區",
          "東區",
          "沙田區",
          "油尖旺區",
          "深水埗區",
          "灣仔區",
          "荃灣區",
          "葵青區",
          "西貢區",
          "觀塘區",
          "離島區",
          "黃大仙區",
          "九龍",
          "新界",
          "港島"
         ],
         "marker": {
          "coloraxis": "coloraxis",
          "colors": [
           46,
           325,
           87,
           73,
           168,
           52,
           109,
           122,
           137,
           113,
           140,
           101,
           61,
           51,
           85,
           96,
           24,
           51,
           206.6358620689655,
           88.91752577319588,
           126.83066361556064
          ]
         },
         "name": "",
         "parents": [
          "港島",
          "九龍",
          "新界",
          "新界",
          "港島",
          "新界",
          "新界",
          "港島",
          "新界",
          "九龍",
          "九龍",
          "港島",
          "新界",
          "新界",
          "新界",
          "九龍",
          "新界",
          "九龍",
          "",
          "",
          ""
         ],
         "type": "sunburst",
         "values": [
          46,
          325,
          87,
          73,
          168,
          52,
          109,
          122,
          137,
          113,
          140,
          101,
          61,
          51,
          85,
          96,
          24,
          51,
          725,
          679,
          437
         ]
        }
       ],
       "layout": {
        "coloraxis": {
         "colorbar": {
          "title": {
           "text": "Total"
          }
         },
         "colorscale": [
          [
           0,
           "#0d0887"
          ],
          [
           0.1111111111111111,
           "#46039f"
          ],
          [
           0.2222222222222222,
           "#7201a8"
          ],
          [
           0.3333333333333333,
           "#9c179e"
          ],
          [
           0.4444444444444444,
           "#bd3786"
          ],
          [
           0.5555555555555556,
           "#d8576b"
          ],
          [
           0.6666666666666666,
           "#ed7953"
          ],
          [
           0.7777777777777778,
           "#fb9f3a"
          ],
          [
           0.8888888888888888,
           "#fdca26"
          ],
          [
           1,
           "#f0f921"
          ]
         ]
        },
        "legend": {
         "tracegroupgap": 0
        },
        "margin": {
         "t": 60
        },
        "template": {
         "data": {
          "bar": [
           {
            "error_x": {
             "color": "#2a3f5f"
            },
            "error_y": {
             "color": "#2a3f5f"
            },
            "marker": {
             "line": {
              "color": "#E5ECF6",
              "width": 0.5
             },
             "pattern": {
              "fillmode": "overlay",
              "size": 10,
              "solidity": 0.2
             }
            },
            "type": "bar"
           }
          ],
          "barpolar": [
           {
            "marker": {
             "line": {
              "color": "#E5ECF6",
              "width": 0.5
             },
             "pattern": {
              "fillmode": "overlay",
              "size": 10,
              "solidity": 0.2
             }
            },
            "type": "barpolar"
           }
          ],
          "carpet": [
           {
            "aaxis": {
             "endlinecolor": "#2a3f5f",
             "gridcolor": "white",
             "linecolor": "white",
             "minorgridcolor": "white",
             "startlinecolor": "#2a3f5f"
            },
            "baxis": {
             "endlinecolor": "#2a3f5f",
             "gridcolor": "white",
             "linecolor": "white",
             "minorgridcolor": "white",
             "startlinecolor": "#2a3f5f"
            },
            "type": "carpet"
           }
          ],
          "choropleth": [
           {
            "colorbar": {
             "outlinewidth": 0,
             "ticks": ""
            },
            "type": "choropleth"
           }
          ],
          "contour": [
           {
            "colorbar": {
             "outlinewidth": 0,
             "ticks": ""
            },
            "colorscale": [
             [
              0,
              "#0d0887"
             ],
             [
              0.1111111111111111,
              "#46039f"
             ],
             [
              0.2222222222222222,
              "#7201a8"
             ],
             [
              0.3333333333333333,
              "#9c179e"
             ],
             [
              0.4444444444444444,
              "#bd3786"
             ],
             [
              0.5555555555555556,
              "#d8576b"
             ],
             [
              0.6666666666666666,
              "#ed7953"
             ],
             [
              0.7777777777777778,
              "#fb9f3a"
             ],
             [
              0.8888888888888888,
              "#fdca26"
             ],
             [
              1,
              "#f0f921"
             ]
            ],
            "type": "contour"
           }
          ],
          "contourcarpet": [
           {
            "colorbar": {
             "outlinewidth": 0,
             "ticks": ""
            },
            "type": "contourcarpet"
           }
          ],
          "heatmap": [
           {
            "colorbar": {
             "outlinewidth": 0,
             "ticks": ""
            },
            "colorscale": [
             [
              0,
              "#0d0887"
             ],
             [
              0.1111111111111111,
              "#46039f"
             ],
             [
              0.2222222222222222,
              "#7201a8"
             ],
             [
              0.3333333333333333,
              "#9c179e"
             ],
             [
              0.4444444444444444,
              "#bd3786"
             ],
             [
              0.5555555555555556,
              "#d8576b"
             ],
             [
              0.6666666666666666,
              "#ed7953"
             ],
             [
              0.7777777777777778,
              "#fb9f3a"
             ],
             [
              0.8888888888888888,
              "#fdca26"
             ],
             [
              1,
              "#f0f921"
             ]
            ],
            "type": "heatmap"
           }
          ],
          "heatmapgl": [
           {
            "colorbar": {
             "outlinewidth": 0,
             "ticks": ""
            },
            "colorscale": [
             [
              0,
              "#0d0887"
             ],
             [
              0.1111111111111111,
              "#46039f"
             ],
             [
              0.2222222222222222,
              "#7201a8"
             ],
             [
              0.3333333333333333,
              "#9c179e"
             ],
             [
              0.4444444444444444,
              "#bd3786"
             ],
             [
              0.5555555555555556,
              "#d8576b"
             ],
             [
              0.6666666666666666,
              "#ed7953"
             ],
             [
              0.7777777777777778,
              "#fb9f3a"
             ],
             [
              0.8888888888888888,
              "#fdca26"
             ],
             [
              1,
              "#f0f921"
             ]
            ],
            "type": "heatmapgl"
           }
          ],
          "histogram": [
           {
            "marker": {
             "pattern": {
              "fillmode": "overlay",
              "size": 10,
              "solidity": 0.2
             }
            },
            "type": "histogram"
           }
          ],
          "histogram2d": [
           {
            "colorbar": {
             "outlinewidth": 0,
             "ticks": ""
            },
            "colorscale": [
             [
              0,
              "#0d0887"
             ],
             [
              0.1111111111111111,
              "#46039f"
             ],
             [
              0.2222222222222222,
              "#7201a8"
             ],
             [
              0.3333333333333333,
              "#9c179e"
             ],
             [
              0.4444444444444444,
              "#bd3786"
             ],
             [
              0.5555555555555556,
              "#d8576b"
             ],
             [
              0.6666666666666666,
              "#ed7953"
             ],
             [
              0.7777777777777778,
              "#fb9f3a"
             ],
             [
              0.8888888888888888,
              "#fdca26"
             ],
             [
              1,
              "#f0f921"
             ]
            ],
            "type": "histogram2d"
           }
          ],
          "histogram2dcontour": [
           {
            "colorbar": {
             "outlinewidth": 0,
             "ticks": ""
            },
            "colorscale": [
             [
              0,
              "#0d0887"
             ],
             [
              0.1111111111111111,
              "#46039f"
             ],
             [
              0.2222222222222222,
              "#7201a8"
             ],
             [
              0.3333333333333333,
              "#9c179e"
             ],
             [
              0.4444444444444444,
              "#bd3786"
             ],
             [
              0.5555555555555556,
              "#d8576b"
             ],
             [
              0.6666666666666666,
              "#ed7953"
             ],
             [
              0.7777777777777778,
              "#fb9f3a"
             ],
             [
              0.8888888888888888,
              "#fdca26"
             ],
             [
              1,
              "#f0f921"
             ]
            ],
            "type": "histogram2dcontour"
           }
          ],
          "mesh3d": [
           {
            "colorbar": {
             "outlinewidth": 0,
             "ticks": ""
            },
            "type": "mesh3d"
           }
          ],
          "parcoords": [
           {
            "line": {
             "colorbar": {
              "outlinewidth": 0,
              "ticks": ""
             }
            },
            "type": "parcoords"
           }
          ],
          "pie": [
           {
            "automargin": true,
            "type": "pie"
           }
          ],
          "scatter": [
           {
            "fillpattern": {
             "fillmode": "overlay",
             "size": 10,
             "solidity": 0.2
            },
            "type": "scatter"
           }
          ],
          "scatter3d": [
           {
            "line": {
             "colorbar": {
              "outlinewidth": 0,
              "ticks": ""
             }
            },
            "marker": {
             "colorbar": {
              "outlinewidth": 0,
              "ticks": ""
             }
            },
            "type": "scatter3d"
           }
          ],
          "scattercarpet": [
           {
            "marker": {
             "colorbar": {
              "outlinewidth": 0,
              "ticks": ""
             }
            },
            "type": "scattercarpet"
           }
          ],
          "scattergeo": [
           {
            "marker": {
             "colorbar": {
              "outlinewidth": 0,
              "ticks": ""
             }
            },
            "type": "scattergeo"
           }
          ],
          "scattergl": [
           {
            "marker": {
             "colorbar": {
              "outlinewidth": 0,
              "ticks": ""
             }
            },
            "type": "scattergl"
           }
          ],
          "scattermapbox": [
           {
            "marker": {
             "colorbar": {
              "outlinewidth": 0,
              "ticks": ""
             }
            },
            "type": "scattermapbox"
           }
          ],
          "scatterpolar": [
           {
            "marker": {
             "colorbar": {
              "outlinewidth": 0,
              "ticks": ""
             }
            },
            "type": "scatterpolar"
           }
          ],
          "scatterpolargl": [
           {
            "marker": {
             "colorbar": {
              "outlinewidth": 0,
              "ticks": ""
             }
            },
            "type": "scatterpolargl"
           }
          ],
          "scatterternary": [
           {
            "marker": {
             "colorbar": {
              "outlinewidth": 0,
              "ticks": ""
             }
            },
            "type": "scatterternary"
           }
          ],
          "surface": [
           {
            "colorbar": {
             "outlinewidth": 0,
             "ticks": ""
            },
            "colorscale": [
             [
              0,
              "#0d0887"
             ],
             [
              0.1111111111111111,
              "#46039f"
             ],
             [
              0.2222222222222222,
              "#7201a8"
             ],
             [
              0.3333333333333333,
              "#9c179e"
             ],
             [
              0.4444444444444444,
              "#bd3786"
             ],
             [
              0.5555555555555556,
              "#d8576b"
             ],
             [
              0.6666666666666666,
              "#ed7953"
             ],
             [
              0.7777777777777778,
              "#fb9f3a"
             ],
             [
              0.8888888888888888,
              "#fdca26"
             ],
             [
              1,
              "#f0f921"
             ]
            ],
            "type": "surface"
           }
          ],
          "table": [
           {
            "cells": {
             "fill": {
              "color": "#EBF0F8"
             },
             "line": {
              "color": "white"
             }
            },
            "header": {
             "fill": {
              "color": "#C8D4E3"
             },
             "line": {
              "color": "white"
             }
            },
            "type": "table"
           }
          ]
         },
         "layout": {
          "annotationdefaults": {
           "arrowcolor": "#2a3f5f",
           "arrowhead": 0,
           "arrowwidth": 1
          },
          "autotypenumbers": "strict",
          "coloraxis": {
           "colorbar": {
            "outlinewidth": 0,
            "ticks": ""
           }
          },
          "colorscale": {
           "diverging": [
            [
             0,
             "#8e0152"
            ],
            [
             0.1,
             "#c51b7d"
            ],
            [
             0.2,
             "#de77ae"
            ],
            [
             0.3,
             "#f1b6da"
            ],
            [
             0.4,
             "#fde0ef"
            ],
            [
             0.5,
             "#f7f7f7"
            ],
            [
             0.6,
             "#e6f5d0"
            ],
            [
             0.7,
             "#b8e186"
            ],
            [
             0.8,
             "#7fbc41"
            ],
            [
             0.9,
             "#4d9221"
            ],
            [
             1,
             "#276419"
            ]
           ],
           "sequential": [
            [
             0,
             "#0d0887"
            ],
            [
             0.1111111111111111,
             "#46039f"
            ],
            [
             0.2222222222222222,
             "#7201a8"
            ],
            [
             0.3333333333333333,
             "#9c179e"
            ],
            [
             0.4444444444444444,
             "#bd3786"
            ],
            [
             0.5555555555555556,
             "#d8576b"
            ],
            [
             0.6666666666666666,
             "#ed7953"
            ],
            [
             0.7777777777777778,
             "#fb9f3a"
            ],
            [
             0.8888888888888888,
             "#fdca26"
            ],
            [
             1,
             "#f0f921"
            ]
           ],
           "sequentialminus": [
            [
             0,
             "#0d0887"
            ],
            [
             0.1111111111111111,
             "#46039f"
            ],
            [
             0.2222222222222222,
             "#7201a8"
            ],
            [
             0.3333333333333333,
             "#9c179e"
            ],
            [
             0.4444444444444444,
             "#bd3786"
            ],
            [
             0.5555555555555556,
             "#d8576b"
            ],
            [
             0.6666666666666666,
             "#ed7953"
            ],
            [
             0.7777777777777778,
             "#fb9f3a"
            ],
            [
             0.8888888888888888,
             "#fdca26"
            ],
            [
             1,
             "#f0f921"
            ]
           ]
          },
          "colorway": [
           "#636efa",
           "#EF553B",
           "#00cc96",
           "#ab63fa",
           "#FFA15A",
           "#19d3f3",
           "#FF6692",
           "#B6E880",
           "#FF97FF",
           "#FECB52"
          ],
          "font": {
           "color": "#2a3f5f"
          },
          "geo": {
           "bgcolor": "white",
           "lakecolor": "white",
           "landcolor": "#E5ECF6",
           "showlakes": true,
           "showland": true,
           "subunitcolor": "white"
          },
          "hoverlabel": {
           "align": "left"
          },
          "hovermode": "closest",
          "mapbox": {
           "style": "light"
          },
          "paper_bgcolor": "white",
          "plot_bgcolor": "#E5ECF6",
          "polar": {
           "angularaxis": {
            "gridcolor": "white",
            "linecolor": "white",
            "ticks": ""
           },
           "bgcolor": "#E5ECF6",
           "radialaxis": {
            "gridcolor": "white",
            "linecolor": "white",
            "ticks": ""
           }
          },
          "scene": {
           "xaxis": {
            "backgroundcolor": "#E5ECF6",
            "gridcolor": "white",
            "gridwidth": 2,
            "linecolor": "white",
            "showbackground": true,
            "ticks": "",
            "zerolinecolor": "white"
           },
           "yaxis": {
            "backgroundcolor": "#E5ECF6",
            "gridcolor": "white",
            "gridwidth": 2,
            "linecolor": "white",
            "showbackground": true,
            "ticks": "",
            "zerolinecolor": "white"
           },
           "zaxis": {
            "backgroundcolor": "#E5ECF6",
            "gridcolor": "white",
            "gridwidth": 2,
            "linecolor": "white",
            "showbackground": true,
            "ticks": "",
            "zerolinecolor": "white"
           }
          },
          "shapedefaults": {
           "line": {
            "color": "#2a3f5f"
           }
          },
          "ternary": {
           "aaxis": {
            "gridcolor": "white",
            "linecolor": "white",
            "ticks": ""
           },
           "baxis": {
            "gridcolor": "white",
            "linecolor": "white",
            "ticks": ""
           },
           "bgcolor": "#E5ECF6",
           "caxis": {
            "gridcolor": "white",
            "linecolor": "white",
            "ticks": ""
           }
          },
          "title": {
           "x": 0.05
          },
          "xaxis": {
           "automargin": true,
           "gridcolor": "white",
           "linecolor": "white",
           "ticks": "",
           "title": {
            "standoff": 15
           },
           "zerolinecolor": "white",
           "zerolinewidth": 2
          },
          "yaxis": {
           "automargin": true,
           "gridcolor": "white",
           "linecolor": "white",
           "ticks": "",
           "title": {
            "standoff": 15
           },
           "zerolinecolor": "white",
           "zerolinewidth": 2
          }
         }
        }
       }
      }
     },
     "metadata": {},
     "output_type": "display_data"
    }
   ],
   "source": [
    "\n",
    "fig = px.sunburst(Total_HKMO_Awards_By_District, path=['District', 'Sub_District'], values='Total',\n",
    "                  color='Total')\n",
    "fig.show()"
   ]
  },
  {
   "cell_type": "code",
   "execution_count": 254,
   "metadata": {},
   "outputs": [],
   "source": [
    "path_en = './datasets/PSP/psp_2024_en.csv'\n",
    "path_sc = './datasets/PSP/psp_2024_tc.csv'"
   ]
  },
  {
   "cell_type": "code",
   "execution_count": 255,
   "metadata": {},
   "outputs": [
    {
     "data": {
      "text/html": [
       "<div>\n",
       "<style scoped>\n",
       "    .dataframe tbody tr th:only-of-type {\n",
       "        vertical-align: middle;\n",
       "    }\n",
       "\n",
       "    .dataframe tbody tr th {\n",
       "        vertical-align: top;\n",
       "    }\n",
       "\n",
       "    .dataframe thead th {\n",
       "        text-align: right;\n",
       "    }\n",
       "</style>\n",
       "<table border=\"1\" class=\"dataframe\">\n",
       "  <thead>\n",
       "    <tr style=\"text-align: right;\">\n",
       "      <th></th>\n",
       "      <th>district</th>\n",
       "      <th>school_name</th>\n",
       "      <th>school_address</th>\n",
       "      <th>poa_school_net</th>\n",
       "      <th>school_tel</th>\n",
       "      <th>school_fax</th>\n",
       "      <th>school_email</th>\n",
       "      <th>school_website</th>\n",
       "      <th>school_type_1</th>\n",
       "      <th>school_type_2</th>\n",
       "      <th>...</th>\n",
       "      <th>scha_support_for_non_chinese</th>\n",
       "      <th>scha_curriculum_tailoring_and_adaptation</th>\n",
       "      <th>hscse_hsc_url</th>\n",
       "      <th>hscse_hsc</th>\n",
       "      <th>hscse_school_ethos</th>\n",
       "      <th>fdev_url</th>\n",
       "      <th>fdev_school_dev_plan</th>\n",
       "      <th>fdev_teacher_pro_training_and_dev</th>\n",
       "      <th>sch_character_others</th>\n",
       "      <th>scha_fee_remission</th>\n",
       "    </tr>\n",
       "  </thead>\n",
       "  <tbody>\n",
       "    <tr>\n",
       "      <th>0</th>\n",
       "      <td>中西區</td>\n",
       "      <td>聖公會聖馬太小學</td>\n",
       "      <td>香港上環新街12-20號</td>\n",
       "      <td>11</td>\n",
       "      <td>25483368</td>\n",
       "      <td>29754641</td>\n",
       "      <td>info@stmatthew.edu.hk</td>\n",
       "      <td>http://www.stmatthew.edu.hk</td>\n",
       "      <td>資助</td>\n",
       "      <td>全日</td>\n",
       "      <td>...</td>\n",
       "      <td>本校為錄取的非華語學生提供額外支援，幫助他們學習中文：提供課後中文學習支援；增聘額外教師／教...</td>\n",
       "      <td>為有特殊學習需要的學生調適功課，並在測驗／考試時作特別安排。</td>\n",
       "      <td>NaN</td>\n",
       "      <td>家長教師會舉辦不同的活動（如親子旅行、聖誕聯歡會、家長講座、家長工作坊等），以加強家長之間及...</td>\n",
       "      <td>1.　提升學生的自信心和建立正面的價值觀。　2.　培養學生愛己愛人的態度。</td>\n",
       "      <td>http://www.stmatthew.edu.hk</td>\n",
       "      <td>1.　發展共通能力　　　　2.　照顧學習多樣性　　　　　　3.　認識自己強弱項　　　&lt;br&gt;...</td>\n",
       "      <td>1.　範疇：學與教、學生發展、學校發展、專業群體關係及服務和教師專業身份。&lt;br&gt;2.　發展...</td>\n",
       "      <td>1.　各學科及術科均設有獎學金。&lt;br&gt;2.　於校外比賽獲多個獎項，如：香港學校戲劇節、香港...</td>\n",
       "      <td>NaN</td>\n",
       "    </tr>\n",
       "  </tbody>\n",
       "</table>\n",
       "<p>1 rows × 114 columns</p>\n",
       "</div>"
      ],
      "text/plain": [
       "  district school_name school_address poa_school_net  school_tel  school_fax  \\\n",
       "0      中西區    聖公會聖馬太小學   香港上環新街12-20號             11    25483368    29754641   \n",
       "\n",
       "            school_email               school_website school_type_1  \\\n",
       "0  info@stmatthew.edu.hk  http://www.stmatthew.edu.hk            資助   \n",
       "\n",
       "  school_type_2  ...                       scha_support_for_non_chinese  \\\n",
       "0            全日  ...  本校為錄取的非華語學生提供額外支援，幫助他們學習中文：提供課後中文學習支援；增聘額外教師／教...   \n",
       "\n",
       "  scha_curriculum_tailoring_and_adaptation hscse_hsc_url  \\\n",
       "0           為有特殊學習需要的學生調適功課，並在測驗／考試時作特別安排。           NaN   \n",
       "\n",
       "                                           hscse_hsc  \\\n",
       "0  家長教師會舉辦不同的活動（如親子旅行、聖誕聯歡會、家長講座、家長工作坊等），以加強家長之間及...   \n",
       "\n",
       "                      hscse_school_ethos                     fdev_url  \\\n",
       "0  1.　提升學生的自信心和建立正面的價值觀。　2.　培養學生愛己愛人的態度。  http://www.stmatthew.edu.hk   \n",
       "\n",
       "                                fdev_school_dev_plan  \\\n",
       "0  1.　發展共通能力　　　　2.　照顧學習多樣性　　　　　　3.　認識自己強弱項　　　<br>...   \n",
       "\n",
       "                   fdev_teacher_pro_training_and_dev  \\\n",
       "0  1.　範疇：學與教、學生發展、學校發展、專業群體關係及服務和教師專業身份。<br>2.　發展...   \n",
       "\n",
       "                                sch_character_others scha_fee_remission  \n",
       "0  1.　各學科及術科均設有獎學金。<br>2.　於校外比賽獲多個獎項，如：香港學校戲劇節、香港...                NaN  \n",
       "\n",
       "[1 rows x 114 columns]"
      ]
     },
     "execution_count": 255,
     "metadata": {},
     "output_type": "execute_result"
    }
   ],
   "source": [
    "schools_datasets_en = pd.read_csv(path_en, delimiter=',')\n",
    "schools_datasets_sc = pd.read_csv(path_sc, delimiter=',')\n",
    "schools_datasets_en_colunms = schools_datasets_en.columns\n",
    "schools_datasets_sc.columns = schools_datasets_en_colunms\n",
    "schools_datasets = schools_datasets_sc\n",
    "schools_datasets.head(1)"
   ]
  },
  {
   "cell_type": "code",
   "execution_count": 256,
   "metadata": {},
   "outputs": [
    {
     "data": {
      "text/html": [
       "<div>\n",
       "<style scoped>\n",
       "    .dataframe tbody tr th:only-of-type {\n",
       "        vertical-align: middle;\n",
       "    }\n",
       "\n",
       "    .dataframe tbody tr th {\n",
       "        vertical-align: top;\n",
       "    }\n",
       "\n",
       "    .dataframe thead th {\n",
       "        text-align: right;\n",
       "    }\n",
       "</style>\n",
       "<table border=\"1\" class=\"dataframe\">\n",
       "  <thead>\n",
       "    <tr style=\"text-align: right;\">\n",
       "      <th></th>\n",
       "      <th>district</th>\n",
       "      <th>school_name</th>\n",
       "      <th>school_type_1</th>\n",
       "      <th>title_supervisor</th>\n",
       "      <th>student_gender</th>\n",
       "      <th>sponsoring_body</th>\n",
       "      <th>commencement_of_operation_year</th>\n",
       "      <th>religion</th>\n",
       "      <th>school_size</th>\n",
       "      <th>medium_of_instruction</th>\n",
       "      <th>...</th>\n",
       "      <th>scha_cultivation_of_positive_values_and_attitudes</th>\n",
       "      <th>scha_cater_for_learner_diversity</th>\n",
       "      <th>scha_integrated_education</th>\n",
       "      <th>scha_support_for_non_chinese</th>\n",
       "      <th>scha_curriculum_tailoring_and_adaptation</th>\n",
       "      <th>hscse_hsc</th>\n",
       "      <th>hscse_school_ethos</th>\n",
       "      <th>fdev_school_dev_plan</th>\n",
       "      <th>fdev_teacher_pro_training_and_dev</th>\n",
       "      <th>sch_character_others</th>\n",
       "    </tr>\n",
       "  </thead>\n",
       "  <tbody>\n",
       "    <tr>\n",
       "      <th>0</th>\n",
       "      <td>中西區</td>\n",
       "      <td>聖公會聖馬太小學</td>\n",
       "      <td>資助</td>\n",
       "      <td>牧師</td>\n",
       "      <td>男女</td>\n",
       "      <td>聖公宗（香港）小學監理委員會有限公司</td>\n",
       "      <td>1876</td>\n",
       "      <td>基督教</td>\n",
       "      <td>375.0</td>\n",
       "      <td>中文</td>\n",
       "      <td>...</td>\n",
       "      <td>1.　成立升旗隊、每週升國旗儀式及國旗下講話，培養學生國民身份認同。&lt;br&gt;2.　透過講座、...</td>\n",
       "      <td>1.　培訓不同才能的學生，安排學生參加比賽和交流活動。&lt;br&gt;2.　P.1-6學生按中文學習...</td>\n",
       "      <td>1.　個別及小組支援訓練。&lt;br&gt;2.　「及早識別和輔導有學習困難的小一學生」計劃，安排小一...</td>\n",
       "      <td>本校為錄取的非華語學生提供額外支援，幫助他們學習中文：提供課後中文學習支援；增聘額外教師／教...</td>\n",
       "      <td>為有特殊學習需要的學生調適功課，並在測驗／考試時作特別安排。</td>\n",
       "      <td>家長教師會舉辦不同的活動（如親子旅行、聖誕聯歡會、家長講座、家長工作坊等），以加強家長之間及...</td>\n",
       "      <td>1.　提升學生的自信心和建立正面的價值觀。　2.　培養學生愛己愛人的態度。</td>\n",
       "      <td>1.　發展共通能力　　　　2.　照顧學習多樣性　　　　　　3.　認識自己強弱項　　　&lt;br&gt;...</td>\n",
       "      <td>1.　範疇：學與教、學生發展、學校發展、專業群體關係及服務和教師專業身份。&lt;br&gt;2.　發展...</td>\n",
       "      <td>1.　各學科及術科均設有獎學金。&lt;br&gt;2.　於校外比賽獲多個獎項，如：香港學校戲劇節、香港...</td>\n",
       "    </tr>\n",
       "  </tbody>\n",
       "</table>\n",
       "<p>1 rows × 86 columns</p>\n",
       "</div>"
      ],
      "text/plain": [
       "  district school_name school_type_1 title_supervisor student_gender  \\\n",
       "0      中西區    聖公會聖馬太小學            資助               牧師             男女   \n",
       "\n",
       "      sponsoring_body  commencement_of_operation_year religion  school_size  \\\n",
       "0  聖公宗（香港）小學監理委員會有限公司                            1876      基督教        375.0   \n",
       "\n",
       "  medium_of_instruction  ...  \\\n",
       "0                    中文  ...   \n",
       "\n",
       "   scha_cultivation_of_positive_values_and_attitudes  \\\n",
       "0  1.　成立升旗隊、每週升國旗儀式及國旗下講話，培養學生國民身份認同。<br>2.　透過講座、...   \n",
       "\n",
       "                    scha_cater_for_learner_diversity  \\\n",
       "0  1.　培訓不同才能的學生，安排學生參加比賽和交流活動。<br>2.　P.1-6學生按中文學習...   \n",
       "\n",
       "                           scha_integrated_education  \\\n",
       "0  1.　個別及小組支援訓練。<br>2.　「及早識別和輔導有學習困難的小一學生」計劃，安排小一...   \n",
       "\n",
       "                        scha_support_for_non_chinese  \\\n",
       "0  本校為錄取的非華語學生提供額外支援，幫助他們學習中文：提供課後中文學習支援；增聘額外教師／教...   \n",
       "\n",
       "  scha_curriculum_tailoring_and_adaptation  \\\n",
       "0           為有特殊學習需要的學生調適功課，並在測驗／考試時作特別安排。   \n",
       "\n",
       "                                           hscse_hsc  \\\n",
       "0  家長教師會舉辦不同的活動（如親子旅行、聖誕聯歡會、家長講座、家長工作坊等），以加強家長之間及...   \n",
       "\n",
       "                      hscse_school_ethos  \\\n",
       "0  1.　提升學生的自信心和建立正面的價值觀。　2.　培養學生愛己愛人的態度。   \n",
       "\n",
       "                                fdev_school_dev_plan  \\\n",
       "0  1.　發展共通能力　　　　2.　照顧學習多樣性　　　　　　3.　認識自己強弱項　　　<br>...   \n",
       "\n",
       "                   fdev_teacher_pro_training_and_dev  \\\n",
       "0  1.　範疇：學與教、學生發展、學校發展、專業群體關係及服務和教師專業身份。<br>2.　發展...   \n",
       "\n",
       "                                sch_character_others  \n",
       "0  1.　各學科及術科均設有獎學金。<br>2.　於校外比賽獲多個獎項，如：香港學校戲劇節、香港...  \n",
       "\n",
       "[1 rows x 86 columns]"
      ]
     },
     "execution_count": 256,
     "metadata": {},
     "output_type": "execute_result"
    }
   ],
   "source": [
    "\n",
    "schools_datasets = schools_datasets[['district','school_name','school_type_1','title_supervisor','student_gender','sponsoring_body','commencement_of_operation_year','religion','school_size','medium_of_instruction','school_bus','nanny_van','parent_teacher_association','school_alumni_association','asc_school_fee','asc_tong_fai','asc_pta_fee','asc_charges_for_non_standard_items','asc_others','fac_no_of_classroom','fac_no_of_school_hall','fac_no_of_playground','fac_no_of_library','fac_special_rooms','tsi_no_of_approved_teaching_posts','tsi_total_no_of_teachers','tsi_percent_of_certificate','tsi_percent_of_bacherlor','tsi_percent_of_master_doctorate_or_above','tsi_percent_of_special_edu','tsi_percent_of_work_exp_0_4','tsi_percent_of_work_exp_5_9','tsi_percent_of_work_exp_10_or_above','previous_year_no_of_class_p1','previous_year_no_of_class_p2','previous_year_no_of_class_p3','previous_year_no_of_class_p4','previous_year_no_of_class_p5','previous_year_no_of_class_p6','previous_year_no_of_class_total','current_year_no_of_class_p1','current_year_no_of_class_p2','current_year_no_of_class_p3','current_year_no_of_class_p4','current_year_no_of_class_p5','current_year_no_of_class_p6','current_year_no_of_class_total','cs_mode_of_teaching','cs_remarks','pa_no_of_test_per_year_P1','pa_no_of_exam_P1','pa_replace_test_exam_P1','pa_no_of_test_per_year_P2_P6','pa_no_of_exam_P2_P6','pa_school_based_assignment_policy_P1_P6','pa_diversified_assessment','pa_streaming_arrangement','sl_no_of_school_days_per_week','sl_no_of_periods_per_day','sl_duration_of_period','sl_school_starts_at','sl_school_starts_at_AMPM','sl_school_ends_at','sl_school_ends_at_AMPM','sl_healthy_school_life','sl_remarks','life_wide_learning','school_mission','scha_school_organisation','scha_imc_smc_mc','scha_school_green_policy','scha_school_major_concerns','scha_learning_and_teaching_plan_url','scha_learning_and_teaching_strategies','scha_major_renewed_emphases_ps_edu_curriculum','scha_dev_of_generic skills','scha_cultivation_of_positive_values_and_attitudes','scha_cater_for_learner_diversity','scha_integrated_education','scha_support_for_non_chinese','scha_curriculum_tailoring_and_adaptation','hscse_hsc','hscse_school_ethos','fdev_school_dev_plan','fdev_teacher_pro_training_and_dev','sch_character_others']]\n",
    "schools_datasets.head(1)"
   ]
  },
  {
   "cell_type": "code",
   "execution_count": 303,
   "metadata": {},
   "outputs": [
    {
     "data": {
      "text/html": [
       "<div>\n",
       "<style scoped>\n",
       "    .dataframe tbody tr th:only-of-type {\n",
       "        vertical-align: middle;\n",
       "    }\n",
       "\n",
       "    .dataframe tbody tr th {\n",
       "        vertical-align: top;\n",
       "    }\n",
       "\n",
       "    .dataframe thead th {\n",
       "        text-align: right;\n",
       "    }\n",
       "</style>\n",
       "<table border=\"1\" class=\"dataframe\">\n",
       "  <thead>\n",
       "    <tr style=\"text-align: right;\">\n",
       "      <th></th>\n",
       "      <th>unnamed: 0</th>\n",
       "      <th>district</th>\n",
       "      <th>sub_district</th>\n",
       "      <th>school code</th>\n",
       "      <th>school_name</th>\n",
       "      <th>2024</th>\n",
       "      <th>2023</th>\n",
       "      <th>2022</th>\n",
       "      <th>2021</th>\n",
       "      <th>total</th>\n",
       "    </tr>\n",
       "  </thead>\n",
       "  <tbody>\n",
       "    <tr>\n",
       "      <th>0</th>\n",
       "      <td>1</td>\n",
       "      <td>港島</td>\n",
       "      <td>中西區</td>\n",
       "      <td>AP0078</td>\n",
       "      <td>中西區聖安多尼學校</td>\n",
       "      <td>0.0</td>\n",
       "      <td>0.0</td>\n",
       "      <td>0.0</td>\n",
       "      <td>1.0</td>\n",
       "      <td>1.0</td>\n",
       "    </tr>\n",
       "  </tbody>\n",
       "</table>\n",
       "</div>"
      ],
      "text/plain": [
       "   unnamed: 0 district sub_district school code school_name  2024  2023  2022  \\\n",
       "0           1       港島          中西區      AP0078   中西區聖安多尼學校   0.0   0.0   0.0   \n",
       "\n",
       "   2021  total  \n",
       "0   1.0    1.0  "
      ]
     },
     "execution_count": 303,
     "metadata": {},
     "output_type": "execute_result"
    }
   ],
   "source": [
    "primary_school_code_HKMO_Award.columns = primary_school_code_HKMO_Award.columns.str.lower()\n",
    "primary_school_code_HKMO_Award.rename(columns={'school name': 'school_name'}, inplace=True)\n",
    "primary_school_code_HKMO_Award.head(1)"
   ]
  },
  {
   "cell_type": "code",
   "execution_count": 258,
   "metadata": {},
   "outputs": [
    {
     "data": {
      "text/html": [
       "<div>\n",
       "<style scoped>\n",
       "    .dataframe tbody tr th:only-of-type {\n",
       "        vertical-align: middle;\n",
       "    }\n",
       "\n",
       "    .dataframe tbody tr th {\n",
       "        vertical-align: top;\n",
       "    }\n",
       "\n",
       "    .dataframe thead th {\n",
       "        text-align: right;\n",
       "    }\n",
       "</style>\n",
       "<table border=\"1\" class=\"dataframe\">\n",
       "  <thead>\n",
       "    <tr style=\"text-align: right;\">\n",
       "      <th></th>\n",
       "      <th>district</th>\n",
       "      <th>school_name</th>\n",
       "      <th>school_type_1</th>\n",
       "      <th>title_supervisor</th>\n",
       "      <th>student_gender</th>\n",
       "      <th>sponsoring_body</th>\n",
       "      <th>commencement_of_operation_year</th>\n",
       "      <th>religion</th>\n",
       "      <th>school_size</th>\n",
       "      <th>medium_of_instruction</th>\n",
       "      <th>...</th>\n",
       "      <th>scha_cultivation_of_positive_values_and_attitudes</th>\n",
       "      <th>scha_cater_for_learner_diversity</th>\n",
       "      <th>scha_integrated_education</th>\n",
       "      <th>scha_support_for_non_chinese</th>\n",
       "      <th>scha_curriculum_tailoring_and_adaptation</th>\n",
       "      <th>hscse_hsc</th>\n",
       "      <th>hscse_school_ethos</th>\n",
       "      <th>fdev_school_dev_plan</th>\n",
       "      <th>fdev_teacher_pro_training_and_dev</th>\n",
       "      <th>sch_character_others</th>\n",
       "    </tr>\n",
       "  </thead>\n",
       "  <tbody>\n",
       "    <tr>\n",
       "      <th>0</th>\n",
       "      <td>中西區</td>\n",
       "      <td>聖公會聖馬太小學</td>\n",
       "      <td>資助</td>\n",
       "      <td>牧師</td>\n",
       "      <td>男女</td>\n",
       "      <td>聖公宗（香港）小學監理委員會有限公司</td>\n",
       "      <td>1876</td>\n",
       "      <td>基督教</td>\n",
       "      <td>375.0</td>\n",
       "      <td>中文</td>\n",
       "      <td>...</td>\n",
       "      <td>1.　成立升旗隊、每週升國旗儀式及國旗下講話，培養學生國民身份認同。&lt;br&gt;2.　透過講座、...</td>\n",
       "      <td>1.　培訓不同才能的學生，安排學生參加比賽和交流活動。&lt;br&gt;2.　P.1-6學生按中文學習...</td>\n",
       "      <td>1.　個別及小組支援訓練。&lt;br&gt;2.　「及早識別和輔導有學習困難的小一學生」計劃，安排小一...</td>\n",
       "      <td>本校為錄取的非華語學生提供額外支援，幫助他們學習中文：提供課後中文學習支援；增聘額外教師／教...</td>\n",
       "      <td>為有特殊學習需要的學生調適功課，並在測驗／考試時作特別安排。</td>\n",
       "      <td>家長教師會舉辦不同的活動（如親子旅行、聖誕聯歡會、家長講座、家長工作坊等），以加強家長之間及...</td>\n",
       "      <td>1.　提升學生的自信心和建立正面的價值觀。　2.　培養學生愛己愛人的態度。</td>\n",
       "      <td>1.　發展共通能力　　　　2.　照顧學習多樣性　　　　　　3.　認識自己強弱項　　　&lt;br&gt;...</td>\n",
       "      <td>1.　範疇：學與教、學生發展、學校發展、專業群體關係及服務和教師專業身份。&lt;br&gt;2.　發展...</td>\n",
       "      <td>1.　各學科及術科均設有獎學金。&lt;br&gt;2.　於校外比賽獲多個獎項，如：香港學校戲劇節、香港...</td>\n",
       "    </tr>\n",
       "  </tbody>\n",
       "</table>\n",
       "<p>1 rows × 86 columns</p>\n",
       "</div>"
      ],
      "text/plain": [
       "  district school_name school_type_1 title_supervisor student_gender  \\\n",
       "0      中西區    聖公會聖馬太小學            資助               牧師             男女   \n",
       "\n",
       "      sponsoring_body  commencement_of_operation_year religion  school_size  \\\n",
       "0  聖公宗（香港）小學監理委員會有限公司                            1876      基督教        375.0   \n",
       "\n",
       "  medium_of_instruction  ...  \\\n",
       "0                    中文  ...   \n",
       "\n",
       "   scha_cultivation_of_positive_values_and_attitudes  \\\n",
       "0  1.　成立升旗隊、每週升國旗儀式及國旗下講話，培養學生國民身份認同。<br>2.　透過講座、...   \n",
       "\n",
       "                    scha_cater_for_learner_diversity  \\\n",
       "0  1.　培訓不同才能的學生，安排學生參加比賽和交流活動。<br>2.　P.1-6學生按中文學習...   \n",
       "\n",
       "                           scha_integrated_education  \\\n",
       "0  1.　個別及小組支援訓練。<br>2.　「及早識別和輔導有學習困難的小一學生」計劃，安排小一...   \n",
       "\n",
       "                        scha_support_for_non_chinese  \\\n",
       "0  本校為錄取的非華語學生提供額外支援，幫助他們學習中文：提供課後中文學習支援；增聘額外教師／教...   \n",
       "\n",
       "  scha_curriculum_tailoring_and_adaptation  \\\n",
       "0           為有特殊學習需要的學生調適功課，並在測驗／考試時作特別安排。   \n",
       "\n",
       "                                           hscse_hsc  \\\n",
       "0  家長教師會舉辦不同的活動（如親子旅行、聖誕聯歡會、家長講座、家長工作坊等），以加強家長之間及...   \n",
       "\n",
       "                      hscse_school_ethos  \\\n",
       "0  1.　提升學生的自信心和建立正面的價值觀。　2.　培養學生愛己愛人的態度。   \n",
       "\n",
       "                                fdev_school_dev_plan  \\\n",
       "0  1.　發展共通能力　　　　2.　照顧學習多樣性　　　　　　3.　認識自己強弱項　　　<br>...   \n",
       "\n",
       "                   fdev_teacher_pro_training_and_dev  \\\n",
       "0  1.　範疇：學與教、學生發展、學校發展、專業群體關係及服務和教師專業身份。<br>2.　發展...   \n",
       "\n",
       "                                sch_character_others  \n",
       "0  1.　各學科及術科均設有獎學金。<br>2.　於校外比賽獲多個獎項，如：香港學校戲劇節、香港...  \n",
       "\n",
       "[1 rows x 86 columns]"
      ]
     },
     "execution_count": 258,
     "metadata": {},
     "output_type": "execute_result"
    }
   ],
   "source": [
    "schools_datasets.head(1)"
   ]
  },
  {
   "cell_type": "code",
   "execution_count": 94,
   "metadata": {},
   "outputs": [
    {
     "name": "stdout",
     "output_type": "stream",
     "text": [
      "Requirement already satisfied: pip in c:\\python312\\lib\\site-packages (24.3.1)\n"
     ]
    },
    {
     "name": "stderr",
     "output_type": "stream",
     "text": [
      "ERROR: Could not find a version that satisfies the requirement install (from versions: none)\n",
      "ERROR: No matching distribution found for install\n"
     ]
    },
    {
     "name": "stdout",
     "output_type": "stream",
     "text": [
      "Requirement already satisfied: jieba in c:\\python312\\lib\\site-packages (0.42.1)\n"
     ]
    }
   ],
   "source": [
    "!pip install pip install wordcloud\n",
    "!pip install jieba"
   ]
  },
  {
   "cell_type": "code",
   "execution_count": 307,
   "metadata": {},
   "outputs": [
    {
     "data": {
      "image/png": "[encoded data removed]",
      "text/plain": [
       "<Figure size 640x480 with 1 Axes>"
      ]
     },
     "metadata": {},
     "output_type": "display_data"
    }
   ],
   "source": [
    "import jieba\n",
    "from wordcloud import WordCloud\n",
    "import matplotlib.pyplot as plt\n",
    "\n",
    "hscse_school_ethos_splitArr = schools_datasets['hscse_school_ethos'].apply(jieba.lcut)\n",
    "hscse_hsc_splitArr = schools_datasets['hscse_hsc'].apply(jieba.lcut)\n",
    "\n",
    "scha_curriculum_tailoring_and_adaptation_splitArr = schools_datasets['scha_curriculum_tailoring_and_adaptation'].apply(jieba.lcut)\n",
    "scha_cater_for_learner_diversity_splitArr = schools_datasets['scha_cater_for_learner_diversity'].apply(jieba.lcut)\n",
    "scha_cultivation_of_positive_values_and_attitudes_splitArr = schools_datasets['scha_cultivation_of_positive_values_and_attitudes'].apply(jieba.lcut)\n",
    "scha_integrated_education_splitArr = schools_datasets['scha_integrated_education'].apply(jieba.lcut)\n",
    "\t\n",
    "fdev_school_dev_plan_splitArr = schools_datasets['fdev_school_dev_plan'].apply(jieba.lcut)\t\n",
    "fdev_teacher_pro_training_and_dev_splitArr = schools_datasets['fdev_teacher_pro_training_and_dev'].apply(jieba.lcut)\t\n",
    "\t\n",
    "words_list = [\n",
    "    hscse_school_ethos_splitArr,\n",
    "    hscse_hsc_splitArr,\n",
    "\n",
    "    scha_curriculum_tailoring_and_adaptation_splitArr,\n",
    "    scha_cater_for_learner_diversity_splitArr,\n",
    "    scha_cultivation_of_positive_values_and_attitudes_splitArr,\n",
    "    scha_integrated_education_splitArr,\n",
    "        \n",
    "    fdev_school_dev_plan_splitArr,\n",
    "    fdev_teacher_pro_training_and_dev_splitArr,\n",
    "]\n",
    "\n",
    "cloud_arr = []\n",
    "font = r'C:\\Windows\\Fonts\\simfang.ttf'\n",
    "for (index, words_arr) in enumerate(words_list):\n",
    "    words_data = [word for word_arr in words_arr for (index, word) in enumerate(word_arr) if index != 0 and word not in ['.', '，', ',', '。','br', '的'] and index != (len(word_arr)-1)]\n",
    "    words = ''\n",
    "    for word in words_data:\n",
    "        words += word +' '\n",
    "    wordcloud = WordCloud(collocations=False, font_path=font, width=1400, height=1400, margin=2).generate(words)\n",
    "    plt.imshow(wordcloud, interpolation='bilinear')\n",
    "    wordcloud.to_file(f'words{index}.png') \n",
    "    plt.axis(\"off\")\n",
    "    cloud_arr.append(wordcloud)\n"
   ]
  },
  {
   "cell_type": "code",
   "execution_count": 308,
   "metadata": {},
   "outputs": [
    {
     "data": {
      "text/html": [
       "<div>\n",
       "<style scoped>\n",
       "    .dataframe tbody tr th:only-of-type {\n",
       "        vertical-align: middle;\n",
       "    }\n",
       "\n",
       "    .dataframe tbody tr th {\n",
       "        vertical-align: top;\n",
       "    }\n",
       "\n",
       "    .dataframe thead th {\n",
       "        text-align: right;\n",
       "    }\n",
       "</style>\n",
       "<table border=\"1\" class=\"dataframe\">\n",
       "  <thead>\n",
       "    <tr style=\"text-align: right;\">\n",
       "      <th></th>\n",
       "      <th>district</th>\n",
       "      <th>school_name</th>\n",
       "      <th>school_type_1</th>\n",
       "      <th>title_supervisor</th>\n",
       "      <th>student_gender</th>\n",
       "      <th>sponsoring_body</th>\n",
       "      <th>commencement_of_operation_year</th>\n",
       "      <th>religion</th>\n",
       "      <th>school_size</th>\n",
       "      <th>medium_of_instruction</th>\n",
       "      <th>...</th>\n",
       "      <th>scha_cultivation_of_positive_values_and_attitudes</th>\n",
       "      <th>scha_cater_for_learner_diversity</th>\n",
       "      <th>scha_integrated_education</th>\n",
       "      <th>scha_support_for_non_chinese</th>\n",
       "      <th>scha_curriculum_tailoring_and_adaptation</th>\n",
       "      <th>hscse_hsc</th>\n",
       "      <th>hscse_school_ethos</th>\n",
       "      <th>fdev_school_dev_plan</th>\n",
       "      <th>fdev_teacher_pro_training_and_dev</th>\n",
       "      <th>sch_character_others</th>\n",
       "    </tr>\n",
       "  </thead>\n",
       "  <tbody>\n",
       "    <tr>\n",
       "      <th>0</th>\n",
       "      <td>中西區</td>\n",
       "      <td>聖公會聖馬太小學</td>\n",
       "      <td>資助</td>\n",
       "      <td>牧師</td>\n",
       "      <td>男女</td>\n",
       "      <td>聖公宗（香港）小學監理委員會有限公司</td>\n",
       "      <td>1876</td>\n",
       "      <td>基督教</td>\n",
       "      <td>375.0</td>\n",
       "      <td>中文</td>\n",
       "      <td>...</td>\n",
       "      <td>1.　成立升旗隊、每週升國旗儀式及國旗下講話，培養學生國民身份認同。&lt;br&gt;2.　透過講座、...</td>\n",
       "      <td>1.　培訓不同才能的學生，安排學生參加比賽和交流活動。&lt;br&gt;2.　P.1-6學生按中文學習...</td>\n",
       "      <td>1.　個別及小組支援訓練。&lt;br&gt;2.　「及早識別和輔導有學習困難的小一學生」計劃，安排小一...</td>\n",
       "      <td>本校為錄取的非華語學生提供額外支援，幫助他們學習中文：提供課後中文學習支援；增聘額外教師／教...</td>\n",
       "      <td>為有特殊學習需要的學生調適功課，並在測驗／考試時作特別安排。</td>\n",
       "      <td>家長教師會舉辦不同的活動（如親子旅行、聖誕聯歡會、家長講座、家長工作坊等），以加強家長之間及...</td>\n",
       "      <td>1.　提升學生的自信心和建立正面的價值觀。　2.　培養學生愛己愛人的態度。</td>\n",
       "      <td>1.　發展共通能力　　　　2.　照顧學習多樣性　　　　　　3.　認識自己強弱項　　　&lt;br&gt;...</td>\n",
       "      <td>1.　範疇：學與教、學生發展、學校發展、專業群體關係及服務和教師專業身份。&lt;br&gt;2.　發展...</td>\n",
       "      <td>1.　各學科及術科均設有獎學金。&lt;br&gt;2.　於校外比賽獲多個獎項，如：香港學校戲劇節、香港...</td>\n",
       "    </tr>\n",
       "  </tbody>\n",
       "</table>\n",
       "<p>1 rows × 86 columns</p>\n",
       "</div>"
      ],
      "text/plain": [
       "  district school_name school_type_1 title_supervisor student_gender  \\\n",
       "0      中西區    聖公會聖馬太小學            資助               牧師             男女   \n",
       "\n",
       "      sponsoring_body  commencement_of_operation_year religion  school_size  \\\n",
       "0  聖公宗（香港）小學監理委員會有限公司                            1876      基督教        375.0   \n",
       "\n",
       "  medium_of_instruction  ...  \\\n",
       "0                    中文  ...   \n",
       "\n",
       "   scha_cultivation_of_positive_values_and_attitudes  \\\n",
       "0  1.　成立升旗隊、每週升國旗儀式及國旗下講話，培養學生國民身份認同。<br>2.　透過講座、...   \n",
       "\n",
       "                    scha_cater_for_learner_diversity  \\\n",
       "0  1.　培訓不同才能的學生，安排學生參加比賽和交流活動。<br>2.　P.1-6學生按中文學習...   \n",
       "\n",
       "                           scha_integrated_education  \\\n",
       "0  1.　個別及小組支援訓練。<br>2.　「及早識別和輔導有學習困難的小一學生」計劃，安排小一...   \n",
       "\n",
       "                        scha_support_for_non_chinese  \\\n",
       "0  本校為錄取的非華語學生提供額外支援，幫助他們學習中文：提供課後中文學習支援；增聘額外教師／教...   \n",
       "\n",
       "  scha_curriculum_tailoring_and_adaptation  \\\n",
       "0           為有特殊學習需要的學生調適功課，並在測驗／考試時作特別安排。   \n",
       "\n",
       "                                           hscse_hsc  \\\n",
       "0  家長教師會舉辦不同的活動（如親子旅行、聖誕聯歡會、家長講座、家長工作坊等），以加強家長之間及...   \n",
       "\n",
       "                      hscse_school_ethos  \\\n",
       "0  1.　提升學生的自信心和建立正面的價值觀。　2.　培養學生愛己愛人的態度。   \n",
       "\n",
       "                                fdev_school_dev_plan  \\\n",
       "0  1.　發展共通能力　　　　2.　照顧學習多樣性　　　　　　3.　認識自己強弱項　　　<br>...   \n",
       "\n",
       "                   fdev_teacher_pro_training_and_dev  \\\n",
       "0  1.　範疇：學與教、學生發展、學校發展、專業群體關係及服務和教師專業身份。<br>2.　發展...   \n",
       "\n",
       "                                sch_character_others  \n",
       "0  1.　各學科及術科均設有獎學金。<br>2.　於校外比賽獲多個獎項，如：香港學校戲劇節、香港...  \n",
       "\n",
       "[1 rows x 86 columns]"
      ]
     },
     "execution_count": 308,
     "metadata": {},
     "output_type": "execute_result"
    }
   ],
   "source": [
    "schools_datasets.head(1)"
   ]
  },
  {
   "cell_type": "code",
   "execution_count": 260,
   "metadata": {},
   "outputs": [
    {
     "data": {
      "text/html": [
       "<div>\n",
       "<style scoped>\n",
       "    .dataframe tbody tr th:only-of-type {\n",
       "        vertical-align: middle;\n",
       "    }\n",
       "\n",
       "    .dataframe tbody tr th {\n",
       "        vertical-align: top;\n",
       "    }\n",
       "\n",
       "    .dataframe thead th {\n",
       "        text-align: right;\n",
       "    }\n",
       "</style>\n",
       "<table border=\"1\" class=\"dataframe\">\n",
       "  <thead>\n",
       "    <tr style=\"text-align: right;\">\n",
       "      <th></th>\n",
       "      <th>district</th>\n",
       "      <th>school_name</th>\n",
       "      <th>school_type_1</th>\n",
       "      <th>title_supervisor</th>\n",
       "      <th>student_gender</th>\n",
       "      <th>sponsoring_body</th>\n",
       "      <th>commencement_of_operation_year</th>\n",
       "      <th>religion</th>\n",
       "      <th>school_size</th>\n",
       "      <th>medium_of_instruction</th>\n",
       "      <th>...</th>\n",
       "      <th>scha_cultivation_of_positive_values_and_attitudes</th>\n",
       "      <th>scha_cater_for_learner_diversity</th>\n",
       "      <th>scha_integrated_education</th>\n",
       "      <th>scha_support_for_non_chinese</th>\n",
       "      <th>scha_curriculum_tailoring_and_adaptation</th>\n",
       "      <th>hscse_hsc</th>\n",
       "      <th>hscse_school_ethos</th>\n",
       "      <th>fdev_school_dev_plan</th>\n",
       "      <th>fdev_teacher_pro_training_and_dev</th>\n",
       "      <th>sch_character_others</th>\n",
       "    </tr>\n",
       "  </thead>\n",
       "  <tbody>\n",
       "    <tr>\n",
       "      <th>0</th>\n",
       "      <td>中西區</td>\n",
       "      <td>聖公會聖馬太小學</td>\n",
       "      <td>資助</td>\n",
       "      <td>牧師</td>\n",
       "      <td>男女</td>\n",
       "      <td>聖公宗（香港）小學監理委員會有限公司</td>\n",
       "      <td>1876</td>\n",
       "      <td>基督教</td>\n",
       "      <td>375.0</td>\n",
       "      <td>中文</td>\n",
       "      <td>...</td>\n",
       "      <td>1.　成立升旗隊、每週升國旗儀式及國旗下講話，培養學生國民身份認同。&lt;br&gt;2.　透過講座、...</td>\n",
       "      <td>1.　培訓不同才能的學生，安排學生參加比賽和交流活動。&lt;br&gt;2.　P.1-6學生按中文學習...</td>\n",
       "      <td>1.　個別及小組支援訓練。&lt;br&gt;2.　「及早識別和輔導有學習困難的小一學生」計劃，安排小一...</td>\n",
       "      <td>本校為錄取的非華語學生提供額外支援，幫助他們學習中文：提供課後中文學習支援；增聘額外教師／教...</td>\n",
       "      <td>為有特殊學習需要的學生調適功課，並在測驗／考試時作特別安排。</td>\n",
       "      <td>家長教師會舉辦不同的活動（如親子旅行、聖誕聯歡會、家長講座、家長工作坊等），以加強家長之間及...</td>\n",
       "      <td>1.　提升學生的自信心和建立正面的價值觀。　2.　培養學生愛己愛人的態度。</td>\n",
       "      <td>1.　發展共通能力　　　　2.　照顧學習多樣性　　　　　　3.　認識自己強弱項　　　&lt;br&gt;...</td>\n",
       "      <td>1.　範疇：學與教、學生發展、學校發展、專業群體關係及服務和教師專業身份。&lt;br&gt;2.　發展...</td>\n",
       "      <td>1.　各學科及術科均設有獎學金。&lt;br&gt;2.　於校外比賽獲多個獎項，如：香港學校戲劇節、香港...</td>\n",
       "    </tr>\n",
       "  </tbody>\n",
       "</table>\n",
       "<p>1 rows × 86 columns</p>\n",
       "</div>"
      ],
      "text/plain": [
       "  district school_name school_type_1 title_supervisor student_gender  \\\n",
       "0      中西區    聖公會聖馬太小學            資助               牧師             男女   \n",
       "\n",
       "      sponsoring_body  commencement_of_operation_year religion  school_size  \\\n",
       "0  聖公宗（香港）小學監理委員會有限公司                            1876      基督教        375.0   \n",
       "\n",
       "  medium_of_instruction  ...  \\\n",
       "0                    中文  ...   \n",
       "\n",
       "   scha_cultivation_of_positive_values_and_attitudes  \\\n",
       "0  1.　成立升旗隊、每週升國旗儀式及國旗下講話，培養學生國民身份認同。<br>2.　透過講座、...   \n",
       "\n",
       "                    scha_cater_for_learner_diversity  \\\n",
       "0  1.　培訓不同才能的學生，安排學生參加比賽和交流活動。<br>2.　P.1-6學生按中文學習...   \n",
       "\n",
       "                           scha_integrated_education  \\\n",
       "0  1.　個別及小組支援訓練。<br>2.　「及早識別和輔導有學習困難的小一學生」計劃，安排小一...   \n",
       "\n",
       "                        scha_support_for_non_chinese  \\\n",
       "0  本校為錄取的非華語學生提供額外支援，幫助他們學習中文：提供課後中文學習支援；增聘額外教師／教...   \n",
       "\n",
       "  scha_curriculum_tailoring_and_adaptation  \\\n",
       "0           為有特殊學習需要的學生調適功課，並在測驗／考試時作特別安排。   \n",
       "\n",
       "                                           hscse_hsc  \\\n",
       "0  家長教師會舉辦不同的活動（如親子旅行、聖誕聯歡會、家長講座、家長工作坊等），以加強家長之間及...   \n",
       "\n",
       "                      hscse_school_ethos  \\\n",
       "0  1.　提升學生的自信心和建立正面的價值觀。　2.　培養學生愛己愛人的態度。   \n",
       "\n",
       "                                fdev_school_dev_plan  \\\n",
       "0  1.　發展共通能力　　　　2.　照顧學習多樣性　　　　　　3.　認識自己強弱項　　　<br>...   \n",
       "\n",
       "                   fdev_teacher_pro_training_and_dev  \\\n",
       "0  1.　範疇：學與教、學生發展、學校發展、專業群體關係及服務和教師專業身份。<br>2.　發展...   \n",
       "\n",
       "                                sch_character_others  \n",
       "0  1.　各學科及術科均設有獎學金。<br>2.　於校外比賽獲多個獎項，如：香港學校戲劇節、香港...  \n",
       "\n",
       "[1 rows x 86 columns]"
      ]
     },
     "execution_count": 260,
     "metadata": {},
     "output_type": "execute_result"
    }
   ],
   "source": [
    "schools_datasets.head(1)"
   ]
  },
  {
   "cell_type": "code",
   "execution_count": 261,
   "metadata": {},
   "outputs": [
    {
     "data": {
      "application/vnd.plotly.v1+json": {
       "config": {
        "plotlyServerURL": "https://plot.ly"
       },
       "data": [
        {
         "branchvalues": "total",
         "customdata": [
          [
           2
          ],
          [
           4
          ],
          [
           3
          ],
          [
           1
          ],
          [
           1
          ],
          [
           1
          ],
          [
           1
          ],
          [
           3
          ],
          [
           3
          ],
          [
           4
          ],
          [
           2
          ],
          [
           2
          ],
          [
           2
          ],
          [
           1
          ],
          [
           3
          ],
          [
           1
          ],
          [
           2
          ],
          [
           2
          ],
          [
           1
          ],
          [
           2
          ],
          [
           1
          ],
          [
           3
          ],
          [
           1
          ],
          [
           4
          ],
          [
           1
          ],
          [
           2
          ],
          [
           2
          ],
          [
           4
          ],
          [
           9
          ],
          [
           3
          ],
          [
           1
          ],
          [
           6
          ],
          [
           3
          ],
          [
           1
          ],
          [
           1
          ],
          [
           1
          ],
          [
           3
          ],
          [
           14
          ],
          [
           30
          ],
          [
           42
          ],
          [
           29
          ],
          [
           19
          ],
          [
           33
          ],
          [
           38
          ],
          [
           17
          ],
          [
           19
          ],
          [
           11
          ],
          [
           19
          ],
          [
           29
          ],
          [
           21
          ],
          [
           30
          ],
          [
           16
          ],
          [
           9
          ],
          [
           22
          ],
          [
           22
          ],
          [
           10.8
          ],
          [
           22.244444444444444
          ],
          [
           35.72
          ],
          [
           28.066666666666666
          ],
          [
           18.1
          ],
          [
           31.17142857142857
          ],
          [
           35.34146341463415
          ],
          [
           13.636363636363637
          ],
          [
           13.387096774193548
          ],
          [
           8.11111111111111
          ],
          [
           17.38095238095238
          ],
          [
           28.066666666666666
          ],
          [
           17.074074074074073
          ],
          [
           26.647058823529413
          ],
          [
           16
          ],
          [
           6.6923076923076925
          ],
          [
           17.785714285714285
          ],
          [
           19
          ]
         ],
         "domain": {
          "x": [
           0,
           1
          ],
          "y": [
           0,
           1
          ]
         },
         "hovertemplate": "labels=%{label}<br>school_count_sum=%{value}<br>parent=%{parent}<br>id=%{id}<br>school_count=%{color}<extra></extra>",
         "ids": [
          "中西區/官立",
          "九龍城區/官立",
          "元朗區/官立",
          "北區/官立",
          "大埔區/官立",
          "屯門區/官立",
          "沙田區/官立",
          "油尖旺區/官立",
          "深水埗區/官立",
          "灣仔區/官立",
          "荃灣區/官立",
          "西貢區/官立",
          "觀塘區/官立",
          "香港南區/官立",
          "香港東區/官立",
          "黃大仙區/官立",
          "九龍城區/直資",
          "元朗區/直資",
          "屯門區/直資",
          "沙田區/直資",
          "油尖旺區/直資",
          "深水埗區/直資",
          "葵青區/直資",
          "西貢區/直資",
          "觀塘區/直資",
          "香港南區/直資",
          "香港東區/直資",
          "中西區/私立",
          "九龍城區/私立",
          "元朗區/私立",
          "油尖旺區/私立",
          "深水埗區/私立",
          "灣仔區/私立",
          "觀塘區/私立",
          "香港南區/私立",
          "香港東區/私立",
          "黃大仙區/私立",
          "中西區/資助",
          "九龍城區/資助",
          "元朗區/資助",
          "北區/資助",
          "大埔區/資助",
          "屯門區/資助",
          "沙田區/資助",
          "油尖旺區/資助",
          "深水埗區/資助",
          "灣仔區/資助",
          "荃灣區/資助",
          "葵青區/資助",
          "西貢區/資助",
          "觀塘區/資助",
          "離島區/資助",
          "香港南區/資助",
          "香港東區/資助",
          "黃大仙區/資助",
          "中西區",
          "九龍城區",
          "元朗區",
          "北區",
          "大埔區",
          "屯門區",
          "沙田區",
          "油尖旺區",
          "深水埗區",
          "灣仔區",
          "荃灣區",
          "葵青區",
          "西貢區",
          "觀塘區",
          "離島區",
          "香港南區",
          "香港東區",
          "黃大仙區"
         ],
         "labels": [
          "官立",
          "官立",
          "官立",
          "官立",
          "官立",
          "官立",
          "官立",
          "官立",
          "官立",
          "官立",
          "官立",
          "官立",
          "官立",
          "官立",
          "官立",
          "官立",
          "直資",
          "直資",
          "直資",
          "直資",
          "直資",
          "直資",
          "直資",
          "直資",
          "直資",
          "直資",
          "直資",
          "私立",
          "私立",
          "私立",
          "私立",
          "私立",
          "私立",
          "私立",
          "私立",
          "私立",
          "私立",
          "資助",
          "資助",
          "資助",
          "資助",
          "資助",
          "資助",
          "資助",
          "資助",
          "資助",
          "資助",
          "資助",
          "資助",
          "資助",
          "資助",
          "資助",
          "資助",
          "資助",
          "資助",
          "中西區",
          "九龍城區",
          "元朗區",
          "北區",
          "大埔區",
          "屯門區",
          "沙田區",
          "油尖旺區",
          "深水埗區",
          "灣仔區",
          "荃灣區",
          "葵青區",
          "西貢區",
          "觀塘區",
          "離島區",
          "香港南區",
          "香港東區",
          "黃大仙區"
         ],
         "marker": {
          "coloraxis": "coloraxis",
          "colors": [
           2,
           4,
           3,
           1,
           1,
           1,
           1,
           3,
           3,
           4,
           2,
           2,
           2,
           1,
           3,
           1,
           2,
           2,
           1,
           2,
           1,
           3,
           1,
           4,
           1,
           2,
           2,
           4,
           9,
           3,
           1,
           6,
           3,
           1,
           1,
           1,
           3,
           14,
           30,
           42,
           29,
           19,
           33,
           38,
           17,
           19,
           11,
           19,
           29,
           21,
           30,
           16,
           9,
           22,
           22,
           10.8,
           22.244444444444444,
           35.72,
           28.066666666666666,
           18.1,
           31.17142857142857,
           35.34146341463415,
           13.636363636363637,
           13.387096774193548,
           8.11111111111111,
           17.38095238095238,
           28.066666666666666,
           17.074074074074073,
           26.647058823529413,
           16,
           6.6923076923076925,
           17.785714285714285,
           19
          ]
         },
         "name": "",
         "parents": [
          "中西區",
          "九龍城區",
          "元朗區",
          "北區",
          "大埔區",
          "屯門區",
          "沙田區",
          "油尖旺區",
          "深水埗區",
          "灣仔區",
          "荃灣區",
          "西貢區",
          "觀塘區",
          "香港南區",
          "香港東區",
          "黃大仙區",
          "九龍城區",
          "元朗區",
          "屯門區",
          "沙田區",
          "油尖旺區",
          "深水埗區",
          "葵青區",
          "西貢區",
          "觀塘區",
          "香港南區",
          "香港東區",
          "中西區",
          "九龍城區",
          "元朗區",
          "油尖旺區",
          "深水埗區",
          "灣仔區",
          "觀塘區",
          "香港南區",
          "香港東區",
          "黃大仙區",
          "中西區",
          "九龍城區",
          "元朗區",
          "北區",
          "大埔區",
          "屯門區",
          "沙田區",
          "油尖旺區",
          "深水埗區",
          "灣仔區",
          "荃灣區",
          "葵青區",
          "西貢區",
          "觀塘區",
          "離島區",
          "香港南區",
          "香港東區",
          "黃大仙區",
          "",
          "",
          "",
          "",
          "",
          "",
          "",
          "",
          "",
          "",
          "",
          "",
          "",
          "",
          "",
          "",
          "",
          ""
         ],
         "type": "sunburst",
         "values": [
          2,
          4,
          3,
          1,
          1,
          1,
          1,
          3,
          3,
          4,
          2,
          2,
          2,
          1,
          3,
          1,
          2,
          2,
          1,
          2,
          1,
          3,
          1,
          4,
          1,
          2,
          2,
          4,
          9,
          3,
          1,
          6,
          3,
          1,
          1,
          1,
          3,
          14,
          30,
          42,
          29,
          19,
          33,
          38,
          17,
          19,
          11,
          19,
          29,
          21,
          30,
          16,
          9,
          22,
          22,
          20,
          45,
          50,
          30,
          20,
          35,
          41,
          22,
          31,
          18,
          21,
          30,
          27,
          34,
          16,
          13,
          28,
          26
         ]
        }
       ],
       "layout": {
        "coloraxis": {
         "colorbar": {
          "title": {
           "text": "school_count"
          }
         },
         "colorscale": [
          [
           0,
           "#0d0887"
          ],
          [
           0.1111111111111111,
           "#46039f"
          ],
          [
           0.2222222222222222,
           "#7201a8"
          ],
          [
           0.3333333333333333,
           "#9c179e"
          ],
          [
           0.4444444444444444,
           "#bd3786"
          ],
          [
           0.5555555555555556,
           "#d8576b"
          ],
          [
           0.6666666666666666,
           "#ed7953"
          ],
          [
           0.7777777777777778,
           "#fb9f3a"
          ],
          [
           0.8888888888888888,
           "#fdca26"
          ],
          [
           1,
           "#f0f921"
          ]
         ]
        },
        "legend": {
         "tracegroupgap": 0
        },
        "margin": {
         "t": 60
        },
        "template": {
         "data": {
          "bar": [
           {
            "error_x": {
             "color": "#2a3f5f"
            },
            "error_y": {
             "color": "#2a3f5f"
            },
            "marker": {
             "line": {
              "color": "#E5ECF6",
              "width": 0.5
             },
             "pattern": {
              "fillmode": "overlay",
              "size": 10,
              "solidity": 0.2
             }
            },
            "type": "bar"
           }
          ],
          "barpolar": [
           {
            "marker": {
             "line": {
              "color": "#E5ECF6",
              "width": 0.5
             },
             "pattern": {
              "fillmode": "overlay",
              "size": 10,
              "solidity": 0.2
             }
            },
            "type": "barpolar"
           }
          ],
          "carpet": [
           {
            "aaxis": {
             "endlinecolor": "#2a3f5f",
             "gridcolor": "white",
             "linecolor": "white",
             "minorgridcolor": "white",
             "startlinecolor": "#2a3f5f"
            },
            "baxis": {
             "endlinecolor": "#2a3f5f",
             "gridcolor": "white",
             "linecolor": "white",
             "minorgridcolor": "white",
             "startlinecolor": "#2a3f5f"
            },
            "type": "carpet"
           }
          ],
          "choropleth": [
           {
            "colorbar": {
             "outlinewidth": 0,
             "ticks": ""
            },
            "type": "choropleth"
           }
          ],
          "contour": [
           {
            "colorbar": {
             "outlinewidth": 0,
             "ticks": ""
            },
            "colorscale": [
             [
              0,
              "#0d0887"
             ],
             [
              0.1111111111111111,
              "#46039f"
             ],
             [
              0.2222222222222222,
              "#7201a8"
             ],
             [
              0.3333333333333333,
              "#9c179e"
             ],
             [
              0.4444444444444444,
              "#bd3786"
             ],
             [
              0.5555555555555556,
              "#d8576b"
             ],
             [
              0.6666666666666666,
              "#ed7953"
             ],
             [
              0.7777777777777778,
              "#fb9f3a"
             ],
             [
              0.8888888888888888,
              "#fdca26"
             ],
             [
              1,
              "#f0f921"
             ]
            ],
            "type": "contour"
           }
          ],
          "contourcarpet": [
           {
            "colorbar": {
             "outlinewidth": 0,
             "ticks": ""
            },
            "type": "contourcarpet"
           }
          ],
          "heatmap": [
           {
            "colorbar": {
             "outlinewidth": 0,
             "ticks": ""
            },
            "colorscale": [
             [
              0,
              "#0d0887"
             ],
             [
              0.1111111111111111,
              "#46039f"
             ],
             [
              0.2222222222222222,
              "#7201a8"
             ],
             [
              0.3333333333333333,
              "#9c179e"
             ],
             [
              0.4444444444444444,
              "#bd3786"
             ],
             [
              0.5555555555555556,
              "#d8576b"
             ],
             [
              0.6666666666666666,
              "#ed7953"
             ],
             [
              0.7777777777777778,
              "#fb9f3a"
             ],
             [
              0.8888888888888888,
              "#fdca26"
             ],
             [
              1,
              "#f0f921"
             ]
            ],
            "type": "heatmap"
           }
          ],
          "heatmapgl": [
           {
            "colorbar": {
             "outlinewidth": 0,
             "ticks": ""
            },
            "colorscale": [
             [
              0,
              "#0d0887"
             ],
             [
              0.1111111111111111,
              "#46039f"
             ],
             [
              0.2222222222222222,
              "#7201a8"
             ],
             [
              0.3333333333333333,
              "#9c179e"
             ],
             [
              0.4444444444444444,
              "#bd3786"
             ],
             [
              0.5555555555555556,
              "#d8576b"
             ],
             [
              0.6666666666666666,
              "#ed7953"
             ],
             [
              0.7777777777777778,
              "#fb9f3a"
             ],
             [
              0.8888888888888888,
              "#fdca26"
             ],
             [
              1,
              "#f0f921"
             ]
            ],
            "type": "heatmapgl"
           }
          ],
          "histogram": [
           {
            "marker": {
             "pattern": {
              "fillmode": "overlay",
              "size": 10,
              "solidity": 0.2
             }
            },
            "type": "histogram"
           }
          ],
          "histogram2d": [
           {
            "colorbar": {
             "outlinewidth": 0,
             "ticks": ""
            },
            "colorscale": [
             [
              0,
              "#0d0887"
             ],
             [
              0.1111111111111111,
              "#46039f"
             ],
             [
              0.2222222222222222,
              "#7201a8"
             ],
             [
              0.3333333333333333,
              "#9c179e"
             ],
             [
              0.4444444444444444,
              "#bd3786"
             ],
             [
              0.5555555555555556,
              "#d8576b"
             ],
             [
              0.6666666666666666,
              "#ed7953"
             ],
             [
              0.7777777777777778,
              "#fb9f3a"
             ],
             [
              0.8888888888888888,
              "#fdca26"
             ],
             [
              1,
              "#f0f921"
             ]
            ],
            "type": "histogram2d"
           }
          ],
          "histogram2dcontour": [
           {
            "colorbar": {
             "outlinewidth": 0,
             "ticks": ""
            },
            "colorscale": [
             [
              0,
              "#0d0887"
             ],
             [
              0.1111111111111111,
              "#46039f"
             ],
             [
              0.2222222222222222,
              "#7201a8"
             ],
             [
              0.3333333333333333,
              "#9c179e"
             ],
             [
              0.4444444444444444,
              "#bd3786"
             ],
             [
              0.5555555555555556,
              "#d8576b"
             ],
             [
              0.6666666666666666,
              "#ed7953"
             ],
             [
              0.7777777777777778,
              "#fb9f3a"
             ],
             [
              0.8888888888888888,
              "#fdca26"
             ],
             [
              1,
              "#f0f921"
             ]
            ],
            "type": "histogram2dcontour"
           }
          ],
          "mesh3d": [
           {
            "colorbar": {
             "outlinewidth": 0,
             "ticks": ""
            },
            "type": "mesh3d"
           }
          ],
          "parcoords": [
           {
            "line": {
             "colorbar": {
              "outlinewidth": 0,
              "ticks": ""
             }
            },
            "type": "parcoords"
           }
          ],
          "pie": [
           {
            "automargin": true,
            "type": "pie"
           }
          ],
          "scatter": [
           {
            "fillpattern": {
             "fillmode": "overlay",
             "size": 10,
             "solidity": 0.2
            },
            "type": "scatter"
           }
          ],
          "scatter3d": [
           {
            "line": {
             "colorbar": {
              "outlinewidth": 0,
              "ticks": ""
             }
            },
            "marker": {
             "colorbar": {
              "outlinewidth": 0,
              "ticks": ""
             }
            },
            "type": "scatter3d"
           }
          ],
          "scattercarpet": [
           {
            "marker": {
             "colorbar": {
              "outlinewidth": 0,
              "ticks": ""
             }
            },
            "type": "scattercarpet"
           }
          ],
          "scattergeo": [
           {
            "marker": {
             "colorbar": {
              "outlinewidth": 0,
              "ticks": ""
             }
            },
            "type": "scattergeo"
           }
          ],
          "scattergl": [
           {
            "marker": {
             "colorbar": {
              "outlinewidth": 0,
              "ticks": ""
             }
            },
            "type": "scattergl"
           }
          ],
          "scattermapbox": [
           {
            "marker": {
             "colorbar": {
              "outlinewidth": 0,
              "ticks": ""
             }
            },
            "type": "scattermapbox"
           }
          ],
          "scatterpolar": [
           {
            "marker": {
             "colorbar": {
              "outlinewidth": 0,
              "ticks": ""
             }
            },
            "type": "scatterpolar"
           }
          ],
          "scatterpolargl": [
           {
            "marker": {
             "colorbar": {
              "outlinewidth": 0,
              "ticks": ""
             }
            },
            "type": "scatterpolargl"
           }
          ],
          "scatterternary": [
           {
            "marker": {
             "colorbar": {
              "outlinewidth": 0,
              "ticks": ""
             }
            },
            "type": "scatterternary"
           }
          ],
          "surface": [
           {
            "colorbar": {
             "outlinewidth": 0,
             "ticks": ""
            },
            "colorscale": [
             [
              0,
              "#0d0887"
             ],
             [
              0.1111111111111111,
              "#46039f"
             ],
             [
              0.2222222222222222,
              "#7201a8"
             ],
             [
              0.3333333333333333,
              "#9c179e"
             ],
             [
              0.4444444444444444,
              "#bd3786"
             ],
             [
              0.5555555555555556,
              "#d8576b"
             ],
             [
              0.6666666666666666,
              "#ed7953"
             ],
             [
              0.7777777777777778,
              "#fb9f3a"
             ],
             [
              0.8888888888888888,
              "#fdca26"
             ],
             [
              1,
              "#f0f921"
             ]
            ],
            "type": "surface"
           }
          ],
          "table": [
           {
            "cells": {
             "fill": {
              "color": "#EBF0F8"
             },
             "line": {
              "color": "white"
             }
            },
            "header": {
             "fill": {
              "color": "#C8D4E3"
             },
             "line": {
              "color": "white"
             }
            },
            "type": "table"
           }
          ]
         },
         "layout": {
          "annotationdefaults": {
           "arrowcolor": "#2a3f5f",
           "arrowhead": 0,
           "arrowwidth": 1
          },
          "autotypenumbers": "strict",
          "coloraxis": {
           "colorbar": {
            "outlinewidth": 0,
            "ticks": ""
           }
          },
          "colorscale": {
           "diverging": [
            [
             0,
             "#8e0152"
            ],
            [
             0.1,
             "#c51b7d"
            ],
            [
             0.2,
             "#de77ae"
            ],
            [
             0.3,
             "#f1b6da"
            ],
            [
             0.4,
             "#fde0ef"
            ],
            [
             0.5,
             "#f7f7f7"
            ],
            [
             0.6,
             "#e6f5d0"
            ],
            [
             0.7,
             "#b8e186"
            ],
            [
             0.8,
             "#7fbc41"
            ],
            [
             0.9,
             "#4d9221"
            ],
            [
             1,
             "#276419"
            ]
           ],
           "sequential": [
            [
             0,
             "#0d0887"
            ],
            [
             0.1111111111111111,
             "#46039f"
            ],
            [
             0.2222222222222222,
             "#7201a8"
            ],
            [
             0.3333333333333333,
             "#9c179e"
            ],
            [
             0.4444444444444444,
             "#bd3786"
            ],
            [
             0.5555555555555556,
             "#d8576b"
            ],
            [
             0.6666666666666666,
             "#ed7953"
            ],
            [
             0.7777777777777778,
             "#fb9f3a"
            ],
            [
             0.8888888888888888,
             "#fdca26"
            ],
            [
             1,
             "#f0f921"
            ]
           ],
           "sequentialminus": [
            [
             0,
             "#0d0887"
            ],
            [
             0.1111111111111111,
             "#46039f"
            ],
            [
             0.2222222222222222,
             "#7201a8"
            ],
            [
             0.3333333333333333,
             "#9c179e"
            ],
            [
             0.4444444444444444,
             "#bd3786"
            ],
            [
             0.5555555555555556,
             "#d8576b"
            ],
            [
             0.6666666666666666,
             "#ed7953"
            ],
            [
             0.7777777777777778,
             "#fb9f3a"
            ],
            [
             0.8888888888888888,
             "#fdca26"
            ],
            [
             1,
             "#f0f921"
            ]
           ]
          },
          "colorway": [
           "#636efa",
           "#EF553B",
           "#00cc96",
           "#ab63fa",
           "#FFA15A",
           "#19d3f3",
           "#FF6692",
           "#B6E880",
           "#FF97FF",
           "#FECB52"
          ],
          "font": {
           "color": "#2a3f5f"
          },
          "geo": {
           "bgcolor": "white",
           "lakecolor": "white",
           "landcolor": "#E5ECF6",
           "showlakes": true,
           "showland": true,
           "subunitcolor": "white"
          },
          "hoverlabel": {
           "align": "left"
          },
          "hovermode": "closest",
          "mapbox": {
           "style": "light"
          },
          "paper_bgcolor": "white",
          "plot_bgcolor": "#E5ECF6",
          "polar": {
           "angularaxis": {
            "gridcolor": "white",
            "linecolor": "white",
            "ticks": ""
           },
           "bgcolor": "#E5ECF6",
           "radialaxis": {
            "gridcolor": "white",
            "linecolor": "white",
            "ticks": ""
           }
          },
          "scene": {
           "xaxis": {
            "backgroundcolor": "#E5ECF6",
            "gridcolor": "white",
            "gridwidth": 2,
            "linecolor": "white",
            "showbackground": true,
            "ticks": "",
            "zerolinecolor": "white"
           },
           "yaxis": {
            "backgroundcolor": "#E5ECF6",
            "gridcolor": "white",
            "gridwidth": 2,
            "linecolor": "white",
            "showbackground": true,
            "ticks": "",
            "zerolinecolor": "white"
           },
           "zaxis": {
            "backgroundcolor": "#E5ECF6",
            "gridcolor": "white",
            "gridwidth": 2,
            "linecolor": "white",
            "showbackground": true,
            "ticks": "",
            "zerolinecolor": "white"
           }
          },
          "shapedefaults": {
           "line": {
            "color": "#2a3f5f"
           }
          },
          "ternary": {
           "aaxis": {
            "gridcolor": "white",
            "linecolor": "white",
            "ticks": ""
           },
           "baxis": {
            "gridcolor": "white",
            "linecolor": "white",
            "ticks": ""
           },
           "bgcolor": "#E5ECF6",
           "caxis": {
            "gridcolor": "white",
            "linecolor": "white",
            "ticks": ""
           }
          },
          "title": {
           "x": 0.05
          },
          "xaxis": {
           "automargin": true,
           "gridcolor": "white",
           "linecolor": "white",
           "ticks": "",
           "title": {
            "standoff": 15
           },
           "zerolinecolor": "white",
           "zerolinewidth": 2
          },
          "yaxis": {
           "automargin": true,
           "gridcolor": "white",
           "linecolor": "white",
           "ticks": "",
           "title": {
            "standoff": 15
           },
           "zerolinecolor": "white",
           "zerolinewidth": 2
          }
         }
        }
       }
      }
     },
     "metadata": {},
     "output_type": "display_data"
    }
   ],
   "source": [
    "district_and_school_type_1 = schools_datasets.groupby(['district', 'school_type_1']).size().reset_index(name='school_count')\n",
    "fig = px.sunburst(district_and_school_type_1, path=['district', 'school_type_1'], values='school_count',\n",
    "                  color='school_count')\n",
    "fig.show()"
   ]
  },
  {
   "cell_type": "code",
   "execution_count": 297,
   "metadata": {},
   "outputs": [
    {
     "data": {
      "text/html": [
       "<div>\n",
       "<style scoped>\n",
       "    .dataframe tbody tr th:only-of-type {\n",
       "        vertical-align: middle;\n",
       "    }\n",
       "\n",
       "    .dataframe tbody tr th {\n",
       "        vertical-align: top;\n",
       "    }\n",
       "\n",
       "    .dataframe thead th {\n",
       "        text-align: right;\n",
       "    }\n",
       "</style>\n",
       "<table border=\"1\" class=\"dataframe\">\n",
       "  <thead>\n",
       "    <tr style=\"text-align: right;\">\n",
       "      <th></th>\n",
       "      <th>district</th>\n",
       "      <th>school_type_1</th>\n",
       "      <th>school_count</th>\n",
       "    </tr>\n",
       "  </thead>\n",
       "  <tbody>\n",
       "    <tr>\n",
       "      <th>0</th>\n",
       "      <td>中西區</td>\n",
       "      <td>官立</td>\n",
       "      <td>2</td>\n",
       "    </tr>\n",
       "    <tr>\n",
       "      <th>1</th>\n",
       "      <td>中西區</td>\n",
       "      <td>私立</td>\n",
       "      <td>4</td>\n",
       "    </tr>\n",
       "    <tr>\n",
       "      <th>2</th>\n",
       "      <td>中西區</td>\n",
       "      <td>資助</td>\n",
       "      <td>14</td>\n",
       "    </tr>\n",
       "    <tr>\n",
       "      <th>3</th>\n",
       "      <td>九龍城區</td>\n",
       "      <td>官立</td>\n",
       "      <td>4</td>\n",
       "    </tr>\n",
       "    <tr>\n",
       "      <th>4</th>\n",
       "      <td>九龍城區</td>\n",
       "      <td>直資</td>\n",
       "      <td>2</td>\n",
       "    </tr>\n",
       "  </tbody>\n",
       "</table>\n",
       "</div>"
      ],
      "text/plain": [
       "  district school_type_1  school_count\n",
       "0      中西區            官立             2\n",
       "1      中西區            私立             4\n",
       "2      中西區            資助            14\n",
       "3     九龍城區            官立             4\n",
       "4     九龍城區            直資             2"
      ]
     },
     "execution_count": 297,
     "metadata": {},
     "output_type": "execute_result"
    }
   ],
   "source": [
    "district_and_school_type_1.head(5)"
   ]
  },
  {
   "cell_type": "code",
   "execution_count": 262,
   "metadata": {},
   "outputs": [
    {
     "data": {
      "application/vnd.plotly.v1+json": {
       "config": {
        "plotlyServerURL": "https://plot.ly"
       },
       "data": [
        {
         "branchvalues": "total",
         "customdata": [
          [
           1
          ],
          [
           6
          ],
          [
           1
          ],
          [
           5
          ],
          [
           2
          ],
          [
           5
          ],
          [
           1
          ],
          [
           1
          ],
          [
           4
          ],
          [
           15
          ],
          [
           3
          ],
          [
           14
          ],
          [
           4
          ],
          [
           3
          ],
          [
           27
          ],
          [
           5
          ],
          [
           2
          ],
          [
           8
          ],
          [
           1
          ],
          [
           1
          ],
          [
           1
          ],
          [
           1
          ],
          [
           3
          ],
          [
           1
          ],
          [
           18
          ],
          [
           6
          ],
          [
           2
          ],
          [
           1
          ],
          [
           3
          ],
          [
           7
          ],
          [
           2
          ],
          [
           2
          ],
          [
           3
          ],
          [
           1
          ],
          [
           1
          ],
          [
           2
          ],
          [
           2
          ],
          [
           16
          ],
          [
           4
          ],
          [
           2
          ],
          [
           7
          ],
          [
           2
          ],
          [
           3
          ],
          [
           1
          ],
          [
           1
          ],
          [
           18
          ],
          [
           6
          ],
          [
           1
          ],
          [
           10
          ],
          [
           1
          ],
          [
           1
          ],
          [
           1
          ],
          [
           1
          ],
          [
           1
          ],
          [
           1
          ],
          [
           7
          ],
          [
           1
          ],
          [
           7
          ],
          [
           1
          ],
          [
           4
          ],
          [
           1
          ],
          [
           2
          ],
          [
           9
          ],
          [
           2
          ],
          [
           1
          ],
          [
           9
          ],
          [
           1
          ],
          [
           1
          ],
          [
           1
          ],
          [
           2
          ],
          [
           3
          ],
          [
           4
          ],
          [
           1
          ],
          [
           4
          ],
          [
           7
          ],
          [
           1
          ],
          [
           1
          ],
          [
           2
          ],
          [
           10
          ],
          [
           2
          ],
          [
           5
          ],
          [
           1
          ],
          [
           1
          ],
          [
           13
          ],
          [
           2
          ],
          [
           1
          ],
          [
           9
          ],
          [
           1
          ],
          [
           2
          ],
          [
           1
          ],
          [
           12
          ],
          [
           6
          ],
          [
           1
          ],
          [
           2
          ],
          [
           2
          ],
          [
           3
          ],
          [
           1
          ],
          [
           12
          ],
          [
           3
          ],
          [
           2
          ],
          [
           8
          ],
          [
           1
          ],
          [
           3
          ],
          [
           4
          ],
          [
           9
          ],
          [
           1
          ],
          [
           1
          ],
          [
           4
          ],
          [
           1
          ],
          [
           3
          ],
          [
           2
          ],
          [
           1
          ],
          [
           3
          ],
          [
           2
          ],
          [
           2
          ],
          [
           1
          ],
          [
           8
          ],
          [
           4
          ],
          [
           7
          ],
          [
           2
          ],
          [
           1
          ],
          [
           2
          ],
          [
           3
          ],
          [
           2
          ],
          [
           10
          ],
          [
           1
          ],
          [
           6
          ],
          [
           1
          ],
          [
           1
          ],
          [
           2
          ],
          [
           3
          ],
          [
           1
          ],
          [
           1
          ],
          [
           2.6363636363636362
          ],
          [
           14.4
          ],
          [
           3.977777777777778
          ],
          [
           2
          ],
          [
           1.6153846153846154
          ],
          [
           7.9491525423728815
          ],
          [
           1
          ],
          [
           1
          ],
          [
           1.4444444444444444
          ],
          [
           1.3333333333333333
          ],
          [
           1.4
          ],
          [
           1
          ],
          [
           1.9090909090909092
          ],
          [
           2.7419354838709675
          ],
          [
           3.206896551724138
          ],
          [
           1
          ]
         ],
         "domain": {
          "x": [
           0,
           1
          ],
          "y": [
           0,
           1
          ]
         },
         "hovertemplate": "labels=%{label}<br>supervisor_count_sum=%{value}<br>parent=%{parent}<br>id=%{id}<br>supervisor_count=%{color}<extra></extra>",
         "ids": [
          "修女/中西區",
          "先生/中西區",
          "博士/中西區",
          "女士/中西區",
          "牧師/中西區",
          "神父/中西區",
          "主教/九龍城區",
          "修士/九龍城區",
          "修女/九龍城區",
          "先生/九龍城區",
          "博士/九龍城區",
          "女士/九龍城區",
          "牧師/九龍城區",
          "神父/九龍城區",
          "先生/元朗區",
          "博士/元朗區",
          "太平紳士/元朗區",
          "女士/元朗區",
          "小姐/元朗區",
          "教授/元朗區",
          "校監 M.H./元朗區",
          "法師/元朗區",
          "牧師/元朗區",
          "神父/元朗區",
          "先生/北區",
          "博士/北區",
          "校監/北區",
          "校監 M.H./北區",
          "法師/北區",
          "先生/大埔區",
          "博士/大埔區",
          "太平紳士/大埔區",
          "女士/大埔區",
          "小姐/大埔區",
          "校監/大埔區",
          "校監 M.H./大埔區",
          "牧師/大埔區",
          "先生/屯門區",
          "博士/屯門區",
          "太平紳士/屯門區",
          "女士/屯門區",
          "校監/屯門區",
          "牧師/屯門區",
          "神父/屯門區",
          "修女/沙田區",
          "先生/沙田區",
          "博士/沙田區",
          "太平紳士/沙田區",
          "女士/沙田區",
          "小姐/沙田區",
          "居士/沙田區",
          "教授/沙田區",
          "校監/沙田區",
          "牧師/沙田區",
          "修女/油尖旺區",
          "先生/油尖旺區",
          "博士/油尖旺區",
          "女士/油尖旺區",
          "教授/油尖旺區",
          "牧師/油尖旺區",
          "醫生/油尖旺區",
          "修女/深水埗區",
          "先生/深水埗區",
          "博士/深水埗區",
          "太平紳士/深水埗區",
          "女士/深水埗區",
          "教授/深水埗區",
          "校監/深水埗區",
          "校監 M.H./深水埗區",
          "牧師/深水埗區",
          "神父/深水埗區",
          "修女/灣仔區",
          "先生/灣仔區",
          "博士/灣仔區",
          "女士/灣仔區",
          "校監/灣仔區",
          "法師/灣仔區",
          "修女/荃灣區",
          "先生/荃灣區",
          "執事/荃灣區",
          "女士/荃灣區",
          "校監/荃灣區",
          "牧師/荃灣區",
          "先生/葵青區",
          "博士/葵青區",
          "太平紳士/葵青區",
          "女士/葵青區",
          "校監/葵青區",
          "法師/葵青區",
          "神父/葵青區",
          "先生/西貢區",
          "女士/西貢區",
          "校監/西貢區",
          "法師/西貢區",
          "牧師/西貢區",
          "神父/西貢區",
          "修女/觀塘區",
          "先生/觀塘區",
          "博士/觀塘區",
          "太平紳士/觀塘區",
          "女士/觀塘區",
          "法師/觀塘區",
          "牧師/觀塘區",
          "神父/觀塘區",
          "先生/離島區",
          "博士/離島區",
          "太平紳士/離島區",
          "女士/離島區",
          "校長/離島區",
          "修女/香港南區",
          "先生/香港南區",
          "博士/香港南區",
          "女士/香港南區",
          "教授/香港南區",
          "神父/香港南區",
          "修女/香港東區",
          "先生/香港東區",
          "博士/香港東區",
          "女士/香港東區",
          "教授/香港東區",
          "法師/香港東區",
          "牧師/香港東區",
          "神父/香港東區",
          "修女/黃大仙區",
          "先生/黃大仙區",
          "太平紳士/黃大仙區",
          "女士/黃大仙區",
          "教授/黃大仙區",
          "校監/黃大仙區",
          "牧師/黃大仙區",
          "神父/黃大仙區",
          "主教",
          "修士",
          "修女",
          "先生",
          "博士",
          "執事",
          "太平紳士",
          "女士",
          "小姐",
          "居士",
          "教授",
          "校監",
          "校監 M.H.",
          "校長",
          "法師",
          "牧師",
          "神父",
          "醫生"
         ],
         "labels": [
          "中西區",
          "中西區",
          "中西區",
          "中西區",
          "中西區",
          "中西區",
          "九龍城區",
          "九龍城區",
          "九龍城區",
          "九龍城區",
          "九龍城區",
          "九龍城區",
          "九龍城區",
          "九龍城區",
          "元朗區",
          "元朗區",
          "元朗區",
          "元朗區",
          "元朗區",
          "元朗區",
          "元朗區",
          "元朗區",
          "元朗區",
          "元朗區",
          "北區",
          "北區",
          "北區",
          "北區",
          "北區",
          "大埔區",
          "大埔區",
          "大埔區",
          "大埔區",
          "大埔區",
          "大埔區",
          "大埔區",
          "大埔區",
          "屯門區",
          "屯門區",
          "屯門區",
          "屯門區",
          "屯門區",
          "屯門區",
          "屯門區",
          "沙田區",
          "沙田區",
          "沙田區",
          "沙田區",
          "沙田區",
          "沙田區",
          "沙田區",
          "沙田區",
          "沙田區",
          "沙田區",
          "油尖旺區",
          "油尖旺區",
          "油尖旺區",
          "油尖旺區",
          "油尖旺區",
          "油尖旺區",
          "油尖旺區",
          "深水埗區",
          "深水埗區",
          "深水埗區",
          "深水埗區",
          "深水埗區",
          "深水埗區",
          "深水埗區",
          "深水埗區",
          "深水埗區",
          "深水埗區",
          "灣仔區",
          "灣仔區",
          "灣仔區",
          "灣仔區",
          "灣仔區",
          "灣仔區",
          "荃灣區",
          "荃灣區",
          "荃灣區",
          "荃灣區",
          "荃灣區",
          "荃灣區",
          "葵青區",
          "葵青區",
          "葵青區",
          "葵青區",
          "葵青區",
          "葵青區",
          "葵青區",
          "西貢區",
          "西貢區",
          "西貢區",
          "西貢區",
          "西貢區",
          "西貢區",
          "觀塘區",
          "觀塘區",
          "觀塘區",
          "觀塘區",
          "觀塘區",
          "觀塘區",
          "觀塘區",
          "觀塘區",
          "離島區",
          "離島區",
          "離島區",
          "離島區",
          "離島區",
          "香港南區",
          "香港南區",
          "香港南區",
          "香港南區",
          "香港南區",
          "香港南區",
          "香港東區",
          "香港東區",
          "香港東區",
          "香港東區",
          "香港東區",
          "香港東區",
          "香港東區",
          "香港東區",
          "黃大仙區",
          "黃大仙區",
          "黃大仙區",
          "黃大仙區",
          "黃大仙區",
          "黃大仙區",
          "黃大仙區",
          "黃大仙區",
          "主教",
          "修士",
          "修女",
          "先生",
          "博士",
          "執事",
          "太平紳士",
          "女士",
          "小姐",
          "居士",
          "教授",
          "校監",
          "校監 M.H.",
          "校長",
          "法師",
          "牧師",
          "神父",
          "醫生"
         ],
         "marker": {
          "coloraxis": "coloraxis",
          "colors": [
           1,
           6,
           1,
           5,
           2,
           5,
           1,
           1,
           4,
           15,
           3,
           14,
           4,
           3,
           27,
           5,
           2,
           8,
           1,
           1,
           1,
           1,
           3,
           1,
           18,
           6,
           2,
           1,
           3,
           7,
           2,
           2,
           3,
           1,
           1,
           2,
           2,
           16,
           4,
           2,
           7,
           2,
           3,
           1,
           1,
           18,
           6,
           1,
           10,
           1,
           1,
           1,
           1,
           1,
           1,
           7,
           1,
           7,
           1,
           4,
           1,
           2,
           9,
           2,
           1,
           9,
           1,
           1,
           1,
           2,
           3,
           4,
           1,
           4,
           7,
           1,
           1,
           2,
           10,
           2,
           5,
           1,
           1,
           13,
           2,
           1,
           9,
           1,
           2,
           1,
           12,
           6,
           1,
           2,
           2,
           3,
           1,
           12,
           3,
           2,
           8,
           1,
           3,
           4,
           9,
           1,
           1,
           4,
           1,
           3,
           2,
           1,
           3,
           2,
           2,
           1,
           8,
           4,
           7,
           2,
           1,
           2,
           3,
           2,
           10,
           1,
           6,
           1,
           1,
           2,
           3,
           1,
           1,
           2.6363636363636362,
           14.4,
           3.977777777777778,
           2,
           1.6153846153846154,
           7.9491525423728815,
           1,
           1,
           1.4444444444444444,
           1.3333333333333333,
           1.4,
           1,
           1.9090909090909092,
           2.7419354838709675,
           3.206896551724138,
           1
          ]
         },
         "name": "",
         "parents": [
          "修女",
          "先生",
          "博士",
          "女士",
          "牧師",
          "神父",
          "主教",
          "修士",
          "修女",
          "先生",
          "博士",
          "女士",
          "牧師",
          "神父",
          "先生",
          "博士",
          "太平紳士",
          "女士",
          "小姐",
          "教授",
          "校監 M.H.",
          "法師",
          "牧師",
          "神父",
          "先生",
          "博士",
          "校監",
          "校監 M.H.",
          "法師",
          "先生",
          "博士",
          "太平紳士",
          "女士",
          "小姐",
          "校監",
          "校監 M.H.",
          "牧師",
          "先生",
          "博士",
          "太平紳士",
          "女士",
          "校監",
          "牧師",
          "神父",
          "修女",
          "先生",
          "博士",
          "太平紳士",
          "女士",
          "小姐",
          "居士",
          "教授",
          "校監",
          "牧師",
          "修女",
          "先生",
          "博士",
          "女士",
          "教授",
          "牧師",
          "醫生",
          "修女",
          "先生",
          "博士",
          "太平紳士",
          "女士",
          "教授",
          "校監",
          "校監 M.H.",
          "牧師",
          "神父",
          "修女",
          "先生",
          "博士",
          "女士",
          "校監",
          "法師",
          "修女",
          "先生",
          "執事",
          "女士",
          "校監",
          "牧師",
          "先生",
          "博士",
          "太平紳士",
          "女士",
          "校監",
          "法師",
          "神父",
          "先生",
          "女士",
          "校監",
          "法師",
          "牧師",
          "神父",
          "修女",
          "先生",
          "博士",
          "太平紳士",
          "女士",
          "法師",
          "牧師",
          "神父",
          "先生",
          "博士",
          "太平紳士",
          "女士",
          "校長",
          "修女",
          "先生",
          "博士",
          "女士",
          "教授",
          "神父",
          "修女",
          "先生",
          "博士",
          "女士",
          "教授",
          "法師",
          "牧師",
          "神父",
          "修女",
          "先生",
          "太平紳士",
          "女士",
          "教授",
          "校監",
          "牧師",
          "神父",
          "",
          "",
          "",
          "",
          "",
          "",
          "",
          "",
          "",
          "",
          "",
          "",
          "",
          "",
          "",
          "",
          "",
          ""
         ],
         "type": "sunburst",
         "values": [
          1,
          6,
          1,
          5,
          2,
          5,
          1,
          1,
          4,
          15,
          3,
          14,
          4,
          3,
          27,
          5,
          2,
          8,
          1,
          1,
          1,
          1,
          3,
          1,
          18,
          6,
          2,
          1,
          3,
          7,
          2,
          2,
          3,
          1,
          1,
          2,
          2,
          16,
          4,
          2,
          7,
          2,
          3,
          1,
          1,
          18,
          6,
          1,
          10,
          1,
          1,
          1,
          1,
          1,
          1,
          7,
          1,
          7,
          1,
          4,
          1,
          2,
          9,
          2,
          1,
          9,
          1,
          1,
          1,
          2,
          3,
          4,
          1,
          4,
          7,
          1,
          1,
          2,
          10,
          2,
          5,
          1,
          1,
          13,
          2,
          1,
          9,
          1,
          2,
          1,
          12,
          6,
          1,
          2,
          2,
          3,
          1,
          12,
          3,
          2,
          8,
          1,
          3,
          4,
          9,
          1,
          1,
          4,
          1,
          3,
          2,
          1,
          3,
          2,
          2,
          1,
          8,
          4,
          7,
          2,
          1,
          2,
          3,
          2,
          10,
          1,
          6,
          1,
          1,
          2,
          3,
          1,
          1,
          22,
          200,
          45,
          2,
          13,
          118,
          3,
          1,
          9,
          12,
          5,
          1,
          11,
          31,
          29,
          1
         ]
        }
       ],
       "layout": {
        "coloraxis": {
         "colorbar": {
          "title": {
           "text": "supervisor_count"
          }
         },
         "colorscale": [
          [
           0,
           "#0d0887"
          ],
          [
           0.1111111111111111,
           "#46039f"
          ],
          [
           0.2222222222222222,
           "#7201a8"
          ],
          [
           0.3333333333333333,
           "#9c179e"
          ],
          [
           0.4444444444444444,
           "#bd3786"
          ],
          [
           0.5555555555555556,
           "#d8576b"
          ],
          [
           0.6666666666666666,
           "#ed7953"
          ],
          [
           0.7777777777777778,
           "#fb9f3a"
          ],
          [
           0.8888888888888888,
           "#fdca26"
          ],
          [
           1,
           "#f0f921"
          ]
         ]
        },
        "legend": {
         "tracegroupgap": 0
        },
        "margin": {
         "t": 60
        },
        "template": {
         "data": {
          "bar": [
           {
            "error_x": {
             "color": "#2a3f5f"
            },
            "error_y": {
             "color": "#2a3f5f"
            },
            "marker": {
             "line": {
              "color": "#E5ECF6",
              "width": 0.5
             },
             "pattern": {
              "fillmode": "overlay",
              "size": 10,
              "solidity": 0.2
             }
            },
            "type": "bar"
           }
          ],
          "barpolar": [
           {
            "marker": {
             "line": {
              "color": "#E5ECF6",
              "width": 0.5
             },
             "pattern": {
              "fillmode": "overlay",
              "size": 10,
              "solidity": 0.2
             }
            },
            "type": "barpolar"
           }
          ],
          "carpet": [
           {
            "aaxis": {
             "endlinecolor": "#2a3f5f",
             "gridcolor": "white",
             "linecolor": "white",
             "minorgridcolor": "white",
             "startlinecolor": "#2a3f5f"
            },
            "baxis": {
             "endlinecolor": "#2a3f5f",
             "gridcolor": "white",
             "linecolor": "white",
             "minorgridcolor": "white",
             "startlinecolor": "#2a3f5f"
            },
            "type": "carpet"
           }
          ],
          "choropleth": [
           {
            "colorbar": {
             "outlinewidth": 0,
             "ticks": ""
            },
            "type": "choropleth"
           }
          ],
          "contour": [
           {
            "colorbar": {
             "outlinewidth": 0,
             "ticks": ""
            },
            "colorscale": [
             [
              0,
              "#0d0887"
             ],
             [
              0.1111111111111111,
              "#46039f"
             ],
             [
              0.2222222222222222,
              "#7201a8"
             ],
             [
              0.3333333333333333,
              "#9c179e"
             ],
             [
              0.4444444444444444,
              "#bd3786"
             ],
             [
              0.5555555555555556,
              "#d8576b"
             ],
             [
              0.6666666666666666,
              "#ed7953"
             ],
             [
              0.7777777777777778,
              "#fb9f3a"
             ],
             [
              0.8888888888888888,
              "#fdca26"
             ],
             [
              1,
              "#f0f921"
             ]
            ],
            "type": "contour"
           }
          ],
          "contourcarpet": [
           {
            "colorbar": {
             "outlinewidth": 0,
             "ticks": ""
            },
            "type": "contourcarpet"
           }
          ],
          "heatmap": [
           {
            "colorbar": {
             "outlinewidth": 0,
             "ticks": ""
            },
            "colorscale": [
             [
              0,
              "#0d0887"
             ],
             [
              0.1111111111111111,
              "#46039f"
             ],
             [
              0.2222222222222222,
              "#7201a8"
             ],
             [
              0.3333333333333333,
              "#9c179e"
             ],
             [
              0.4444444444444444,
              "#bd3786"
             ],
             [
              0.5555555555555556,
              "#d8576b"
             ],
             [
              0.6666666666666666,
              "#ed7953"
             ],
             [
              0.7777777777777778,
              "#fb9f3a"
             ],
             [
              0.8888888888888888,
              "#fdca26"
             ],
             [
              1,
              "#f0f921"
             ]
            ],
            "type": "heatmap"
           }
          ],
          "heatmapgl": [
           {
            "colorbar": {
             "outlinewidth": 0,
             "ticks": ""
            },
            "colorscale": [
             [
              0,
              "#0d0887"
             ],
             [
              0.1111111111111111,
              "#46039f"
             ],
             [
              0.2222222222222222,
              "#7201a8"
             ],
             [
              0.3333333333333333,
              "#9c179e"
             ],
             [
              0.4444444444444444,
              "#bd3786"
             ],
             [
              0.5555555555555556,
              "#d8576b"
             ],
             [
              0.6666666666666666,
              "#ed7953"
             ],
             [
              0.7777777777777778,
              "#fb9f3a"
             ],
             [
              0.8888888888888888,
              "#fdca26"
             ],
             [
              1,
              "#f0f921"
             ]
            ],
            "type": "heatmapgl"
           }
          ],
          "histogram": [
           {
            "marker": {
             "pattern": {
              "fillmode": "overlay",
              "size": 10,
              "solidity": 0.2
             }
            },
            "type": "histogram"
           }
          ],
          "histogram2d": [
           {
            "colorbar": {
             "outlinewidth": 0,
             "ticks": ""
            },
            "colorscale": [
             [
              0,
              "#0d0887"
             ],
             [
              0.1111111111111111,
              "#46039f"
             ],
             [
              0.2222222222222222,
              "#7201a8"
             ],
             [
              0.3333333333333333,
              "#9c179e"
             ],
             [
              0.4444444444444444,
              "#bd3786"
             ],
             [
              0.5555555555555556,
              "#d8576b"
             ],
             [
              0.6666666666666666,
              "#ed7953"
             ],
             [
              0.7777777777777778,
              "#fb9f3a"
             ],
             [
              0.8888888888888888,
              "#fdca26"
             ],
             [
              1,
              "#f0f921"
             ]
            ],
            "type": "histogram2d"
           }
          ],
          "histogram2dcontour": [
           {
            "colorbar": {
             "outlinewidth": 0,
             "ticks": ""
            },
            "colorscale": [
             [
              0,
              "#0d0887"
             ],
             [
              0.1111111111111111,
              "#46039f"
             ],
             [
              0.2222222222222222,
              "#7201a8"
             ],
             [
              0.3333333333333333,
              "#9c179e"
             ],
             [
              0.4444444444444444,
              "#bd3786"
             ],
             [
              0.5555555555555556,
              "#d8576b"
             ],
             [
              0.6666666666666666,
              "#ed7953"
             ],
             [
              0.7777777777777778,
              "#fb9f3a"
             ],
             [
              0.8888888888888888,
              "#fdca26"
             ],
             [
              1,
              "#f0f921"
             ]
            ],
            "type": "histogram2dcontour"
           }
          ],
          "mesh3d": [
           {
            "colorbar": {
             "outlinewidth": 0,
             "ticks": ""
            },
            "type": "mesh3d"
           }
          ],
          "parcoords": [
           {
            "line": {
             "colorbar": {
              "outlinewidth": 0,
              "ticks": ""
             }
            },
            "type": "parcoords"
           }
          ],
          "pie": [
           {
            "automargin": true,
            "type": "pie"
           }
          ],
          "scatter": [
           {
            "fillpattern": {
             "fillmode": "overlay",
             "size": 10,
             "solidity": 0.2
            },
            "type": "scatter"
           }
          ],
          "scatter3d": [
           {
            "line": {
             "colorbar": {
              "outlinewidth": 0,
              "ticks": ""
             }
            },
            "marker": {
             "colorbar": {
              "outlinewidth": 0,
              "ticks": ""
             }
            },
            "type": "scatter3d"
           }
          ],
          "scattercarpet": [
           {
            "marker": {
             "colorbar": {
              "outlinewidth": 0,
              "ticks": ""
             }
            },
            "type": "scattercarpet"
           }
          ],
          "scattergeo": [
           {
            "marker": {
             "colorbar": {
              "outlinewidth": 0,
              "ticks": ""
             }
            },
            "type": "scattergeo"
           }
          ],
          "scattergl": [
           {
            "marker": {
             "colorbar": {
              "outlinewidth": 0,
              "ticks": ""
             }
            },
            "type": "scattergl"
           }
          ],
          "scattermapbox": [
           {
            "marker": {
             "colorbar": {
              "outlinewidth": 0,
              "ticks": ""
             }
            },
            "type": "scattermapbox"
           }
          ],
          "scatterpolar": [
           {
            "marker": {
             "colorbar": {
              "outlinewidth": 0,
              "ticks": ""
             }
            },
            "type": "scatterpolar"
           }
          ],
          "scatterpolargl": [
           {
            "marker": {
             "colorbar": {
              "outlinewidth": 0,
              "ticks": ""
             }
            },
            "type": "scatterpolargl"
           }
          ],
          "scatterternary": [
           {
            "marker": {
             "colorbar": {
              "outlinewidth": 0,
              "ticks": ""
             }
            },
            "type": "scatterternary"
           }
          ],
          "surface": [
           {
            "colorbar": {
             "outlinewidth": 0,
             "ticks": ""
            },
            "colorscale": [
             [
              0,
              "#0d0887"
             ],
             [
              0.1111111111111111,
              "#46039f"
             ],
             [
              0.2222222222222222,
              "#7201a8"
             ],
             [
              0.3333333333333333,
              "#9c179e"
             ],
             [
              0.4444444444444444,
              "#bd3786"
             ],
             [
              0.5555555555555556,
              "#d8576b"
             ],
             [
              0.6666666666666666,
              "#ed7953"
             ],
             [
              0.7777777777777778,
              "#fb9f3a"
             ],
             [
              0.8888888888888888,
              "#fdca26"
             ],
             [
              1,
              "#f0f921"
             ]
            ],
            "type": "surface"
           }
          ],
          "table": [
           {
            "cells": {
             "fill": {
              "color": "#EBF0F8"
             },
             "line": {
              "color": "white"
             }
            },
            "header": {
             "fill": {
              "color": "#C8D4E3"
             },
             "line": {
              "color": "white"
             }
            },
            "type": "table"
           }
          ]
         },
         "layout": {
          "annotationdefaults": {
           "arrowcolor": "#2a3f5f",
           "arrowhead": 0,
           "arrowwidth": 1
          },
          "autotypenumbers": "strict",
          "coloraxis": {
           "colorbar": {
            "outlinewidth": 0,
            "ticks": ""
           }
          },
          "colorscale": {
           "diverging": [
            [
             0,
             "#8e0152"
            ],
            [
             0.1,
             "#c51b7d"
            ],
            [
             0.2,
             "#de77ae"
            ],
            [
             0.3,
             "#f1b6da"
            ],
            [
             0.4,
             "#fde0ef"
            ],
            [
             0.5,
             "#f7f7f7"
            ],
            [
             0.6,
             "#e6f5d0"
            ],
            [
             0.7,
             "#b8e186"
            ],
            [
             0.8,
             "#7fbc41"
            ],
            [
             0.9,
             "#4d9221"
            ],
            [
             1,
             "#276419"
            ]
           ],
           "sequential": [
            [
             0,
             "#0d0887"
            ],
            [
             0.1111111111111111,
             "#46039f"
            ],
            [
             0.2222222222222222,
             "#7201a8"
            ],
            [
             0.3333333333333333,
             "#9c179e"
            ],
            [
             0.4444444444444444,
             "#bd3786"
            ],
            [
             0.5555555555555556,
             "#d8576b"
            ],
            [
             0.6666666666666666,
             "#ed7953"
            ],
            [
             0.7777777777777778,
             "#fb9f3a"
            ],
            [
             0.8888888888888888,
             "#fdca26"
            ],
            [
             1,
             "#f0f921"
            ]
           ],
           "sequentialminus": [
            [
             0,
             "#0d0887"
            ],
            [
             0.1111111111111111,
             "#46039f"
            ],
            [
             0.2222222222222222,
             "#7201a8"
            ],
            [
             0.3333333333333333,
             "#9c179e"
            ],
            [
             0.4444444444444444,
             "#bd3786"
            ],
            [
             0.5555555555555556,
             "#d8576b"
            ],
            [
             0.6666666666666666,
             "#ed7953"
            ],
            [
             0.7777777777777778,
             "#fb9f3a"
            ],
            [
             0.8888888888888888,
             "#fdca26"
            ],
            [
             1,
             "#f0f921"
            ]
           ]
          },
          "colorway": [
           "#636efa",
           "#EF553B",
           "#00cc96",
           "#ab63fa",
           "#FFA15A",
           "#19d3f3",
           "#FF6692",
           "#B6E880",
           "#FF97FF",
           "#FECB52"
          ],
          "font": {
           "color": "#2a3f5f"
          },
          "geo": {
           "bgcolor": "white",
           "lakecolor": "white",
           "landcolor": "#E5ECF6",
           "showlakes": true,
           "showland": true,
           "subunitcolor": "white"
          },
          "hoverlabel": {
           "align": "left"
          },
          "hovermode": "closest",
          "mapbox": {
           "style": "light"
          },
          "paper_bgcolor": "white",
          "plot_bgcolor": "#E5ECF6",
          "polar": {
           "angularaxis": {
            "gridcolor": "white",
            "linecolor": "white",
            "ticks": ""
           },
           "bgcolor": "#E5ECF6",
           "radialaxis": {
            "gridcolor": "white",
            "linecolor": "white",
            "ticks": ""
           }
          },
          "scene": {
           "xaxis": {
            "backgroundcolor": "#E5ECF6",
            "gridcolor": "white",
            "gridwidth": 2,
            "linecolor": "white",
            "showbackground": true,
            "ticks": "",
            "zerolinecolor": "white"
           },
           "yaxis": {
            "backgroundcolor": "#E5ECF6",
            "gridcolor": "white",
            "gridwidth": 2,
            "linecolor": "white",
            "showbackground": true,
            "ticks": "",
            "zerolinecolor": "white"
           },
           "zaxis": {
            "backgroundcolor": "#E5ECF6",
            "gridcolor": "white",
            "gridwidth": 2,
            "linecolor": "white",
            "showbackground": true,
            "ticks": "",
            "zerolinecolor": "white"
           }
          },
          "shapedefaults": {
           "line": {
            "color": "#2a3f5f"
           }
          },
          "ternary": {
           "aaxis": {
            "gridcolor": "white",
            "linecolor": "white",
            "ticks": ""
           },
           "baxis": {
            "gridcolor": "white",
            "linecolor": "white",
            "ticks": ""
           },
           "bgcolor": "#E5ECF6",
           "caxis": {
            "gridcolor": "white",
            "linecolor": "white",
            "ticks": ""
           }
          },
          "title": {
           "x": 0.05
          },
          "xaxis": {
           "automargin": true,
           "gridcolor": "white",
           "linecolor": "white",
           "ticks": "",
           "title": {
            "standoff": 15
           },
           "zerolinecolor": "white",
           "zerolinewidth": 2
          },
          "yaxis": {
           "automargin": true,
           "gridcolor": "white",
           "linecolor": "white",
           "ticks": "",
           "title": {
            "standoff": 15
           },
           "zerolinecolor": "white",
           "zerolinewidth": 2
          }
         }
        }
       }
      }
     },
     "metadata": {},
     "output_type": "display_data"
    }
   ],
   "source": [
    "district_and_title_supervisor = schools_datasets.groupby(['title_supervisor','district']).size().reset_index(name='supervisor_count')\n",
    "fig = px.sunburst(district_and_title_supervisor, path=['title_supervisor','district'], values='supervisor_count',\n",
    "                  color='supervisor_count')\n",
    "fig.show()"
   ]
  },
  {
   "cell_type": "code",
   "execution_count": 263,
   "metadata": {},
   "outputs": [
    {
     "data": {
      "application/vnd.plotly.v1+json": {
       "config": {
        "plotlyServerURL": "https://plot.ly"
       },
       "data": [
        {
         "branchvalues": "total",
         "customdata": [
          [
           4
          ],
          [
           1
          ],
          [
           15
          ],
          [
           6
          ],
          [
           2
          ],
          [
           37
          ],
          [
           50
          ],
          [
           30
          ],
          [
           20
          ],
          [
           35
          ],
          [
           41
          ],
          [
           2
          ],
          [
           1
          ],
          [
           19
          ],
          [
           1
          ],
          [
           30
          ],
          [
           4
          ],
          [
           1
          ],
          [
           13
          ],
          [
           21
          ],
          [
           30
          ],
          [
           27
          ],
          [
           1
          ],
          [
           33
          ],
          [
           16
          ],
          [
           1
          ],
          [
           12
          ],
          [
           1
          ],
          [
           27
          ],
          [
           2
          ],
          [
           24
          ],
          [
           4.222222222222222
          ],
          [
           1.2222222222222223
          ],
          [
           30.404166666666665
          ]
         ],
         "domain": {
          "x": [
           0,
           1
          ],
          "y": [
           0,
           1
          ]
         },
         "hovertemplate": "labels=%{label}<br>gender_count_sum=%{value}<br>parent=%{parent}<br>id=%{id}<br>gender_count=%{color}<extra></extra>",
         "ids": [
          "女/中西區",
          "男/中西區",
          "男女/中西區",
          "女/九龍城區",
          "男/九龍城區",
          "男女/九龍城區",
          "男女/元朗區",
          "男女/北區",
          "男女/大埔區",
          "男女/屯門區",
          "男女/沙田區",
          "女/油尖旺區",
          "男/油尖旺區",
          "男女/油尖旺區",
          "男/深水埗區",
          "男女/深水埗區",
          "女/灣仔區",
          "男/灣仔區",
          "男女/灣仔區",
          "男女/荃灣區",
          "男女/葵青區",
          "男女/西貢區",
          "男/觀塘區",
          "男女/觀塘區",
          "男女/離島區",
          "男/香港南區",
          "男女/香港南區",
          "男/香港東區",
          "男女/香港東區",
          "女/黃大仙區",
          "男女/黃大仙區",
          "女",
          "男",
          "男女"
         ],
         "labels": [
          "中西區",
          "中西區",
          "中西區",
          "九龍城區",
          "九龍城區",
          "九龍城區",
          "元朗區",
          "北區",
          "大埔區",
          "屯門區",
          "沙田區",
          "油尖旺區",
          "油尖旺區",
          "油尖旺區",
          "深水埗區",
          "深水埗區",
          "灣仔區",
          "灣仔區",
          "灣仔區",
          "荃灣區",
          "葵青區",
          "西貢區",
          "觀塘區",
          "觀塘區",
          "離島區",
          "香港南區",
          "香港南區",
          "香港東區",
          "香港東區",
          "黃大仙區",
          "黃大仙區",
          "女",
          "男",
          "男女"
         ],
         "marker": {
          "coloraxis": "coloraxis",
          "colors": [
           4,
           1,
           15,
           6,
           2,
           37,
           50,
           30,
           20,
           35,
           41,
           2,
           1,
           19,
           1,
           30,
           4,
           1,
           13,
           21,
           30,
           27,
           1,
           33,
           16,
           1,
           12,
           1,
           27,
           2,
           24,
           4.222222222222222,
           1.2222222222222223,
           30.404166666666665
          ]
         },
         "name": "",
         "parents": [
          "女",
          "男",
          "男女",
          "女",
          "男",
          "男女",
          "男女",
          "男女",
          "男女",
          "男女",
          "男女",
          "女",
          "男",
          "男女",
          "男",
          "男女",
          "女",
          "男",
          "男女",
          "男女",
          "男女",
          "男女",
          "男",
          "男女",
          "男女",
          "男",
          "男女",
          "男",
          "男女",
          "女",
          "男女",
          "",
          "",
          ""
         ],
         "type": "sunburst",
         "values": [
          4,
          1,
          15,
          6,
          2,
          37,
          50,
          30,
          20,
          35,
          41,
          2,
          1,
          19,
          1,
          30,
          4,
          1,
          13,
          21,
          30,
          27,
          1,
          33,
          16,
          1,
          12,
          1,
          27,
          2,
          24,
          18,
          9,
          480
         ]
        }
       ],
       "layout": {
        "coloraxis": {
         "colorbar": {
          "title": {
           "text": "gender_count"
          }
         },
         "colorscale": [
          [
           0,
           "#0d0887"
          ],
          [
           0.1111111111111111,
           "#46039f"
          ],
          [
           0.2222222222222222,
           "#7201a8"
          ],
          [
           0.3333333333333333,
           "#9c179e"
          ],
          [
           0.4444444444444444,
           "#bd3786"
          ],
          [
           0.5555555555555556,
           "#d8576b"
          ],
          [
           0.6666666666666666,
           "#ed7953"
          ],
          [
           0.7777777777777778,
           "#fb9f3a"
          ],
          [
           0.8888888888888888,
           "#fdca26"
          ],
          [
           1,
           "#f0f921"
          ]
         ]
        },
        "legend": {
         "tracegroupgap": 0
        },
        "margin": {
         "t": 60
        },
        "template": {
         "data": {
          "bar": [
           {
            "error_x": {
             "color": "#2a3f5f"
            },
            "error_y": {
             "color": "#2a3f5f"
            },
            "marker": {
             "line": {
              "color": "#E5ECF6",
              "width": 0.5
             },
             "pattern": {
              "fillmode": "overlay",
              "size": 10,
              "solidity": 0.2
             }
            },
            "type": "bar"
           }
          ],
          "barpolar": [
           {
            "marker": {
             "line": {
              "color": "#E5ECF6",
              "width": 0.5
             },
             "pattern": {
              "fillmode": "overlay",
              "size": 10,
              "solidity": 0.2
             }
            },
            "type": "barpolar"
           }
          ],
          "carpet": [
           {
            "aaxis": {
             "endlinecolor": "#2a3f5f",
             "gridcolor": "white",
             "linecolor": "white",
             "minorgridcolor": "white",
             "startlinecolor": "#2a3f5f"
            },
            "baxis": {
             "endlinecolor": "#2a3f5f",
             "gridcolor": "white",
             "linecolor": "white",
             "minorgridcolor": "white",
             "startlinecolor": "#2a3f5f"
            },
            "type": "carpet"
           }
          ],
          "choropleth": [
           {
            "colorbar": {
             "outlinewidth": 0,
             "ticks": ""
            },
            "type": "choropleth"
           }
          ],
          "contour": [
           {
            "colorbar": {
             "outlinewidth": 0,
             "ticks": ""
            },
            "colorscale": [
             [
              0,
              "#0d0887"
             ],
             [
              0.1111111111111111,
              "#46039f"
             ],
             [
              0.2222222222222222,
              "#7201a8"
             ],
             [
              0.3333333333333333,
              "#9c179e"
             ],
             [
              0.4444444444444444,
              "#bd3786"
             ],
             [
              0.5555555555555556,
              "#d8576b"
             ],
             [
              0.6666666666666666,
              "#ed7953"
             ],
             [
              0.7777777777777778,
              "#fb9f3a"
             ],
             [
              0.8888888888888888,
              "#fdca26"
             ],
             [
              1,
              "#f0f921"
             ]
            ],
            "type": "contour"
           }
          ],
          "contourcarpet": [
           {
            "colorbar": {
             "outlinewidth": 0,
             "ticks": ""
            },
            "type": "contourcarpet"
           }
          ],
          "heatmap": [
           {
            "colorbar": {
             "outlinewidth": 0,
             "ticks": ""
            },
            "colorscale": [
             [
              0,
              "#0d0887"
             ],
             [
              0.1111111111111111,
              "#46039f"
             ],
             [
              0.2222222222222222,
              "#7201a8"
             ],
             [
              0.3333333333333333,
              "#9c179e"
             ],
             [
              0.4444444444444444,
              "#bd3786"
             ],
             [
              0.5555555555555556,
              "#d8576b"
             ],
             [
              0.6666666666666666,
              "#ed7953"
             ],
             [
              0.7777777777777778,
              "#fb9f3a"
             ],
             [
              0.8888888888888888,
              "#fdca26"
             ],
             [
              1,
              "#f0f921"
             ]
            ],
            "type": "heatmap"
           }
          ],
          "heatmapgl": [
           {
            "colorbar": {
             "outlinewidth": 0,
             "ticks": ""
            },
            "colorscale": [
             [
              0,
              "#0d0887"
             ],
             [
              0.1111111111111111,
              "#46039f"
             ],
             [
              0.2222222222222222,
              "#7201a8"
             ],
             [
              0.3333333333333333,
              "#9c179e"
             ],
             [
              0.4444444444444444,
              "#bd3786"
             ],
             [
              0.5555555555555556,
              "#d8576b"
             ],
             [
              0.6666666666666666,
              "#ed7953"
             ],
             [
              0.7777777777777778,
              "#fb9f3a"
             ],
             [
              0.8888888888888888,
              "#fdca26"
             ],
             [
              1,
              "#f0f921"
             ]
            ],
            "type": "heatmapgl"
           }
          ],
          "histogram": [
           {
            "marker": {
             "pattern": {
              "fillmode": "overlay",
              "size": 10,
              "solidity": 0.2
             }
            },
            "type": "histogram"
           }
          ],
          "histogram2d": [
           {
            "colorbar": {
             "outlinewidth": 0,
             "ticks": ""
            },
            "colorscale": [
             [
              0,
              "#0d0887"
             ],
             [
              0.1111111111111111,
              "#46039f"
             ],
             [
              0.2222222222222222,
              "#7201a8"
             ],
             [
              0.3333333333333333,
              "#9c179e"
             ],
             [
              0.4444444444444444,
              "#bd3786"
             ],
             [
              0.5555555555555556,
              "#d8576b"
             ],
             [
              0.6666666666666666,
              "#ed7953"
             ],
             [
              0.7777777777777778,
              "#fb9f3a"
             ],
             [
              0.8888888888888888,
              "#fdca26"
             ],
             [
              1,
              "#f0f921"
             ]
            ],
            "type": "histogram2d"
           }
          ],
          "histogram2dcontour": [
           {
            "colorbar": {
             "outlinewidth": 0,
             "ticks": ""
            },
            "colorscale": [
             [
              0,
              "#0d0887"
             ],
             [
              0.1111111111111111,
              "#46039f"
             ],
             [
              0.2222222222222222,
              "#7201a8"
             ],
             [
              0.3333333333333333,
              "#9c179e"
             ],
             [
              0.4444444444444444,
              "#bd3786"
             ],
             [
              0.5555555555555556,
              "#d8576b"
             ],
             [
              0.6666666666666666,
              "#ed7953"
             ],
             [
              0.7777777777777778,
              "#fb9f3a"
             ],
             [
              0.8888888888888888,
              "#fdca26"
             ],
             [
              1,
              "#f0f921"
             ]
            ],
            "type": "histogram2dcontour"
           }
          ],
          "mesh3d": [
           {
            "colorbar": {
             "outlinewidth": 0,
             "ticks": ""
            },
            "type": "mesh3d"
           }
          ],
          "parcoords": [
           {
            "line": {
             "colorbar": {
              "outlinewidth": 0,
              "ticks": ""
             }
            },
            "type": "parcoords"
           }
          ],
          "pie": [
           {
            "automargin": true,
            "type": "pie"
           }
          ],
          "scatter": [
           {
            "fillpattern": {
             "fillmode": "overlay",
             "size": 10,
             "solidity": 0.2
            },
            "type": "scatter"
           }
          ],
          "scatter3d": [
           {
            "line": {
             "colorbar": {
              "outlinewidth": 0,
              "ticks": ""
             }
            },
            "marker": {
             "colorbar": {
              "outlinewidth": 0,
              "ticks": ""
             }
            },
            "type": "scatter3d"
           }
          ],
          "scattercarpet": [
           {
            "marker": {
             "colorbar": {
              "outlinewidth": 0,
              "ticks": ""
             }
            },
            "type": "scattercarpet"
           }
          ],
          "scattergeo": [
           {
            "marker": {
             "colorbar": {
              "outlinewidth": 0,
              "ticks": ""
             }
            },
            "type": "scattergeo"
           }
          ],
          "scattergl": [
           {
            "marker": {
             "colorbar": {
              "outlinewidth": 0,
              "ticks": ""
             }
            },
            "type": "scattergl"
           }
          ],
          "scattermapbox": [
           {
            "marker": {
             "colorbar": {
              "outlinewidth": 0,
              "ticks": ""
             }
            },
            "type": "scattermapbox"
           }
          ],
          "scatterpolar": [
           {
            "marker": {
             "colorbar": {
              "outlinewidth": 0,
              "ticks": ""
             }
            },
            "type": "scatterpolar"
           }
          ],
          "scatterpolargl": [
           {
            "marker": {
             "colorbar": {
              "outlinewidth": 0,
              "ticks": ""
             }
            },
            "type": "scatterpolargl"
           }
          ],
          "scatterternary": [
           {
            "marker": {
             "colorbar": {
              "outlinewidth": 0,
              "ticks": ""
             }
            },
            "type": "scatterternary"
           }
          ],
          "surface": [
           {
            "colorbar": {
             "outlinewidth": 0,
             "ticks": ""
            },
            "colorscale": [
             [
              0,
              "#0d0887"
             ],
             [
              0.1111111111111111,
              "#46039f"
             ],
             [
              0.2222222222222222,
              "#7201a8"
             ],
             [
              0.3333333333333333,
              "#9c179e"
             ],
             [
              0.4444444444444444,
              "#bd3786"
             ],
             [
              0.5555555555555556,
              "#d8576b"
             ],
             [
              0.6666666666666666,
              "#ed7953"
             ],
             [
              0.7777777777777778,
              "#fb9f3a"
             ],
             [
              0.8888888888888888,
              "#fdca26"
             ],
             [
              1,
              "#f0f921"
             ]
            ],
            "type": "surface"
           }
          ],
          "table": [
           {
            "cells": {
             "fill": {
              "color": "#EBF0F8"
             },
             "line": {
              "color": "white"
             }
            },
            "header": {
             "fill": {
              "color": "#C8D4E3"
             },
             "line": {
              "color": "white"
             }
            },
            "type": "table"
           }
          ]
         },
         "layout": {
          "annotationdefaults": {
           "arrowcolor": "#2a3f5f",
           "arrowhead": 0,
           "arrowwidth": 1
          },
          "autotypenumbers": "strict",
          "coloraxis": {
           "colorbar": {
            "outlinewidth": 0,
            "ticks": ""
           }
          },
          "colorscale": {
           "diverging": [
            [
             0,
             "#8e0152"
            ],
            [
             0.1,
             "#c51b7d"
            ],
            [
             0.2,
             "#de77ae"
            ],
            [
             0.3,
             "#f1b6da"
            ],
            [
             0.4,
             "#fde0ef"
            ],
            [
             0.5,
             "#f7f7f7"
            ],
            [
             0.6,
             "#e6f5d0"
            ],
            [
             0.7,
             "#b8e186"
            ],
            [
             0.8,
             "#7fbc41"
            ],
            [
             0.9,
             "#4d9221"
            ],
            [
             1,
             "#276419"
            ]
           ],
           "sequential": [
            [
             0,
             "#0d0887"
            ],
            [
             0.1111111111111111,
             "#46039f"
            ],
            [
             0.2222222222222222,
             "#7201a8"
            ],
            [
             0.3333333333333333,
             "#9c179e"
            ],
            [
             0.4444444444444444,
             "#bd3786"
            ],
            [
             0.5555555555555556,
             "#d8576b"
            ],
            [
             0.6666666666666666,
             "#ed7953"
            ],
            [
             0.7777777777777778,
             "#fb9f3a"
            ],
            [
             0.8888888888888888,
             "#fdca26"
            ],
            [
             1,
             "#f0f921"
            ]
           ],
           "sequentialminus": [
            [
             0,
             "#0d0887"
            ],
            [
             0.1111111111111111,
             "#46039f"
            ],
            [
             0.2222222222222222,
             "#7201a8"
            ],
            [
             0.3333333333333333,
             "#9c179e"
            ],
            [
             0.4444444444444444,
             "#bd3786"
            ],
            [
             0.5555555555555556,
             "#d8576b"
            ],
            [
             0.6666666666666666,
             "#ed7953"
            ],
            [
             0.7777777777777778,
             "#fb9f3a"
            ],
            [
             0.8888888888888888,
             "#fdca26"
            ],
            [
             1,
             "#f0f921"
            ]
           ]
          },
          "colorway": [
           "#636efa",
           "#EF553B",
           "#00cc96",
           "#ab63fa",
           "#FFA15A",
           "#19d3f3",
           "#FF6692",
           "#B6E880",
           "#FF97FF",
           "#FECB52"
          ],
          "font": {
           "color": "#2a3f5f"
          },
          "geo": {
           "bgcolor": "white",
           "lakecolor": "white",
           "landcolor": "#E5ECF6",
           "showlakes": true,
           "showland": true,
           "subunitcolor": "white"
          },
          "hoverlabel": {
           "align": "left"
          },
          "hovermode": "closest",
          "mapbox": {
           "style": "light"
          },
          "paper_bgcolor": "white",
          "plot_bgcolor": "#E5ECF6",
          "polar": {
           "angularaxis": {
            "gridcolor": "white",
            "linecolor": "white",
            "ticks": ""
           },
           "bgcolor": "#E5ECF6",
           "radialaxis": {
            "gridcolor": "white",
            "linecolor": "white",
            "ticks": ""
           }
          },
          "scene": {
           "xaxis": {
            "backgroundcolor": "#E5ECF6",
            "gridcolor": "white",
            "gridwidth": 2,
            "linecolor": "white",
            "showbackground": true,
            "ticks": "",
            "zerolinecolor": "white"
           },
           "yaxis": {
            "backgroundcolor": "#E5ECF6",
            "gridcolor": "white",
            "gridwidth": 2,
            "linecolor": "white",
            "showbackground": true,
            "ticks": "",
            "zerolinecolor": "white"
           },
           "zaxis": {
            "backgroundcolor": "#E5ECF6",
            "gridcolor": "white",
            "gridwidth": 2,
            "linecolor": "white",
            "showbackground": true,
            "ticks": "",
            "zerolinecolor": "white"
           }
          },
          "shapedefaults": {
           "line": {
            "color": "#2a3f5f"
           }
          },
          "ternary": {
           "aaxis": {
            "gridcolor": "white",
            "linecolor": "white",
            "ticks": ""
           },
           "baxis": {
            "gridcolor": "white",
            "linecolor": "white",
            "ticks": ""
           },
           "bgcolor": "#E5ECF6",
           "caxis": {
            "gridcolor": "white",
            "linecolor": "white",
            "ticks": ""
           }
          },
          "title": {
           "x": 0.05
          },
          "xaxis": {
           "automargin": true,
           "gridcolor": "white",
           "linecolor": "white",
           "ticks": "",
           "title": {
            "standoff": 15
           },
           "zerolinecolor": "white",
           "zerolinewidth": 2
          },
          "yaxis": {
           "automargin": true,
           "gridcolor": "white",
           "linecolor": "white",
           "ticks": "",
           "title": {
            "standoff": 15
           },
           "zerolinecolor": "white",
           "zerolinewidth": 2
          }
         }
        }
       }
      }
     },
     "metadata": {},
     "output_type": "display_data"
    }
   ],
   "source": [
    "district_and_student_gender = schools_datasets.groupby(['district','student_gender']).size().reset_index(name='gender_count')\n",
    "\n",
    "fig = px.sunburst(district_and_student_gender, path=['student_gender','district'], values='gender_count',\n",
    "                  color='gender_count')\n",
    "fig.show()"
   ]
  },
  {
   "cell_type": "code",
   "execution_count": 264,
   "metadata": {},
   "outputs": [
    {
     "data": {
      "application/vnd.plotly.v1+json": {
       "config": {
        "plotlyServerURL": "https://plot.ly"
       },
       "data": [
        {
         "domain": {
          "x": [
           0,
           1
          ],
          "y": [
           0,
           1
          ]
         },
         "hovertemplate": "religion=%{label}<br>religion_count=%{value}<extra></extra>",
         "labels": [
          "不適用",
          "基督教",
          "天主教",
          "不適用",
          "其他",
          "基督教",
          "天主教",
          "不適用",
          "佛教",
          "其他",
          "基督教",
          "天主教",
          "不適用",
          "佛教",
          "基督教",
          "天主教",
          "不適用",
          "基督教",
          "天主教",
          "道教",
          "不適用",
          "伊斯蘭教",
          "基督教",
          "天主教",
          "道教",
          "不適用",
          "佛教",
          "基督教",
          "天主教",
          "道教",
          "不適用",
          "基督教",
          "天主教",
          "不適用",
          "基督教",
          "天主教",
          "不適用",
          "佛教",
          "基督教",
          "天主教",
          "不適用",
          "其他",
          "基督教",
          "天主教",
          "道教",
          "不適用",
          "佛教",
          "基督教",
          "天主教",
          "不適用",
          "佛教",
          "基督教",
          "天主教",
          "不適用",
          "佛教",
          "基督教",
          "天主教",
          "道教",
          "不適用",
          "其他",
          "基督教",
          "天主教",
          "道教",
          "不適用",
          "基督教",
          "天主教",
          "不適用",
          "佛教",
          "基督教",
          "天主教",
          "不適用",
          "伊斯蘭教",
          "其他",
          "基督教",
          "天主教",
          "孔教"
         ],
         "legendgroup": "",
         "name": "",
         "showlegend": true,
         "type": "pie",
         "values": [
          6,
          6,
          8,
          9,
          1,
          22,
          13,
          31,
          3,
          1,
          14,
          1,
          19,
          3,
          7,
          1,
          12,
          6,
          1,
          1,
          24,
          1,
          6,
          2,
          2,
          15,
          1,
          21,
          3,
          1,
          9,
          7,
          6,
          8,
          13,
          10,
          7,
          2,
          2,
          7,
          4,
          1,
          7,
          8,
          1,
          10,
          2,
          13,
          5,
          13,
          2,
          8,
          4,
          6,
          1,
          14,
          11,
          2,
          6,
          1,
          5,
          3,
          1,
          3,
          5,
          5,
          12,
          1,
          11,
          4,
          3,
          1,
          1,
          5,
          15,
          1
         ]
        }
       ],
       "layout": {
        "legend": {
         "tracegroupgap": 0
        },
        "template": {
         "data": {
          "bar": [
           {
            "error_x": {
             "color": "#2a3f5f"
            },
            "error_y": {
             "color": "#2a3f5f"
            },
            "marker": {
             "line": {
              "color": "#E5ECF6",
              "width": 0.5
             },
             "pattern": {
              "fillmode": "overlay",
              "size": 10,
              "solidity": 0.2
             }
            },
            "type": "bar"
           }
          ],
          "barpolar": [
           {
            "marker": {
             "line": {
              "color": "#E5ECF6",
              "width": 0.5
             },
             "pattern": {
              "fillmode": "overlay",
              "size": 10,
              "solidity": 0.2
             }
            },
            "type": "barpolar"
           }
          ],
          "carpet": [
           {
            "aaxis": {
             "endlinecolor": "#2a3f5f",
             "gridcolor": "white",
             "linecolor": "white",
             "minorgridcolor": "white",
             "startlinecolor": "#2a3f5f"
            },
            "baxis": {
             "endlinecolor": "#2a3f5f",
             "gridcolor": "white",
             "linecolor": "white",
             "minorgridcolor": "white",
             "startlinecolor": "#2a3f5f"
            },
            "type": "carpet"
           }
          ],
          "choropleth": [
           {
            "colorbar": {
             "outlinewidth": 0,
             "ticks": ""
            },
            "type": "choropleth"
           }
          ],
          "contour": [
           {
            "colorbar": {
             "outlinewidth": 0,
             "ticks": ""
            },
            "colorscale": [
             [
              0,
              "#0d0887"
             ],
             [
              0.1111111111111111,
              "#46039f"
             ],
             [
              0.2222222222222222,
              "#7201a8"
             ],
             [
              0.3333333333333333,
              "#9c179e"
             ],
             [
              0.4444444444444444,
              "#bd3786"
             ],
             [
              0.5555555555555556,
              "#d8576b"
             ],
             [
              0.6666666666666666,
              "#ed7953"
             ],
             [
              0.7777777777777778,
              "#fb9f3a"
             ],
             [
              0.8888888888888888,
              "#fdca26"
             ],
             [
              1,
              "#f0f921"
             ]
            ],
            "type": "contour"
           }
          ],
          "contourcarpet": [
           {
            "colorbar": {
             "outlinewidth": 0,
             "ticks": ""
            },
            "type": "contourcarpet"
           }
          ],
          "heatmap": [
           {
            "colorbar": {
             "outlinewidth": 0,
             "ticks": ""
            },
            "colorscale": [
             [
              0,
              "#0d0887"
             ],
             [
              0.1111111111111111,
              "#46039f"
             ],
             [
              0.2222222222222222,
              "#7201a8"
             ],
             [
              0.3333333333333333,
              "#9c179e"
             ],
             [
              0.4444444444444444,
              "#bd3786"
             ],
             [
              0.5555555555555556,
              "#d8576b"
             ],
             [
              0.6666666666666666,
              "#ed7953"
             ],
             [
              0.7777777777777778,
              "#fb9f3a"
             ],
             [
              0.8888888888888888,
              "#fdca26"
             ],
             [
              1,
              "#f0f921"
             ]
            ],
            "type": "heatmap"
           }
          ],
          "heatmapgl": [
           {
            "colorbar": {
             "outlinewidth": 0,
             "ticks": ""
            },
            "colorscale": [
             [
              0,
              "#0d0887"
             ],
             [
              0.1111111111111111,
              "#46039f"
             ],
             [
              0.2222222222222222,
              "#7201a8"
             ],
             [
              0.3333333333333333,
              "#9c179e"
             ],
             [
              0.4444444444444444,
              "#bd3786"
             ],
             [
              0.5555555555555556,
              "#d8576b"
             ],
             [
              0.6666666666666666,
              "#ed7953"
             ],
             [
              0.7777777777777778,
              "#fb9f3a"
             ],
             [
              0.8888888888888888,
              "#fdca26"
             ],
             [
              1,
              "#f0f921"
             ]
            ],
            "type": "heatmapgl"
           }
          ],
          "histogram": [
           {
            "marker": {
             "pattern": {
              "fillmode": "overlay",
              "size": 10,
              "solidity": 0.2
             }
            },
            "type": "histogram"
           }
          ],
          "histogram2d": [
           {
            "colorbar": {
             "outlinewidth": 0,
             "ticks": ""
            },
            "colorscale": [
             [
              0,
              "#0d0887"
             ],
             [
              0.1111111111111111,
              "#46039f"
             ],
             [
              0.2222222222222222,
              "#7201a8"
             ],
             [
              0.3333333333333333,
              "#9c179e"
             ],
             [
              0.4444444444444444,
              "#bd3786"
             ],
             [
              0.5555555555555556,
              "#d8576b"
             ],
             [
              0.6666666666666666,
              "#ed7953"
             ],
             [
              0.7777777777777778,
              "#fb9f3a"
             ],
             [
              0.8888888888888888,
              "#fdca26"
             ],
             [
              1,
              "#f0f921"
             ]
            ],
            "type": "histogram2d"
           }
          ],
          "histogram2dcontour": [
           {
            "colorbar": {
             "outlinewidth": 0,
             "ticks": ""
            },
            "colorscale": [
             [
              0,
              "#0d0887"
             ],
             [
              0.1111111111111111,
              "#46039f"
             ],
             [
              0.2222222222222222,
              "#7201a8"
             ],
             [
              0.3333333333333333,
              "#9c179e"
             ],
             [
              0.4444444444444444,
              "#bd3786"
             ],
             [
              0.5555555555555556,
              "#d8576b"
             ],
             [
              0.6666666666666666,
              "#ed7953"
             ],
             [
              0.7777777777777778,
              "#fb9f3a"
             ],
             [
              0.8888888888888888,
              "#fdca26"
             ],
             [
              1,
              "#f0f921"
             ]
            ],
            "type": "histogram2dcontour"
           }
          ],
          "mesh3d": [
           {
            "colorbar": {
             "outlinewidth": 0,
             "ticks": ""
            },
            "type": "mesh3d"
           }
          ],
          "parcoords": [
           {
            "line": {
             "colorbar": {
              "outlinewidth": 0,
              "ticks": ""
             }
            },
            "type": "parcoords"
           }
          ],
          "pie": [
           {
            "automargin": true,
            "type": "pie"
           }
          ],
          "scatter": [
           {
            "fillpattern": {
             "fillmode": "overlay",
             "size": 10,
             "solidity": 0.2
            },
            "type": "scatter"
           }
          ],
          "scatter3d": [
           {
            "line": {
             "colorbar": {
              "outlinewidth": 0,
              "ticks": ""
             }
            },
            "marker": {
             "colorbar": {
              "outlinewidth": 0,
              "ticks": ""
             }
            },
            "type": "scatter3d"
           }
          ],
          "scattercarpet": [
           {
            "marker": {
             "colorbar": {
              "outlinewidth": 0,
              "ticks": ""
             }
            },
            "type": "scattercarpet"
           }
          ],
          "scattergeo": [
           {
            "marker": {
             "colorbar": {
              "outlinewidth": 0,
              "ticks": ""
             }
            },
            "type": "scattergeo"
           }
          ],
          "scattergl": [
           {
            "marker": {
             "colorbar": {
              "outlinewidth": 0,
              "ticks": ""
             }
            },
            "type": "scattergl"
           }
          ],
          "scattermapbox": [
           {
            "marker": {
             "colorbar": {
              "outlinewidth": 0,
              "ticks": ""
             }
            },
            "type": "scattermapbox"
           }
          ],
          "scatterpolar": [
           {
            "marker": {
             "colorbar": {
              "outlinewidth": 0,
              "ticks": ""
             }
            },
            "type": "scatterpolar"
           }
          ],
          "scatterpolargl": [
           {
            "marker": {
             "colorbar": {
              "outlinewidth": 0,
              "ticks": ""
             }
            },
            "type": "scatterpolargl"
           }
          ],
          "scatterternary": [
           {
            "marker": {
             "colorbar": {
              "outlinewidth": 0,
              "ticks": ""
             }
            },
            "type": "scatterternary"
           }
          ],
          "surface": [
           {
            "colorbar": {
             "outlinewidth": 0,
             "ticks": ""
            },
            "colorscale": [
             [
              0,
              "#0d0887"
             ],
             [
              0.1111111111111111,
              "#46039f"
             ],
             [
              0.2222222222222222,
              "#7201a8"
             ],
             [
              0.3333333333333333,
              "#9c179e"
             ],
             [
              0.4444444444444444,
              "#bd3786"
             ],
             [
              0.5555555555555556,
              "#d8576b"
             ],
             [
              0.6666666666666666,
              "#ed7953"
             ],
             [
              0.7777777777777778,
              "#fb9f3a"
             ],
             [
              0.8888888888888888,
              "#fdca26"
             ],
             [
              1,
              "#f0f921"
             ]
            ],
            "type": "surface"
           }
          ],
          "table": [
           {
            "cells": {
             "fill": {
              "color": "#EBF0F8"
             },
             "line": {
              "color": "white"
             }
            },
            "header": {
             "fill": {
              "color": "#C8D4E3"
             },
             "line": {
              "color": "white"
             }
            },
            "type": "table"
           }
          ]
         },
         "layout": {
          "annotationdefaults": {
           "arrowcolor": "#2a3f5f",
           "arrowhead": 0,
           "arrowwidth": 1
          },
          "autotypenumbers": "strict",
          "coloraxis": {
           "colorbar": {
            "outlinewidth": 0,
            "ticks": ""
           }
          },
          "colorscale": {
           "diverging": [
            [
             0,
             "#8e0152"
            ],
            [
             0.1,
             "#c51b7d"
            ],
            [
             0.2,
             "#de77ae"
            ],
            [
             0.3,
             "#f1b6da"
            ],
            [
             0.4,
             "#fde0ef"
            ],
            [
             0.5,
             "#f7f7f7"
            ],
            [
             0.6,
             "#e6f5d0"
            ],
            [
             0.7,
             "#b8e186"
            ],
            [
             0.8,
             "#7fbc41"
            ],
            [
             0.9,
             "#4d9221"
            ],
            [
             1,
             "#276419"
            ]
           ],
           "sequential": [
            [
             0,
             "#0d0887"
            ],
            [
             0.1111111111111111,
             "#46039f"
            ],
            [
             0.2222222222222222,
             "#7201a8"
            ],
            [
             0.3333333333333333,
             "#9c179e"
            ],
            [
             0.4444444444444444,
             "#bd3786"
            ],
            [
             0.5555555555555556,
             "#d8576b"
            ],
            [
             0.6666666666666666,
             "#ed7953"
            ],
            [
             0.7777777777777778,
             "#fb9f3a"
            ],
            [
             0.8888888888888888,
             "#fdca26"
            ],
            [
             1,
             "#f0f921"
            ]
           ],
           "sequentialminus": [
            [
             0,
             "#0d0887"
            ],
            [
             0.1111111111111111,
             "#46039f"
            ],
            [
             0.2222222222222222,
             "#7201a8"
            ],
            [
             0.3333333333333333,
             "#9c179e"
            ],
            [
             0.4444444444444444,
             "#bd3786"
            ],
            [
             0.5555555555555556,
             "#d8576b"
            ],
            [
             0.6666666666666666,
             "#ed7953"
            ],
            [
             0.7777777777777778,
             "#fb9f3a"
            ],
            [
             0.8888888888888888,
             "#fdca26"
            ],
            [
             1,
             "#f0f921"
            ]
           ]
          },
          "colorway": [
           "#636efa",
           "#EF553B",
           "#00cc96",
           "#ab63fa",
           "#FFA15A",
           "#19d3f3",
           "#FF6692",
           "#B6E880",
           "#FF97FF",
           "#FECB52"
          ],
          "font": {
           "color": "#2a3f5f"
          },
          "geo": {
           "bgcolor": "white",
           "lakecolor": "white",
           "landcolor": "#E5ECF6",
           "showlakes": true,
           "showland": true,
           "subunitcolor": "white"
          },
          "hoverlabel": {
           "align": "left"
          },
          "hovermode": "closest",
          "mapbox": {
           "style": "light"
          },
          "paper_bgcolor": "white",
          "plot_bgcolor": "#E5ECF6",
          "polar": {
           "angularaxis": {
            "gridcolor": "white",
            "linecolor": "white",
            "ticks": ""
           },
           "bgcolor": "#E5ECF6",
           "radialaxis": {
            "gridcolor": "white",
            "linecolor": "white",
            "ticks": ""
           }
          },
          "scene": {
           "xaxis": {
            "backgroundcolor": "#E5ECF6",
            "gridcolor": "white",
            "gridwidth": 2,
            "linecolor": "white",
            "showbackground": true,
            "ticks": "",
            "zerolinecolor": "white"
           },
           "yaxis": {
            "backgroundcolor": "#E5ECF6",
            "gridcolor": "white",
            "gridwidth": 2,
            "linecolor": "white",
            "showbackground": true,
            "ticks": "",
            "zerolinecolor": "white"
           },
           "zaxis": {
            "backgroundcolor": "#E5ECF6",
            "gridcolor": "white",
            "gridwidth": 2,
            "linecolor": "white",
            "showbackground": true,
            "ticks": "",
            "zerolinecolor": "white"
           }
          },
          "shapedefaults": {
           "line": {
            "color": "#2a3f5f"
           }
          },
          "ternary": {
           "aaxis": {
            "gridcolor": "white",
            "linecolor": "white",
            "ticks": ""
           },
           "baxis": {
            "gridcolor": "white",
            "linecolor": "white",
            "ticks": ""
           },
           "bgcolor": "#E5ECF6",
           "caxis": {
            "gridcolor": "white",
            "linecolor": "white",
            "ticks": ""
           }
          },
          "title": {
           "x": 0.05
          },
          "xaxis": {
           "automargin": true,
           "gridcolor": "white",
           "linecolor": "white",
           "ticks": "",
           "title": {
            "standoff": 15
           },
           "zerolinecolor": "white",
           "zerolinewidth": 2
          },
          "yaxis": {
           "automargin": true,
           "gridcolor": "white",
           "linecolor": "white",
           "ticks": "",
           "title": {
            "standoff": 15
           },
           "zerolinecolor": "white",
           "zerolinewidth": 2
          }
         }
        },
        "title": {
         "text": "Number of school with religion"
        }
       }
      }
     },
     "metadata": {},
     "output_type": "display_data"
    }
   ],
   "source": [
    "district_and_religion = schools_datasets.groupby(['district', 'religion']).size().reset_index(name='religion_count')\n",
    "\n",
    "fig = px.pie(district_and_religion, values='religion_count', names='religion', title='Number of school with religion')\n",
    "fig.show()"
   ]
  },
  {
   "cell_type": "code",
   "execution_count": 265,
   "metadata": {},
   "outputs": [
    {
     "data": {
      "application/vnd.plotly.v1+json": {
       "config": {
        "plotlyServerURL": "https://plot.ly"
       },
       "data": [
        {
         "branchvalues": "total",
         "customdata": [
          [
           6
          ],
          [
           6
          ],
          [
           8
          ],
          [
           9
          ],
          [
           1
          ],
          [
           22
          ],
          [
           13
          ],
          [
           31
          ],
          [
           3
          ],
          [
           1
          ],
          [
           14
          ],
          [
           1
          ],
          [
           19
          ],
          [
           3
          ],
          [
           7
          ],
          [
           1
          ],
          [
           12
          ],
          [
           6
          ],
          [
           1
          ],
          [
           1
          ],
          [
           24
          ],
          [
           1
          ],
          [
           6
          ],
          [
           2
          ],
          [
           2
          ],
          [
           15
          ],
          [
           1
          ],
          [
           21
          ],
          [
           3
          ],
          [
           1
          ],
          [
           9
          ],
          [
           7
          ],
          [
           6
          ],
          [
           8
          ],
          [
           13
          ],
          [
           10
          ],
          [
           7
          ],
          [
           2
          ],
          [
           2
          ],
          [
           7
          ],
          [
           4
          ],
          [
           1
          ],
          [
           7
          ],
          [
           8
          ],
          [
           1
          ],
          [
           10
          ],
          [
           2
          ],
          [
           13
          ],
          [
           5
          ],
          [
           13
          ],
          [
           2
          ],
          [
           8
          ],
          [
           4
          ],
          [
           6
          ],
          [
           1
          ],
          [
           14
          ],
          [
           11
          ],
          [
           2
          ],
          [
           6
          ],
          [
           1
          ],
          [
           5
          ],
          [
           3
          ],
          [
           1
          ],
          [
           3
          ],
          [
           5
          ],
          [
           5
          ],
          [
           12
          ],
          [
           1
          ],
          [
           11
          ],
          [
           4
          ],
          [
           3
          ],
          [
           1
          ],
          [
           1
          ],
          [
           5
          ],
          [
           15
          ],
          [
           1
          ],
          [
           15.720812182741117
          ],
          [
           1
          ],
          [
           2.2
          ],
          [
           1
          ],
          [
           12.63953488372093
          ],
          [
           8.738317757009346
          ],
          [
           1
          ],
          [
           1.5
          ],
          [
           12.34516765285996
          ]
         ],
         "domain": {
          "x": [
           0,
           1
          ],
          "y": [
           0,
           1
          ]
         },
         "hovertemplate": "labels=%{label}<br>religion_count_sum=%{value}<br>parent=%{parent}<br>id=%{id}<br>religion_count=%{color}<extra></extra>",
         "ids": [
          "Hong Kong/不適用/中西區",
          "Hong Kong/基督教/中西區",
          "Hong Kong/天主教/中西區",
          "Hong Kong/不適用/九龍城區",
          "Hong Kong/其他/九龍城區",
          "Hong Kong/基督教/九龍城區",
          "Hong Kong/天主教/九龍城區",
          "Hong Kong/不適用/元朗區",
          "Hong Kong/佛教/元朗區",
          "Hong Kong/其他/元朗區",
          "Hong Kong/基督教/元朗區",
          "Hong Kong/天主教/元朗區",
          "Hong Kong/不適用/北區",
          "Hong Kong/佛教/北區",
          "Hong Kong/基督教/北區",
          "Hong Kong/天主教/北區",
          "Hong Kong/不適用/大埔區",
          "Hong Kong/基督教/大埔區",
          "Hong Kong/天主教/大埔區",
          "Hong Kong/道教/大埔區",
          "Hong Kong/不適用/屯門區",
          "Hong Kong/伊斯蘭教/屯門區",
          "Hong Kong/基督教/屯門區",
          "Hong Kong/天主教/屯門區",
          "Hong Kong/道教/屯門區",
          "Hong Kong/不適用/沙田區",
          "Hong Kong/佛教/沙田區",
          "Hong Kong/基督教/沙田區",
          "Hong Kong/天主教/沙田區",
          "Hong Kong/道教/沙田區",
          "Hong Kong/不適用/油尖旺區",
          "Hong Kong/基督教/油尖旺區",
          "Hong Kong/天主教/油尖旺區",
          "Hong Kong/不適用/深水埗區",
          "Hong Kong/基督教/深水埗區",
          "Hong Kong/天主教/深水埗區",
          "Hong Kong/不適用/灣仔區",
          "Hong Kong/佛教/灣仔區",
          "Hong Kong/基督教/灣仔區",
          "Hong Kong/天主教/灣仔區",
          "Hong Kong/不適用/荃灣區",
          "Hong Kong/其他/荃灣區",
          "Hong Kong/基督教/荃灣區",
          "Hong Kong/天主教/荃灣區",
          "Hong Kong/道教/荃灣區",
          "Hong Kong/不適用/葵青區",
          "Hong Kong/佛教/葵青區",
          "Hong Kong/基督教/葵青區",
          "Hong Kong/天主教/葵青區",
          "Hong Kong/不適用/西貢區",
          "Hong Kong/佛教/西貢區",
          "Hong Kong/基督教/西貢區",
          "Hong Kong/天主教/西貢區",
          "Hong Kong/不適用/觀塘區",
          "Hong Kong/佛教/觀塘區",
          "Hong Kong/基督教/觀塘區",
          "Hong Kong/天主教/觀塘區",
          "Hong Kong/道教/觀塘區",
          "Hong Kong/不適用/離島區",
          "Hong Kong/其他/離島區",
          "Hong Kong/基督教/離島區",
          "Hong Kong/天主教/離島區",
          "Hong Kong/道教/離島區",
          "Hong Kong/不適用/香港南區",
          "Hong Kong/基督教/香港南區",
          "Hong Kong/天主教/香港南區",
          "Hong Kong/不適用/香港東區",
          "Hong Kong/佛教/香港東區",
          "Hong Kong/基督教/香港東區",
          "Hong Kong/天主教/香港東區",
          "Hong Kong/不適用/黃大仙區",
          "Hong Kong/伊斯蘭教/黃大仙區",
          "Hong Kong/其他/黃大仙區",
          "Hong Kong/基督教/黃大仙區",
          "Hong Kong/天主教/黃大仙區",
          "Hong Kong/孔教/黃大仙區",
          "Hong Kong/不適用",
          "Hong Kong/伊斯蘭教",
          "Hong Kong/佛教",
          "Hong Kong/其他",
          "Hong Kong/基督教",
          "Hong Kong/天主教",
          "Hong Kong/孔教",
          "Hong Kong/道教",
          "Hong Kong"
         ],
         "labels": [
          "中西區",
          "中西區",
          "中西區",
          "九龍城區",
          "九龍城區",
          "九龍城區",
          "九龍城區",
          "元朗區",
          "元朗區",
          "元朗區",
          "元朗區",
          "元朗區",
          "北區",
          "北區",
          "北區",
          "北區",
          "大埔區",
          "大埔區",
          "大埔區",
          "大埔區",
          "屯門區",
          "屯門區",
          "屯門區",
          "屯門區",
          "屯門區",
          "沙田區",
          "沙田區",
          "沙田區",
          "沙田區",
          "沙田區",
          "油尖旺區",
          "油尖旺區",
          "油尖旺區",
          "深水埗區",
          "深水埗區",
          "深水埗區",
          "灣仔區",
          "灣仔區",
          "灣仔區",
          "灣仔區",
          "荃灣區",
          "荃灣區",
          "荃灣區",
          "荃灣區",
          "荃灣區",
          "葵青區",
          "葵青區",
          "葵青區",
          "葵青區",
          "西貢區",
          "西貢區",
          "西貢區",
          "西貢區",
          "觀塘區",
          "觀塘區",
          "觀塘區",
          "觀塘區",
          "觀塘區",
          "離島區",
          "離島區",
          "離島區",
          "離島區",
          "離島區",
          "香港南區",
          "香港南區",
          "香港南區",
          "香港東區",
          "香港東區",
          "香港東區",
          "香港東區",
          "黃大仙區",
          "黃大仙區",
          "黃大仙區",
          "黃大仙區",
          "黃大仙區",
          "黃大仙區",
          "不適用",
          "伊斯蘭教",
          "佛教",
          "其他",
          "基督教",
          "天主教",
          "孔教",
          "道教",
          "Hong Kong"
         ],
         "marker": {
          "coloraxis": "coloraxis",
          "colors": [
           6,
           6,
           8,
           9,
           1,
           22,
           13,
           31,
           3,
           1,
           14,
           1,
           19,
           3,
           7,
           1,
           12,
           6,
           1,
           1,
           24,
           1,
           6,
           2,
           2,
           15,
           1,
           21,
           3,
           1,
           9,
           7,
           6,
           8,
           13,
           10,
           7,
           2,
           2,
           7,
           4,
           1,
           7,
           8,
           1,
           10,
           2,
           13,
           5,
           13,
           2,
           8,
           4,
           6,
           1,
           14,
           11,
           2,
           6,
           1,
           5,
           3,
           1,
           3,
           5,
           5,
           12,
           1,
           11,
           4,
           3,
           1,
           1,
           5,
           15,
           1,
           15.720812182741117,
           1,
           2.2,
           1,
           12.63953488372093,
           8.738317757009346,
           1,
           1.5,
           12.34516765285996
          ]
         },
         "name": "",
         "parents": [
          "Hong Kong/不適用",
          "Hong Kong/基督教",
          "Hong Kong/天主教",
          "Hong Kong/不適用",
          "Hong Kong/其他",
          "Hong Kong/基督教",
          "Hong Kong/天主教",
          "Hong Kong/不適用",
          "Hong Kong/佛教",
          "Hong Kong/其他",
          "Hong Kong/基督教",
          "Hong Kong/天主教",
          "Hong Kong/不適用",
          "Hong Kong/佛教",
          "Hong Kong/基督教",
          "Hong Kong/天主教",
          "Hong Kong/不適用",
          "Hong Kong/基督教",
          "Hong Kong/天主教",
          "Hong Kong/道教",
          "Hong Kong/不適用",
          "Hong Kong/伊斯蘭教",
          "Hong Kong/基督教",
          "Hong Kong/天主教",
          "Hong Kong/道教",
          "Hong Kong/不適用",
          "Hong Kong/佛教",
          "Hong Kong/基督教",
          "Hong Kong/天主教",
          "Hong Kong/道教",
          "Hong Kong/不適用",
          "Hong Kong/基督教",
          "Hong Kong/天主教",
          "Hong Kong/不適用",
          "Hong Kong/基督教",
          "Hong Kong/天主教",
          "Hong Kong/不適用",
          "Hong Kong/佛教",
          "Hong Kong/基督教",
          "Hong Kong/天主教",
          "Hong Kong/不適用",
          "Hong Kong/其他",
          "Hong Kong/基督教",
          "Hong Kong/天主教",
          "Hong Kong/道教",
          "Hong Kong/不適用",
          "Hong Kong/佛教",
          "Hong Kong/基督教",
          "Hong Kong/天主教",
          "Hong Kong/不適用",
          "Hong Kong/佛教",
          "Hong Kong/基督教",
          "Hong Kong/天主教",
          "Hong Kong/不適用",
          "Hong Kong/佛教",
          "Hong Kong/基督教",
          "Hong Kong/天主教",
          "Hong Kong/道教",
          "Hong Kong/不適用",
          "Hong Kong/其他",
          "Hong Kong/基督教",
          "Hong Kong/天主教",
          "Hong Kong/道教",
          "Hong Kong/不適用",
          "Hong Kong/基督教",
          "Hong Kong/天主教",
          "Hong Kong/不適用",
          "Hong Kong/佛教",
          "Hong Kong/基督教",
          "Hong Kong/天主教",
          "Hong Kong/不適用",
          "Hong Kong/伊斯蘭教",
          "Hong Kong/其他",
          "Hong Kong/基督教",
          "Hong Kong/天主教",
          "Hong Kong/孔教",
          "Hong Kong",
          "Hong Kong",
          "Hong Kong",
          "Hong Kong",
          "Hong Kong",
          "Hong Kong",
          "Hong Kong",
          "Hong Kong",
          ""
         ],
         "type": "treemap",
         "values": [
          6,
          6,
          8,
          9,
          1,
          22,
          13,
          31,
          3,
          1,
          14,
          1,
          19,
          3,
          7,
          1,
          12,
          6,
          1,
          1,
          24,
          1,
          6,
          2,
          2,
          15,
          1,
          21,
          3,
          1,
          9,
          7,
          6,
          8,
          13,
          10,
          7,
          2,
          2,
          7,
          4,
          1,
          7,
          8,
          1,
          10,
          2,
          13,
          5,
          13,
          2,
          8,
          4,
          6,
          1,
          14,
          11,
          2,
          6,
          1,
          5,
          3,
          1,
          3,
          5,
          5,
          12,
          1,
          11,
          4,
          3,
          1,
          1,
          5,
          15,
          1,
          197,
          2,
          15,
          5,
          172,
          107,
          1,
          8,
          507
         ]
        }
       ],
       "layout": {
        "coloraxis": {
         "colorbar": {
          "title": {
           "text": "religion_count"
          }
         },
         "colorscale": [
          [
           0,
           "#0d0887"
          ],
          [
           0.1111111111111111,
           "#46039f"
          ],
          [
           0.2222222222222222,
           "#7201a8"
          ],
          [
           0.3333333333333333,
           "#9c179e"
          ],
          [
           0.4444444444444444,
           "#bd3786"
          ],
          [
           0.5555555555555556,
           "#d8576b"
          ],
          [
           0.6666666666666666,
           "#ed7953"
          ],
          [
           0.7777777777777778,
           "#fb9f3a"
          ],
          [
           0.8888888888888888,
           "#fdca26"
          ],
          [
           1,
           "#f0f921"
          ]
         ]
        },
        "legend": {
         "tracegroupgap": 0
        },
        "margin": {
         "t": 60
        },
        "template": {
         "data": {
          "bar": [
           {
            "error_x": {
             "color": "#2a3f5f"
            },
            "error_y": {
             "color": "#2a3f5f"
            },
            "marker": {
             "line": {
              "color": "#E5ECF6",
              "width": 0.5
             },
             "pattern": {
              "fillmode": "overlay",
              "size": 10,
              "solidity": 0.2
             }
            },
            "type": "bar"
           }
          ],
          "barpolar": [
           {
            "marker": {
             "line": {
              "color": "#E5ECF6",
              "width": 0.5
             },
             "pattern": {
              "fillmode": "overlay",
              "size": 10,
              "solidity": 0.2
             }
            },
            "type": "barpolar"
           }
          ],
          "carpet": [
           {
            "aaxis": {
             "endlinecolor": "#2a3f5f",
             "gridcolor": "white",
             "linecolor": "white",
             "minorgridcolor": "white",
             "startlinecolor": "#2a3f5f"
            },
            "baxis": {
             "endlinecolor": "#2a3f5f",
             "gridcolor": "white",
             "linecolor": "white",
             "minorgridcolor": "white",
             "startlinecolor": "#2a3f5f"
            },
            "type": "carpet"
           }
          ],
          "choropleth": [
           {
            "colorbar": {
             "outlinewidth": 0,
             "ticks": ""
            },
            "type": "choropleth"
           }
          ],
          "contour": [
           {
            "colorbar": {
             "outlinewidth": 0,
             "ticks": ""
            },
            "colorscale": [
             [
              0,
              "#0d0887"
             ],
             [
              0.1111111111111111,
              "#46039f"
             ],
             [
              0.2222222222222222,
              "#7201a8"
             ],
             [
              0.3333333333333333,
              "#9c179e"
             ],
             [
              0.4444444444444444,
              "#bd3786"
             ],
             [
              0.5555555555555556,
              "#d8576b"
             ],
             [
              0.6666666666666666,
              "#ed7953"
             ],
             [
              0.7777777777777778,
              "#fb9f3a"
             ],
             [
              0.8888888888888888,
              "#fdca26"
             ],
             [
              1,
              "#f0f921"
             ]
            ],
            "type": "contour"
           }
          ],
          "contourcarpet": [
           {
            "colorbar": {
             "outlinewidth": 0,
             "ticks": ""
            },
            "type": "contourcarpet"
           }
          ],
          "heatmap": [
           {
            "colorbar": {
             "outlinewidth": 0,
             "ticks": ""
            },
            "colorscale": [
             [
              0,
              "#0d0887"
             ],
             [
              0.1111111111111111,
              "#46039f"
             ],
             [
              0.2222222222222222,
              "#7201a8"
             ],
             [
              0.3333333333333333,
              "#9c179e"
             ],
             [
              0.4444444444444444,
              "#bd3786"
             ],
             [
              0.5555555555555556,
              "#d8576b"
             ],
             [
              0.6666666666666666,
              "#ed7953"
             ],
             [
              0.7777777777777778,
              "#fb9f3a"
             ],
             [
              0.8888888888888888,
              "#fdca26"
             ],
             [
              1,
              "#f0f921"
             ]
            ],
            "type": "heatmap"
           }
          ],
          "heatmapgl": [
           {
            "colorbar": {
             "outlinewidth": 0,
             "ticks": ""
            },
            "colorscale": [
             [
              0,
              "#0d0887"
             ],
             [
              0.1111111111111111,
              "#46039f"
             ],
             [
              0.2222222222222222,
              "#7201a8"
             ],
             [
              0.3333333333333333,
              "#9c179e"
             ],
             [
              0.4444444444444444,
              "#bd3786"
             ],
             [
              0.5555555555555556,
              "#d8576b"
             ],
             [
              0.6666666666666666,
              "#ed7953"
             ],
             [
              0.7777777777777778,
              "#fb9f3a"
             ],
             [
              0.8888888888888888,
              "#fdca26"
             ],
             [
              1,
              "#f0f921"
             ]
            ],
            "type": "heatmapgl"
           }
          ],
          "histogram": [
           {
            "marker": {
             "pattern": {
              "fillmode": "overlay",
              "size": 10,
              "solidity": 0.2
             }
            },
            "type": "histogram"
           }
          ],
          "histogram2d": [
           {
            "colorbar": {
             "outlinewidth": 0,
             "ticks": ""
            },
            "colorscale": [
             [
              0,
              "#0d0887"
             ],
             [
              0.1111111111111111,
              "#46039f"
             ],
             [
              0.2222222222222222,
              "#7201a8"
             ],
             [
              0.3333333333333333,
              "#9c179e"
             ],
             [
              0.4444444444444444,
              "#bd3786"
             ],
             [
              0.5555555555555556,
              "#d8576b"
             ],
             [
              0.6666666666666666,
              "#ed7953"
             ],
             [
              0.7777777777777778,
              "#fb9f3a"
             ],
             [
              0.8888888888888888,
              "#fdca26"
             ],
             [
              1,
              "#f0f921"
             ]
            ],
            "type": "histogram2d"
           }
          ],
          "histogram2dcontour": [
           {
            "colorbar": {
             "outlinewidth": 0,
             "ticks": ""
            },
            "colorscale": [
             [
              0,
              "#0d0887"
             ],
             [
              0.1111111111111111,
              "#46039f"
             ],
             [
              0.2222222222222222,
              "#7201a8"
             ],
             [
              0.3333333333333333,
              "#9c179e"
             ],
             [
              0.4444444444444444,
              "#bd3786"
             ],
             [
              0.5555555555555556,
              "#d8576b"
             ],
             [
              0.6666666666666666,
              "#ed7953"
             ],
             [
              0.7777777777777778,
              "#fb9f3a"
             ],
             [
              0.8888888888888888,
              "#fdca26"
             ],
             [
              1,
              "#f0f921"
             ]
            ],
            "type": "histogram2dcontour"
           }
          ],
          "mesh3d": [
           {
            "colorbar": {
             "outlinewidth": 0,
             "ticks": ""
            },
            "type": "mesh3d"
           }
          ],
          "parcoords": [
           {
            "line": {
             "colorbar": {
              "outlinewidth": 0,
              "ticks": ""
             }
            },
            "type": "parcoords"
           }
          ],
          "pie": [
           {
            "automargin": true,
            "type": "pie"
           }
          ],
          "scatter": [
           {
            "fillpattern": {
             "fillmode": "overlay",
             "size": 10,
             "solidity": 0.2
            },
            "type": "scatter"
           }
          ],
          "scatter3d": [
           {
            "line": {
             "colorbar": {
              "outlinewidth": 0,
              "ticks": ""
             }
            },
            "marker": {
             "colorbar": {
              "outlinewidth": 0,
              "ticks": ""
             }
            },
            "type": "scatter3d"
           }
          ],
          "scattercarpet": [
           {
            "marker": {
             "colorbar": {
              "outlinewidth": 0,
              "ticks": ""
             }
            },
            "type": "scattercarpet"
           }
          ],
          "scattergeo": [
           {
            "marker": {
             "colorbar": {
              "outlinewidth": 0,
              "ticks": ""
             }
            },
            "type": "scattergeo"
           }
          ],
          "scattergl": [
           {
            "marker": {
             "colorbar": {
              "outlinewidth": 0,
              "ticks": ""
             }
            },
            "type": "scattergl"
           }
          ],
          "scattermapbox": [
           {
            "marker": {
             "colorbar": {
              "outlinewidth": 0,
              "ticks": ""
             }
            },
            "type": "scattermapbox"
           }
          ],
          "scatterpolar": [
           {
            "marker": {
             "colorbar": {
              "outlinewidth": 0,
              "ticks": ""
             }
            },
            "type": "scatterpolar"
           }
          ],
          "scatterpolargl": [
           {
            "marker": {
             "colorbar": {
              "outlinewidth": 0,
              "ticks": ""
             }
            },
            "type": "scatterpolargl"
           }
          ],
          "scatterternary": [
           {
            "marker": {
             "colorbar": {
              "outlinewidth": 0,
              "ticks": ""
             }
            },
            "type": "scatterternary"
           }
          ],
          "surface": [
           {
            "colorbar": {
             "outlinewidth": 0,
             "ticks": ""
            },
            "colorscale": [
             [
              0,
              "#0d0887"
             ],
             [
              0.1111111111111111,
              "#46039f"
             ],
             [
              0.2222222222222222,
              "#7201a8"
             ],
             [
              0.3333333333333333,
              "#9c179e"
             ],
             [
              0.4444444444444444,
              "#bd3786"
             ],
             [
              0.5555555555555556,
              "#d8576b"
             ],
             [
              0.6666666666666666,
              "#ed7953"
             ],
             [
              0.7777777777777778,
              "#fb9f3a"
             ],
             [
              0.8888888888888888,
              "#fdca26"
             ],
             [
              1,
              "#f0f921"
             ]
            ],
            "type": "surface"
           }
          ],
          "table": [
           {
            "cells": {
             "fill": {
              "color": "#EBF0F8"
             },
             "line": {
              "color": "white"
             }
            },
            "header": {
             "fill": {
              "color": "#C8D4E3"
             },
             "line": {
              "color": "white"
             }
            },
            "type": "table"
           }
          ]
         },
         "layout": {
          "annotationdefaults": {
           "arrowcolor": "#2a3f5f",
           "arrowhead": 0,
           "arrowwidth": 1
          },
          "autotypenumbers": "strict",
          "coloraxis": {
           "colorbar": {
            "outlinewidth": 0,
            "ticks": ""
           }
          },
          "colorscale": {
           "diverging": [
            [
             0,
             "#8e0152"
            ],
            [
             0.1,
             "#c51b7d"
            ],
            [
             0.2,
             "#de77ae"
            ],
            [
             0.3,
             "#f1b6da"
            ],
            [
             0.4,
             "#fde0ef"
            ],
            [
             0.5,
             "#f7f7f7"
            ],
            [
             0.6,
             "#e6f5d0"
            ],
            [
             0.7,
             "#b8e186"
            ],
            [
             0.8,
             "#7fbc41"
            ],
            [
             0.9,
             "#4d9221"
            ],
            [
             1,
             "#276419"
            ]
           ],
           "sequential": [
            [
             0,
             "#0d0887"
            ],
            [
             0.1111111111111111,
             "#46039f"
            ],
            [
             0.2222222222222222,
             "#7201a8"
            ],
            [
             0.3333333333333333,
             "#9c179e"
            ],
            [
             0.4444444444444444,
             "#bd3786"
            ],
            [
             0.5555555555555556,
             "#d8576b"
            ],
            [
             0.6666666666666666,
             "#ed7953"
            ],
            [
             0.7777777777777778,
             "#fb9f3a"
            ],
            [
             0.8888888888888888,
             "#fdca26"
            ],
            [
             1,
             "#f0f921"
            ]
           ],
           "sequentialminus": [
            [
             0,
             "#0d0887"
            ],
            [
             0.1111111111111111,
             "#46039f"
            ],
            [
             0.2222222222222222,
             "#7201a8"
            ],
            [
             0.3333333333333333,
             "#9c179e"
            ],
            [
             0.4444444444444444,
             "#bd3786"
            ],
            [
             0.5555555555555556,
             "#d8576b"
            ],
            [
             0.6666666666666666,
             "#ed7953"
            ],
            [
             0.7777777777777778,
             "#fb9f3a"
            ],
            [
             0.8888888888888888,
             "#fdca26"
            ],
            [
             1,
             "#f0f921"
            ]
           ]
          },
          "colorway": [
           "#636efa",
           "#EF553B",
           "#00cc96",
           "#ab63fa",
           "#FFA15A",
           "#19d3f3",
           "#FF6692",
           "#B6E880",
           "#FF97FF",
           "#FECB52"
          ],
          "font": {
           "color": "#2a3f5f"
          },
          "geo": {
           "bgcolor": "white",
           "lakecolor": "white",
           "landcolor": "#E5ECF6",
           "showlakes": true,
           "showland": true,
           "subunitcolor": "white"
          },
          "hoverlabel": {
           "align": "left"
          },
          "hovermode": "closest",
          "mapbox": {
           "style": "light"
          },
          "paper_bgcolor": "white",
          "plot_bgcolor": "#E5ECF6",
          "polar": {
           "angularaxis": {
            "gridcolor": "white",
            "linecolor": "white",
            "ticks": ""
           },
           "bgcolor": "#E5ECF6",
           "radialaxis": {
            "gridcolor": "white",
            "linecolor": "white",
            "ticks": ""
           }
          },
          "scene": {
           "xaxis": {
            "backgroundcolor": "#E5ECF6",
            "gridcolor": "white",
            "gridwidth": 2,
            "linecolor": "white",
            "showbackground": true,
            "ticks": "",
            "zerolinecolor": "white"
           },
           "yaxis": {
            "backgroundcolor": "#E5ECF6",
            "gridcolor": "white",
            "gridwidth": 2,
            "linecolor": "white",
            "showbackground": true,
            "ticks": "",
            "zerolinecolor": "white"
           },
           "zaxis": {
            "backgroundcolor": "#E5ECF6",
            "gridcolor": "white",
            "gridwidth": 2,
            "linecolor": "white",
            "showbackground": true,
            "ticks": "",
            "zerolinecolor": "white"
           }
          },
          "shapedefaults": {
           "line": {
            "color": "#2a3f5f"
           }
          },
          "ternary": {
           "aaxis": {
            "gridcolor": "white",
            "linecolor": "white",
            "ticks": ""
           },
           "baxis": {
            "gridcolor": "white",
            "linecolor": "white",
            "ticks": ""
           },
           "bgcolor": "#E5ECF6",
           "caxis": {
            "gridcolor": "white",
            "linecolor": "white",
            "ticks": ""
           }
          },
          "title": {
           "x": 0.05
          },
          "xaxis": {
           "automargin": true,
           "gridcolor": "white",
           "linecolor": "white",
           "ticks": "",
           "title": {
            "standoff": 15
           },
           "zerolinecolor": "white",
           "zerolinewidth": 2
          },
          "yaxis": {
           "automargin": true,
           "gridcolor": "white",
           "linecolor": "white",
           "ticks": "",
           "title": {
            "standoff": 15
           },
           "zerolinecolor": "white",
           "zerolinewidth": 2
          }
         }
        }
       }
      }
     },
     "metadata": {},
     "output_type": "display_data"
    }
   ],
   "source": [
    "fig = px.treemap(district_and_religion, path=[px.Constant('Hong Kong'), 'religion','district' ], values='religion_count',\n",
    "                  color='religion_count')\n",
    "fig.show()"
   ]
  },
  {
   "cell_type": "code",
   "execution_count": 266,
   "metadata": {},
   "outputs": [
    {
     "data": {
      "application/vnd.plotly.v1+json": {
       "config": {
        "plotlyServerURL": "https://plot.ly"
       },
       "data": [
        {
         "hovertemplate": "<b>%{hovertext}</b><br><br>religion=基督教<br>commencement_of_operation_year=%{x}<br>commencement_of_operation_year_count=%{marker.size}<extra></extra>",
         "hovertext": [
          "基督教",
          "基督教",
          "基督教",
          "基督教",
          "基督教",
          "基督教",
          "基督教",
          "基督教",
          "基督教",
          "基督教",
          "基督教",
          "基督教",
          "基督教",
          "基督教",
          "基督教",
          "基督教",
          "基督教",
          "基督教",
          "基督教",
          "基督教",
          "基督教",
          "基督教",
          "基督教",
          "基督教",
          "基督教",
          "基督教",
          "基督教",
          "基督教",
          "基督教",
          "基督教",
          "基督教",
          "基督教",
          "基督教",
          "基督教",
          "基督教",
          "基督教",
          "基督教",
          "基督教",
          "基督教",
          "基督教",
          "基督教",
          "基督教",
          "基督教",
          "基督教",
          "基督教",
          "基督教",
          "基督教",
          "基督教",
          "基督教",
          "基督教",
          "基督教",
          "基督教",
          "基督教",
          "基督教",
          "基督教",
          "基督教",
          "基督教",
          "基督教",
          "基督教",
          "基督教",
          "基督教",
          "基督教",
          "基督教",
          "基督教",
          "基督教",
          "基督教",
          "基督教",
          "基督教",
          "基督教",
          "基督教",
          "基督教",
          "基督教",
          "基督教",
          "基督教",
          "基督教",
          "基督教",
          "基督教",
          "基督教",
          "基督教",
          "基督教"
         ],
         "legendgroup": "基督教",
         "marker": {
          "color": "#636efa",
          "size": [
           1,
           1,
           2,
           1,
           1,
           1,
           1,
           1,
           1,
           1,
           2,
           2,
           1,
           2,
           1,
           1,
           1,
           1,
           1,
           1,
           1,
           1,
           2,
           1,
           1,
           1,
           1,
           2,
           1,
           2,
           2,
           2,
           2,
           7,
           2,
           2,
           4,
           3,
           6,
           3,
           3,
           5,
           1,
           1,
           1,
           1,
           1,
           2,
           2,
           6,
           5,
           2,
           2,
           2,
           3,
           3,
           2,
           1,
           2,
           3,
           1,
           2,
           3,
           1,
           4,
           7,
           6,
           6,
           4,
           3,
           4,
           4,
           1,
           1,
           2,
           1,
           1,
           1,
           1,
           1
          ],
          "sizemode": "area",
          "sizeref": 0.005,
          "symbol": "circle"
         },
         "mode": "markers",
         "name": "基督教",
         "orientation": "v",
         "showlegend": true,
         "type": "scatter",
         "x": [
          1851,
          1860,
          1872,
          1876,
          1884,
          1887,
          1888,
          1889,
          1897,
          1905,
          1906,
          1911,
          1915,
          1919,
          1920,
          1924,
          1925,
          1926,
          1934,
          1935,
          1936,
          1938,
          1946,
          1948,
          1951,
          1952,
          1954,
          1955,
          1956,
          1957,
          1958,
          1959,
          1960,
          1961,
          1962,
          1963,
          1964,
          1965,
          1968,
          1969,
          1970,
          1971,
          1972,
          1974,
          1975,
          1976,
          1978,
          1979,
          1982,
          1983,
          1984,
          1985,
          1986,
          1987,
          1988,
          1989,
          1990,
          1991,
          1992,
          1993,
          1995,
          1996,
          1997,
          1998,
          1999,
          2000,
          2001,
          2002,
          2003,
          2004,
          2005,
          2006,
          2008,
          2009,
          2010,
          2015,
          2016,
          2018,
          2021,
          2024
         ],
         "xaxis": "x",
         "y": [
          1,
          1,
          2,
          1,
          1,
          1,
          1,
          1,
          1,
          1,
          2,
          2,
          1,
          2,
          1,
          1,
          1,
          1,
          1,
          1,
          1,
          1,
          2,
          1,
          1,
          1,
          1,
          2,
          1,
          2,
          2,
          2,
          2,
          7,
          2,
          2,
          4,
          3,
          6,
          3,
          3,
          5,
          1,
          1,
          1,
          1,
          1,
          2,
          2,
          6,
          5,
          2,
          2,
          2,
          3,
          3,
          2,
          1,
          2,
          3,
          1,
          2,
          3,
          1,
          4,
          7,
          6,
          6,
          4,
          3,
          4,
          4,
          1,
          1,
          2,
          1,
          1,
          1,
          1,
          1
         ],
         "yaxis": "y"
        },
        {
         "hovertemplate": "<b>%{hovertext}</b><br><br>religion=天主教<br>commencement_of_operation_year=%{x}<br>commencement_of_operation_year_count=%{marker.size}<extra></extra>",
         "hovertext": [
          "天主教",
          "天主教",
          "天主教",
          "天主教",
          "天主教",
          "天主教",
          "天主教",
          "天主教",
          "天主教",
          "天主教",
          "天主教",
          "天主教",
          "天主教",
          "天主教",
          "天主教",
          "天主教",
          "天主教",
          "天主教",
          "天主教",
          "天主教",
          "天主教",
          "天主教",
          "天主教",
          "天主教",
          "天主教",
          "天主教",
          "天主教",
          "天主教",
          "天主教",
          "天主教",
          "天主教",
          "天主教",
          "天主教",
          "天主教",
          "天主教",
          "天主教",
          "天主教",
          "天主教",
          "天主教",
          "天主教",
          "天主教",
          "天主教",
          "天主教",
          "天主教",
          "天主教",
          "天主教",
          "天主教",
          "天主教",
          "天主教",
          "天主教",
          "天主教"
         ],
         "legendgroup": "天主教",
         "marker": {
          "color": "#EF553B",
          "size": [
           2,
           1,
           1,
           1,
           1,
           1,
           1,
           3,
           1,
           1,
           1,
           3,
           1,
           3,
           4,
           2,
           2,
           5,
           2,
           4,
           2,
           5,
           5,
           1,
           6,
           2,
           1,
           7,
           6,
           1,
           2,
           3,
           2,
           2,
           1,
           1,
           1,
           1,
           1,
           1,
           1,
           2,
           1,
           1,
           1,
           1,
           2,
           2,
           1,
           1,
           3
          ],
          "sizemode": "area",
          "sizeref": 0.005,
          "symbol": "circle"
         },
         "mode": "markers",
         "name": "天主教",
         "orientation": "v",
         "showlegend": true,
         "type": "scatter",
         "x": [
          1860,
          1864,
          1869,
          1897,
          1900,
          1924,
          1925,
          1927,
          1930,
          1945,
          1948,
          1951,
          1952,
          1953,
          1954,
          1955,
          1957,
          1958,
          1959,
          1960,
          1961,
          1962,
          1963,
          1964,
          1965,
          1966,
          1967,
          1968,
          1969,
          1970,
          1971,
          1972,
          1973,
          1975,
          1977,
          1978,
          1980,
          1982,
          1983,
          1984,
          1987,
          1990,
          1993,
          1995,
          1996,
          1997,
          2000,
          2002,
          2003,
          2007,
          2009
         ],
         "xaxis": "x",
         "y": [
          2,
          1,
          1,
          1,
          1,
          1,
          1,
          3,
          1,
          1,
          1,
          3,
          1,
          3,
          4,
          2,
          2,
          5,
          2,
          4,
          2,
          5,
          5,
          1,
          6,
          2,
          1,
          7,
          6,
          1,
          2,
          3,
          2,
          2,
          1,
          1,
          1,
          1,
          1,
          1,
          1,
          2,
          1,
          1,
          1,
          1,
          2,
          2,
          1,
          1,
          3
         ],
         "yaxis": "y"
        },
        {
         "hovertemplate": "<b>%{hovertext}</b><br><br>religion=不適用<br>commencement_of_operation_year=%{x}<br>commencement_of_operation_year_count=%{marker.size}<extra></extra>",
         "hovertext": [
          "不適用",
          "不適用",
          "不適用",
          "不適用",
          "不適用",
          "不適用",
          "不適用",
          "不適用",
          "不適用",
          "不適用",
          "不適用",
          "不適用",
          "不適用",
          "不適用",
          "不適用",
          "不適用",
          "不適用",
          "不適用",
          "不適用",
          "不適用",
          "不適用",
          "不適用",
          "不適用",
          "不適用",
          "不適用",
          "不適用",
          "不適用",
          "不適用",
          "不適用",
          "不適用",
          "不適用",
          "不適用",
          "不適用",
          "不適用",
          "不適用",
          "不適用",
          "不適用",
          "不適用",
          "不適用",
          "不適用",
          "不適用",
          "不適用",
          "不適用",
          "不適用",
          "不適用",
          "不適用",
          "不適用",
          "不適用",
          "不適用",
          "不適用",
          "不適用",
          "不適用",
          "不適用",
          "不適用",
          "不適用",
          "不適用",
          "不適用",
          "不適用",
          "不適用",
          "不適用",
          "不適用",
          "不適用",
          "不適用",
          "不適用",
          "不適用",
          "不適用",
          "不適用",
          "不適用"
         ],
         "legendgroup": "不適用",
         "marker": {
          "color": "#00cc96",
          "size": [
           1,
           1,
           2,
           2,
           1,
           2,
           1,
           2,
           3,
           1,
           3,
           1,
           3,
           1,
           1,
           2,
           7,
           2,
           1,
           8,
           8,
           3,
           3,
           2,
           1,
           2,
           4,
           1,
           2,
           2,
           1,
           2,
           3,
           2,
           1,
           4,
           3,
           2,
           7,
           7,
           5,
           7,
           8,
           7,
           2,
           3,
           4,
           5,
           1,
           2,
           4,
           3,
           1,
           5,
           5,
           4,
           8,
           2,
           5,
           1,
           1,
           2,
           1,
           2,
           1,
           1,
           1,
           1
          ],
          "sizemode": "area",
          "sizeref": 0.005,
          "symbol": "circle"
         },
         "mode": "markers",
         "name": "不適用",
         "orientation": "v",
         "showlegend": true,
         "type": "scatter",
         "x": [
          1891,
          1899,
          1904,
          1923,
          1927,
          1932,
          1934,
          1936,
          1939,
          1945,
          1946,
          1948,
          1949,
          1950,
          1952,
          1953,
          1954,
          1956,
          1957,
          1958,
          1959,
          1960,
          1961,
          1962,
          1963,
          1964,
          1965,
          1967,
          1968,
          1969,
          1970,
          1971,
          1977,
          1978,
          1980,
          1981,
          1982,
          1983,
          1984,
          1985,
          1986,
          1987,
          1988,
          1989,
          1990,
          1991,
          1992,
          1993,
          1994,
          1995,
          1996,
          1997,
          1998,
          1999,
          2000,
          2001,
          2002,
          2003,
          2005,
          2006,
          2007,
          2009,
          2010,
          2011,
          2018,
          2019,
          2021,
          2025
         ],
         "xaxis": "x",
         "y": [
          1,
          1,
          2,
          2,
          1,
          2,
          1,
          2,
          3,
          1,
          3,
          1,
          3,
          1,
          1,
          2,
          7,
          2,
          1,
          8,
          8,
          3,
          3,
          2,
          1,
          2,
          4,
          1,
          2,
          2,
          1,
          2,
          3,
          2,
          1,
          4,
          3,
          2,
          7,
          7,
          5,
          7,
          8,
          7,
          2,
          3,
          4,
          5,
          1,
          2,
          4,
          3,
          1,
          5,
          5,
          4,
          8,
          2,
          5,
          1,
          1,
          2,
          1,
          2,
          1,
          1,
          1,
          1
         ],
         "yaxis": "y"
        },
        {
         "hovertemplate": "<b>%{hovertext}</b><br><br>religion=佛教<br>commencement_of_operation_year=%{x}<br>commencement_of_operation_year_count=%{marker.size}<extra></extra>",
         "hovertext": [
          "佛教",
          "佛教",
          "佛教",
          "佛教",
          "佛教",
          "佛教",
          "佛教",
          "佛教",
          "佛教",
          "佛教",
          "佛教",
          "佛教",
          "佛教",
          "佛教",
          "佛教"
         ],
         "legendgroup": "佛教",
         "marker": {
          "color": "#ab63fa",
          "size": [
           1,
           1,
           1,
           1,
           1,
           1,
           1,
           1,
           1,
           1,
           1,
           1,
           1,
           1,
           1
          ],
          "sizemode": "area",
          "sizeref": 0.005,
          "symbol": "circle"
         },
         "mode": "markers",
         "name": "佛教",
         "orientation": "v",
         "showlegend": true,
         "type": "scatter",
         "x": [
          1931,
          1945,
          1952,
          1958,
          1959,
          1962,
          1969,
          1971,
          1972,
          1982,
          1989,
          1995,
          1999,
          2003,
          2008
         ],
         "xaxis": "x",
         "y": [
          1,
          1,
          1,
          1,
          1,
          1,
          1,
          1,
          1,
          1,
          1,
          1,
          1,
          1,
          1
         ],
         "yaxis": "y"
        },
        {
         "hovertemplate": "<b>%{hovertext}</b><br><br>religion=其他<br>commencement_of_operation_year=%{x}<br>commencement_of_operation_year_count=%{marker.size}<extra></extra>",
         "hovertext": [
          "其他",
          "其他",
          "其他",
          "其他",
          "其他"
         ],
         "legendgroup": "其他",
         "marker": {
          "color": "#FFA15A",
          "size": [
           1,
           1,
           1,
           1,
           1
          ],
          "sizemode": "area",
          "sizeref": 0.005,
          "symbol": "circle"
         },
         "mode": "markers",
         "name": "其他",
         "orientation": "v",
         "showlegend": true,
         "type": "scatter",
         "x": [
          1950,
          1975,
          1992,
          1996,
          1997
         ],
         "xaxis": "x",
         "y": [
          1,
          1,
          1,
          1,
          1
         ],
         "yaxis": "y"
        },
        {
         "hovertemplate": "<b>%{hovertext}</b><br><br>religion=孔教<br>commencement_of_operation_year=%{x}<br>commencement_of_operation_year_count=%{marker.size}<extra></extra>",
         "hovertext": [
          "孔教"
         ],
         "legendgroup": "孔教",
         "marker": {
          "color": "#19d3f3",
          "size": [
           1
          ],
          "sizemode": "area",
          "sizeref": 0.005,
          "symbol": "circle"
         },
         "mode": "markers",
         "name": "孔教",
         "orientation": "v",
         "showlegend": true,
         "type": "scatter",
         "x": [
          1963
         ],
         "xaxis": "x",
         "y": [
          1
         ],
         "yaxis": "y"
        },
        {
         "hovertemplate": "<b>%{hovertext}</b><br><br>religion=道教<br>commencement_of_operation_year=%{x}<br>commencement_of_operation_year_count=%{marker.size}<extra></extra>",
         "hovertext": [
          "道教",
          "道教",
          "道教",
          "道教",
          "道教",
          "道教",
          "道教",
          "道教"
         ],
         "legendgroup": "道教",
         "marker": {
          "color": "#FF6692",
          "size": [
           1,
           1,
           1,
           1,
           1,
           1,
           1,
           1
          ],
          "sizemode": "area",
          "sizeref": 0.005,
          "symbol": "circle"
         },
         "mode": "markers",
         "name": "道教",
         "orientation": "v",
         "showlegend": true,
         "type": "scatter",
         "x": [
          1969,
          1982,
          1984,
          1985,
          1995,
          1996,
          1997,
          2008
         ],
         "xaxis": "x",
         "y": [
          1,
          1,
          1,
          1,
          1,
          1,
          1,
          1
         ],
         "yaxis": "y"
        },
        {
         "hovertemplate": "<b>%{hovertext}</b><br><br>religion=伊斯蘭教<br>commencement_of_operation_year=%{x}<br>commencement_of_operation_year_count=%{marker.size}<extra></extra>",
         "hovertext": [
          "伊斯蘭教",
          "伊斯蘭教"
         ],
         "legendgroup": "伊斯蘭教",
         "marker": {
          "color": "#B6E880",
          "size": [
           1,
           1
          ],
          "sizemode": "area",
          "sizeref": 0.005,
          "symbol": "circle"
         },
         "mode": "markers",
         "name": "伊斯蘭教",
         "orientation": "v",
         "showlegend": true,
         "type": "scatter",
         "x": [
          1980,
          1997
         ],
         "xaxis": "x",
         "y": [
          1,
          1
         ],
         "yaxis": "y"
        }
       ],
       "layout": {
        "legend": {
         "itemsizing": "constant",
         "title": {
          "text": "religion"
         },
         "tracegroupgap": 0
        },
        "margin": {
         "t": 60
        },
        "template": {
         "data": {
          "bar": [
           {
            "error_x": {
             "color": "#2a3f5f"
            },
            "error_y": {
             "color": "#2a3f5f"
            },
            "marker": {
             "line": {
              "color": "#E5ECF6",
              "width": 0.5
             },
             "pattern": {
              "fillmode": "overlay",
              "size": 10,
              "solidity": 0.2
             }
            },
            "type": "bar"
           }
          ],
          "barpolar": [
           {
            "marker": {
             "line": {
              "color": "#E5ECF6",
              "width": 0.5
             },
             "pattern": {
              "fillmode": "overlay",
              "size": 10,
              "solidity": 0.2
             }
            },
            "type": "barpolar"
           }
          ],
          "carpet": [
           {
            "aaxis": {
             "endlinecolor": "#2a3f5f",
             "gridcolor": "white",
             "linecolor": "white",
             "minorgridcolor": "white",
             "startlinecolor": "#2a3f5f"
            },
            "baxis": {
             "endlinecolor": "#2a3f5f",
             "gridcolor": "white",
             "linecolor": "white",
             "minorgridcolor": "white",
             "startlinecolor": "#2a3f5f"
            },
            "type": "carpet"
           }
          ],
          "choropleth": [
           {
            "colorbar": {
             "outlinewidth": 0,
             "ticks": ""
            },
            "type": "choropleth"
           }
          ],
          "contour": [
           {
            "colorbar": {
             "outlinewidth": 0,
             "ticks": ""
            },
            "colorscale": [
             [
              0,
              "#0d0887"
             ],
             [
              0.1111111111111111,
              "#46039f"
             ],
             [
              0.2222222222222222,
              "#7201a8"
             ],
             [
              0.3333333333333333,
              "#9c179e"
             ],
             [
              0.4444444444444444,
              "#bd3786"
             ],
             [
              0.5555555555555556,
              "#d8576b"
             ],
             [
              0.6666666666666666,
              "#ed7953"
             ],
             [
              0.7777777777777778,
              "#fb9f3a"
             ],
             [
              0.8888888888888888,
              "#fdca26"
             ],
             [
              1,
              "#f0f921"
             ]
            ],
            "type": "contour"
           }
          ],
          "contourcarpet": [
           {
            "colorbar": {
             "outlinewidth": 0,
             "ticks": ""
            },
            "type": "contourcarpet"
           }
          ],
          "heatmap": [
           {
            "colorbar": {
             "outlinewidth": 0,
             "ticks": ""
            },
            "colorscale": [
             [
              0,
              "#0d0887"
             ],
             [
              0.1111111111111111,
              "#46039f"
             ],
             [
              0.2222222222222222,
              "#7201a8"
             ],
             [
              0.3333333333333333,
              "#9c179e"
             ],
             [
              0.4444444444444444,
              "#bd3786"
             ],
             [
              0.5555555555555556,
              "#d8576b"
             ],
             [
              0.6666666666666666,
              "#ed7953"
             ],
             [
              0.7777777777777778,
              "#fb9f3a"
             ],
             [
              0.8888888888888888,
              "#fdca26"
             ],
             [
              1,
              "#f0f921"
             ]
            ],
            "type": "heatmap"
           }
          ],
          "heatmapgl": [
           {
            "colorbar": {
             "outlinewidth": 0,
             "ticks": ""
            },
            "colorscale": [
             [
              0,
              "#0d0887"
             ],
             [
              0.1111111111111111,
              "#46039f"
             ],
             [
              0.2222222222222222,
              "#7201a8"
             ],
             [
              0.3333333333333333,
              "#9c179e"
             ],
             [
              0.4444444444444444,
              "#bd3786"
             ],
             [
              0.5555555555555556,
              "#d8576b"
             ],
             [
              0.6666666666666666,
              "#ed7953"
             ],
             [
              0.7777777777777778,
              "#fb9f3a"
             ],
             [
              0.8888888888888888,
              "#fdca26"
             ],
             [
              1,
              "#f0f921"
             ]
            ],
            "type": "heatmapgl"
           }
          ],
          "histogram": [
           {
            "marker": {
             "pattern": {
              "fillmode": "overlay",
              "size": 10,
              "solidity": 0.2
             }
            },
            "type": "histogram"
           }
          ],
          "histogram2d": [
           {
            "colorbar": {
             "outlinewidth": 0,
             "ticks": ""
            },
            "colorscale": [
             [
              0,
              "#0d0887"
             ],
             [
              0.1111111111111111,
              "#46039f"
             ],
             [
              0.2222222222222222,
              "#7201a8"
             ],
             [
              0.3333333333333333,
              "#9c179e"
             ],
             [
              0.4444444444444444,
              "#bd3786"
             ],
             [
              0.5555555555555556,
              "#d8576b"
             ],
             [
              0.6666666666666666,
              "#ed7953"
             ],
             [
              0.7777777777777778,
              "#fb9f3a"
             ],
             [
              0.8888888888888888,
              "#fdca26"
             ],
             [
              1,
              "#f0f921"
             ]
            ],
            "type": "histogram2d"
           }
          ],
          "histogram2dcontour": [
           {
            "colorbar": {
             "outlinewidth": 0,
             "ticks": ""
            },
            "colorscale": [
             [
              0,
              "#0d0887"
             ],
             [
              0.1111111111111111,
              "#46039f"
             ],
             [
              0.2222222222222222,
              "#7201a8"
             ],
             [
              0.3333333333333333,
              "#9c179e"
             ],
             [
              0.4444444444444444,
              "#bd3786"
             ],
             [
              0.5555555555555556,
              "#d8576b"
             ],
             [
              0.6666666666666666,
              "#ed7953"
             ],
             [
              0.7777777777777778,
              "#fb9f3a"
             ],
             [
              0.8888888888888888,
              "#fdca26"
             ],
             [
              1,
              "#f0f921"
             ]
            ],
            "type": "histogram2dcontour"
           }
          ],
          "mesh3d": [
           {
            "colorbar": {
             "outlinewidth": 0,
             "ticks": ""
            },
            "type": "mesh3d"
           }
          ],
          "parcoords": [
           {
            "line": {
             "colorbar": {
              "outlinewidth": 0,
              "ticks": ""
             }
            },
            "type": "parcoords"
           }
          ],
          "pie": [
           {
            "automargin": true,
            "type": "pie"
           }
          ],
          "scatter": [
           {
            "fillpattern": {
             "fillmode": "overlay",
             "size": 10,
             "solidity": 0.2
            },
            "type": "scatter"
           }
          ],
          "scatter3d": [
           {
            "line": {
             "colorbar": {
              "outlinewidth": 0,
              "ticks": ""
             }
            },
            "marker": {
             "colorbar": {
              "outlinewidth": 0,
              "ticks": ""
             }
            },
            "type": "scatter3d"
           }
          ],
          "scattercarpet": [
           {
            "marker": {
             "colorbar": {
              "outlinewidth": 0,
              "ticks": ""
             }
            },
            "type": "scattercarpet"
           }
          ],
          "scattergeo": [
           {
            "marker": {
             "colorbar": {
              "outlinewidth": 0,
              "ticks": ""
             }
            },
            "type": "scattergeo"
           }
          ],
          "scattergl": [
           {
            "marker": {
             "colorbar": {
              "outlinewidth": 0,
              "ticks": ""
             }
            },
            "type": "scattergl"
           }
          ],
          "scattermapbox": [
           {
            "marker": {
             "colorbar": {
              "outlinewidth": 0,
              "ticks": ""
             }
            },
            "type": "scattermapbox"
           }
          ],
          "scatterpolar": [
           {
            "marker": {
             "colorbar": {
              "outlinewidth": 0,
              "ticks": ""
             }
            },
            "type": "scatterpolar"
           }
          ],
          "scatterpolargl": [
           {
            "marker": {
             "colorbar": {
              "outlinewidth": 0,
              "ticks": ""
             }
            },
            "type": "scatterpolargl"
           }
          ],
          "scatterternary": [
           {
            "marker": {
             "colorbar": {
              "outlinewidth": 0,
              "ticks": ""
             }
            },
            "type": "scatterternary"
           }
          ],
          "surface": [
           {
            "colorbar": {
             "outlinewidth": 0,
             "ticks": ""
            },
            "colorscale": [
             [
              0,
              "#0d0887"
             ],
             [
              0.1111111111111111,
              "#46039f"
             ],
             [
              0.2222222222222222,
              "#7201a8"
             ],
             [
              0.3333333333333333,
              "#9c179e"
             ],
             [
              0.4444444444444444,
              "#bd3786"
             ],
             [
              0.5555555555555556,
              "#d8576b"
             ],
             [
              0.6666666666666666,
              "#ed7953"
             ],
             [
              0.7777777777777778,
              "#fb9f3a"
             ],
             [
              0.8888888888888888,
              "#fdca26"
             ],
             [
              1,
              "#f0f921"
             ]
            ],
            "type": "surface"
           }
          ],
          "table": [
           {
            "cells": {
             "fill": {
              "color": "#EBF0F8"
             },
             "line": {
              "color": "white"
             }
            },
            "header": {
             "fill": {
              "color": "#C8D4E3"
             },
             "line": {
              "color": "white"
             }
            },
            "type": "table"
           }
          ]
         },
         "layout": {
          "annotationdefaults": {
           "arrowcolor": "#2a3f5f",
           "arrowhead": 0,
           "arrowwidth": 1
          },
          "autotypenumbers": "strict",
          "coloraxis": {
           "colorbar": {
            "outlinewidth": 0,
            "ticks": ""
           }
          },
          "colorscale": {
           "diverging": [
            [
             0,
             "#8e0152"
            ],
            [
             0.1,
             "#c51b7d"
            ],
            [
             0.2,
             "#de77ae"
            ],
            [
             0.3,
             "#f1b6da"
            ],
            [
             0.4,
             "#fde0ef"
            ],
            [
             0.5,
             "#f7f7f7"
            ],
            [
             0.6,
             "#e6f5d0"
            ],
            [
             0.7,
             "#b8e186"
            ],
            [
             0.8,
             "#7fbc41"
            ],
            [
             0.9,
             "#4d9221"
            ],
            [
             1,
             "#276419"
            ]
           ],
           "sequential": [
            [
             0,
             "#0d0887"
            ],
            [
             0.1111111111111111,
             "#46039f"
            ],
            [
             0.2222222222222222,
             "#7201a8"
            ],
            [
             0.3333333333333333,
             "#9c179e"
            ],
            [
             0.4444444444444444,
             "#bd3786"
            ],
            [
             0.5555555555555556,
             "#d8576b"
            ],
            [
             0.6666666666666666,
             "#ed7953"
            ],
            [
             0.7777777777777778,
             "#fb9f3a"
            ],
            [
             0.8888888888888888,
             "#fdca26"
            ],
            [
             1,
             "#f0f921"
            ]
           ],
           "sequentialminus": [
            [
             0,
             "#0d0887"
            ],
            [
             0.1111111111111111,
             "#46039f"
            ],
            [
             0.2222222222222222,
             "#7201a8"
            ],
            [
             0.3333333333333333,
             "#9c179e"
            ],
            [
             0.4444444444444444,
             "#bd3786"
            ],
            [
             0.5555555555555556,
             "#d8576b"
            ],
            [
             0.6666666666666666,
             "#ed7953"
            ],
            [
             0.7777777777777778,
             "#fb9f3a"
            ],
            [
             0.8888888888888888,
             "#fdca26"
            ],
            [
             1,
             "#f0f921"
            ]
           ]
          },
          "colorway": [
           "#636efa",
           "#EF553B",
           "#00cc96",
           "#ab63fa",
           "#FFA15A",
           "#19d3f3",
           "#FF6692",
           "#B6E880",
           "#FF97FF",
           "#FECB52"
          ],
          "font": {
           "color": "#2a3f5f"
          },
          "geo": {
           "bgcolor": "white",
           "lakecolor": "white",
           "landcolor": "#E5ECF6",
           "showlakes": true,
           "showland": true,
           "subunitcolor": "white"
          },
          "hoverlabel": {
           "align": "left"
          },
          "hovermode": "closest",
          "mapbox": {
           "style": "light"
          },
          "paper_bgcolor": "white",
          "plot_bgcolor": "#E5ECF6",
          "polar": {
           "angularaxis": {
            "gridcolor": "white",
            "linecolor": "white",
            "ticks": ""
           },
           "bgcolor": "#E5ECF6",
           "radialaxis": {
            "gridcolor": "white",
            "linecolor": "white",
            "ticks": ""
           }
          },
          "scene": {
           "xaxis": {
            "backgroundcolor": "#E5ECF6",
            "gridcolor": "white",
            "gridwidth": 2,
            "linecolor": "white",
            "showbackground": true,
            "ticks": "",
            "zerolinecolor": "white"
           },
           "yaxis": {
            "backgroundcolor": "#E5ECF6",
            "gridcolor": "white",
            "gridwidth": 2,
            "linecolor": "white",
            "showbackground": true,
            "ticks": "",
            "zerolinecolor": "white"
           },
           "zaxis": {
            "backgroundcolor": "#E5ECF6",
            "gridcolor": "white",
            "gridwidth": 2,
            "linecolor": "white",
            "showbackground": true,
            "ticks": "",
            "zerolinecolor": "white"
           }
          },
          "shapedefaults": {
           "line": {
            "color": "#2a3f5f"
           }
          },
          "ternary": {
           "aaxis": {
            "gridcolor": "white",
            "linecolor": "white",
            "ticks": ""
           },
           "baxis": {
            "gridcolor": "white",
            "linecolor": "white",
            "ticks": ""
           },
           "bgcolor": "#E5ECF6",
           "caxis": {
            "gridcolor": "white",
            "linecolor": "white",
            "ticks": ""
           }
          },
          "title": {
           "x": 0.05
          },
          "xaxis": {
           "automargin": true,
           "gridcolor": "white",
           "linecolor": "white",
           "ticks": "",
           "title": {
            "standoff": 15
           },
           "zerolinecolor": "white",
           "zerolinewidth": 2
          },
          "yaxis": {
           "automargin": true,
           "gridcolor": "white",
           "linecolor": "white",
           "ticks": "",
           "title": {
            "standoff": 15
           },
           "zerolinecolor": "white",
           "zerolinewidth": 2
          }
         }
        },
        "xaxis": {
         "anchor": "y",
         "domain": [
          0,
          1
         ],
         "title": {
          "text": "commencement_of_operation_year"
         },
         "type": "log"
        },
        "yaxis": {
         "anchor": "x",
         "domain": [
          0,
          1
         ],
         "title": {
          "text": "commencement_of_operation_year_count"
         }
        }
       }
      }
     },
     "metadata": {},
     "output_type": "display_data"
    }
   ],
   "source": [
    "district_and_religion = schools_datasets.groupby(['commencement_of_operation_year', 'religion']).size().reset_index(name='commencement_of_operation_year_count')\n",
    "fig = px.scatter(district_and_religion, x=\"commencement_of_operation_year\", y=\"commencement_of_operation_year_count\", size=\"commencement_of_operation_year_count\", color=\"religion\",\n",
    "           hover_name=\"religion\", log_x=True, size_max=40)\n",
    "fig.show()\n"
   ]
  },
  {
   "cell_type": "code",
   "execution_count": 284,
   "metadata": {},
   "outputs": [],
   "source": [
    "primary_school_all = pd.merge(schools_datasets,primary_school_code_HKMO_Award[['school code','school_name','2024','2023','2022','2021','total']] , on='school_name')"
   ]
  },
  {
   "cell_type": "code",
   "execution_count": 295,
   "metadata": {},
   "outputs": [
    {
     "data": {
      "text/html": [
       "<div>\n",
       "<style scoped>\n",
       "    .dataframe tbody tr th:only-of-type {\n",
       "        vertical-align: middle;\n",
       "    }\n",
       "\n",
       "    .dataframe tbody tr th {\n",
       "        vertical-align: top;\n",
       "    }\n",
       "\n",
       "    .dataframe thead th {\n",
       "        text-align: right;\n",
       "    }\n",
       "</style>\n",
       "<table border=\"1\" class=\"dataframe\">\n",
       "  <thead>\n",
       "    <tr style=\"text-align: right;\">\n",
       "      <th></th>\n",
       "      <th>district</th>\n",
       "      <th>school_name</th>\n",
       "      <th>school_type_1</th>\n",
       "      <th>title_supervisor</th>\n",
       "      <th>student_gender</th>\n",
       "      <th>sponsoring_body</th>\n",
       "      <th>commencement_of_operation_year</th>\n",
       "      <th>religion</th>\n",
       "      <th>school_size</th>\n",
       "      <th>medium_of_instruction</th>\n",
       "      <th>...</th>\n",
       "      <th>hscse_school_ethos</th>\n",
       "      <th>fdev_school_dev_plan</th>\n",
       "      <th>fdev_teacher_pro_training_and_dev</th>\n",
       "      <th>sch_character_others</th>\n",
       "      <th>school code</th>\n",
       "      <th>2024</th>\n",
       "      <th>2023</th>\n",
       "      <th>2022</th>\n",
       "      <th>2021</th>\n",
       "      <th>total</th>\n",
       "    </tr>\n",
       "  </thead>\n",
       "  <tbody>\n",
       "    <tr>\n",
       "      <th>0</th>\n",
       "      <td>香港南區</td>\n",
       "      <td>聖保羅書院小學</td>\n",
       "      <td>直資</td>\n",
       "      <td>先生</td>\n",
       "      <td>男</td>\n",
       "      <td>聖保羅書院校董會</td>\n",
       "      <td>1851</td>\n",
       "      <td>基督教</td>\n",
       "      <td>5380.0</td>\n",
       "      <td>中文（包括：普通話）及英文</td>\n",
       "      <td>...</td>\n",
       "      <td>學校重視學生的品德培養，為學生規劃完整的德育課程，強調學生自律、自省，能夠在「適當的時間，適...</td>\n",
       "      <td>1.　拓闊學生眼界（環球教室）　　&lt;br&gt;2.　加強對外的聯繫、交流　　　　&lt;br&gt;3.　改...</td>\n",
       "      <td>老師參與進修課程、工作坊、簡介會及教學經驗分享會。除了個人的專業進修課程，老師亦參與學校舉辦...</td>\n",
       "      <td>獎學金：設置不同範疇的獎學金表揚學生各方面的成就及貢獻。</td>\n",
       "      <td>AP0552</td>\n",
       "      <td>12.0</td>\n",
       "      <td>4.0</td>\n",
       "      <td>2.0</td>\n",
       "      <td>6.0</td>\n",
       "      <td>24.0</td>\n",
       "    </tr>\n",
       "  </tbody>\n",
       "</table>\n",
       "<p>1 rows × 92 columns</p>\n",
       "</div>"
      ],
      "text/plain": [
       "  district school_name school_type_1 title_supervisor student_gender  \\\n",
       "0     香港南區     聖保羅書院小學            直資               先生              男   \n",
       "\n",
       "  sponsoring_body  commencement_of_operation_year religion  school_size  \\\n",
       "0        聖保羅書院校董會                            1851      基督教       5380.0   \n",
       "\n",
       "  medium_of_instruction  ...  \\\n",
       "0         中文（包括：普通話）及英文  ...   \n",
       "\n",
       "                                  hscse_school_ethos  \\\n",
       "0  學校重視學生的品德培養，為學生規劃完整的德育課程，強調學生自律、自省，能夠在「適當的時間，適...   \n",
       "\n",
       "                                fdev_school_dev_plan  \\\n",
       "0  1.　拓闊學生眼界（環球教室）　　<br>2.　加強對外的聯繫、交流　　　　<br>3.　改...   \n",
       "\n",
       "                   fdev_teacher_pro_training_and_dev  \\\n",
       "0  老師參與進修課程、工作坊、簡介會及教學經驗分享會。除了個人的專業進修課程，老師亦參與學校舉辦...   \n",
       "\n",
       "           sch_character_others school code  2024 2023 2022 2021  total  \n",
       "0  獎學金：設置不同範疇的獎學金表揚學生各方面的成就及貢獻。      AP0552  12.0  4.0  2.0  6.0   24.0  \n",
       "\n",
       "[1 rows x 92 columns]"
      ]
     },
     "execution_count": 295,
     "metadata": {},
     "output_type": "execute_result"
    }
   ],
   "source": [
    "primary_school_all.head(1)"
   ]
  },
  {
   "cell_type": "code",
   "execution_count": 302,
   "metadata": {},
   "outputs": [
    {
     "data": {
      "application/vnd.plotly.v1+json": {
       "config": {
        "plotlyServerURL": "https://plot.ly"
       },
       "data": [
        {
         "domain": {
          "x": [
           0,
           1
          ],
          "y": [
           0,
           1
          ]
         },
         "hovertemplate": "district=%{label}<br>school_count=%{value}<extra></extra>",
         "labels": [
          "中西區",
          "中西區",
          "中西區",
          "中西區",
          "中西區",
          "中西區",
          "中西區",
          "中西區",
          "中西區",
          "中西區",
          "中西區",
          "中西區",
          "中西區",
          "中西區",
          "中西區",
          "中西區",
          "中西區",
          "九龍城區",
          "九龍城區",
          "九龍城區",
          "九龍城區",
          "九龍城區",
          "九龍城區",
          "九龍城區",
          "九龍城區",
          "九龍城區",
          "九龍城區",
          "九龍城區",
          "九龍城區",
          "九龍城區"
         ],
         "legendgroup": "",
         "name": "",
         "showlegend": true,
         "type": "pie",
         "values": [
          1,
          1,
          1,
          1,
          1,
          1,
          1,
          1,
          1,
          1,
          1,
          1,
          1,
          1,
          1,
          1,
          1,
          1,
          1,
          1,
          1,
          1,
          1,
          1,
          1,
          1,
          1,
          1,
          1,
          1
         ]
        }
       ],
       "layout": {
        "legend": {
         "tracegroupgap": 0
        },
        "template": {
         "data": {
          "bar": [
           {
            "error_x": {
             "color": "#2a3f5f"
            },
            "error_y": {
             "color": "#2a3f5f"
            },
            "marker": {
             "line": {
              "color": "#E5ECF6",
              "width": 0.5
             },
             "pattern": {
              "fillmode": "overlay",
              "size": 10,
              "solidity": 0.2
             }
            },
            "type": "bar"
           }
          ],
          "barpolar": [
           {
            "marker": {
             "line": {
              "color": "#E5ECF6",
              "width": 0.5
             },
             "pattern": {
              "fillmode": "overlay",
              "size": 10,
              "solidity": 0.2
             }
            },
            "type": "barpolar"
           }
          ],
          "carpet": [
           {
            "aaxis": {
             "endlinecolor": "#2a3f5f",
             "gridcolor": "white",
             "linecolor": "white",
             "minorgridcolor": "white",
             "startlinecolor": "#2a3f5f"
            },
            "baxis": {
             "endlinecolor": "#2a3f5f",
             "gridcolor": "white",
             "linecolor": "white",
             "minorgridcolor": "white",
             "startlinecolor": "#2a3f5f"
            },
            "type": "carpet"
           }
          ],
          "choropleth": [
           {
            "colorbar": {
             "outlinewidth": 0,
             "ticks": ""
            },
            "type": "choropleth"
           }
          ],
          "contour": [
           {
            "colorbar": {
             "outlinewidth": 0,
             "ticks": ""
            },
            "colorscale": [
             [
              0,
              "#0d0887"
             ],
             [
              0.1111111111111111,
              "#46039f"
             ],
             [
              0.2222222222222222,
              "#7201a8"
             ],
             [
              0.3333333333333333,
              "#9c179e"
             ],
             [
              0.4444444444444444,
              "#bd3786"
             ],
             [
              0.5555555555555556,
              "#d8576b"
             ],
             [
              0.6666666666666666,
              "#ed7953"
             ],
             [
              0.7777777777777778,
              "#fb9f3a"
             ],
             [
              0.8888888888888888,
              "#fdca26"
             ],
             [
              1,
              "#f0f921"
             ]
            ],
            "type": "contour"
           }
          ],
          "contourcarpet": [
           {
            "colorbar": {
             "outlinewidth": 0,
             "ticks": ""
            },
            "type": "contourcarpet"
           }
          ],
          "heatmap": [
           {
            "colorbar": {
             "outlinewidth": 0,
             "ticks": ""
            },
            "colorscale": [
             [
              0,
              "#0d0887"
             ],
             [
              0.1111111111111111,
              "#46039f"
             ],
             [
              0.2222222222222222,
              "#7201a8"
             ],
             [
              0.3333333333333333,
              "#9c179e"
             ],
             [
              0.4444444444444444,
              "#bd3786"
             ],
             [
              0.5555555555555556,
              "#d8576b"
             ],
             [
              0.6666666666666666,
              "#ed7953"
             ],
             [
              0.7777777777777778,
              "#fb9f3a"
             ],
             [
              0.8888888888888888,
              "#fdca26"
             ],
             [
              1,
              "#f0f921"
             ]
            ],
            "type": "heatmap"
           }
          ],
          "heatmapgl": [
           {
            "colorbar": {
             "outlinewidth": 0,
             "ticks": ""
            },
            "colorscale": [
             [
              0,
              "#0d0887"
             ],
             [
              0.1111111111111111,
              "#46039f"
             ],
             [
              0.2222222222222222,
              "#7201a8"
             ],
             [
              0.3333333333333333,
              "#9c179e"
             ],
             [
              0.4444444444444444,
              "#bd3786"
             ],
             [
              0.5555555555555556,
              "#d8576b"
             ],
             [
              0.6666666666666666,
              "#ed7953"
             ],
             [
              0.7777777777777778,
              "#fb9f3a"
             ],
             [
              0.8888888888888888,
              "#fdca26"
             ],
             [
              1,
              "#f0f921"
             ]
            ],
            "type": "heatmapgl"
           }
          ],
          "histogram": [
           {
            "marker": {
             "pattern": {
              "fillmode": "overlay",
              "size": 10,
              "solidity": 0.2
             }
            },
            "type": "histogram"
           }
          ],
          "histogram2d": [
           {
            "colorbar": {
             "outlinewidth": 0,
             "ticks": ""
            },
            "colorscale": [
             [
              0,
              "#0d0887"
             ],
             [
              0.1111111111111111,
              "#46039f"
             ],
             [
              0.2222222222222222,
              "#7201a8"
             ],
             [
              0.3333333333333333,
              "#9c179e"
             ],
             [
              0.4444444444444444,
              "#bd3786"
             ],
             [
              0.5555555555555556,
              "#d8576b"
             ],
             [
              0.6666666666666666,
              "#ed7953"
             ],
             [
              0.7777777777777778,
              "#fb9f3a"
             ],
             [
              0.8888888888888888,
              "#fdca26"
             ],
             [
              1,
              "#f0f921"
             ]
            ],
            "type": "histogram2d"
           }
          ],
          "histogram2dcontour": [
           {
            "colorbar": {
             "outlinewidth": 0,
             "ticks": ""
            },
            "colorscale": [
             [
              0,
              "#0d0887"
             ],
             [
              0.1111111111111111,
              "#46039f"
             ],
             [
              0.2222222222222222,
              "#7201a8"
             ],
             [
              0.3333333333333333,
              "#9c179e"
             ],
             [
              0.4444444444444444,
              "#bd3786"
             ],
             [
              0.5555555555555556,
              "#d8576b"
             ],
             [
              0.6666666666666666,
              "#ed7953"
             ],
             [
              0.7777777777777778,
              "#fb9f3a"
             ],
             [
              0.8888888888888888,
              "#fdca26"
             ],
             [
              1,
              "#f0f921"
             ]
            ],
            "type": "histogram2dcontour"
           }
          ],
          "mesh3d": [
           {
            "colorbar": {
             "outlinewidth": 0,
             "ticks": ""
            },
            "type": "mesh3d"
           }
          ],
          "parcoords": [
           {
            "line": {
             "colorbar": {
              "outlinewidth": 0,
              "ticks": ""
             }
            },
            "type": "parcoords"
           }
          ],
          "pie": [
           {
            "automargin": true,
            "type": "pie"
           }
          ],
          "scatter": [
           {
            "fillpattern": {
             "fillmode": "overlay",
             "size": 10,
             "solidity": 0.2
            },
            "type": "scatter"
           }
          ],
          "scatter3d": [
           {
            "line": {
             "colorbar": {
              "outlinewidth": 0,
              "ticks": ""
             }
            },
            "marker": {
             "colorbar": {
              "outlinewidth": 0,
              "ticks": ""
             }
            },
            "type": "scatter3d"
           }
          ],
          "scattercarpet": [
           {
            "marker": {
             "colorbar": {
              "outlinewidth": 0,
              "ticks": ""
             }
            },
            "type": "scattercarpet"
           }
          ],
          "scattergeo": [
           {
            "marker": {
             "colorbar": {
              "outlinewidth": 0,
              "ticks": ""
             }
            },
            "type": "scattergeo"
           }
          ],
          "scattergl": [
           {
            "marker": {
             "colorbar": {
              "outlinewidth": 0,
              "ticks": ""
             }
            },
            "type": "scattergl"
           }
          ],
          "scattermapbox": [
           {
            "marker": {
             "colorbar": {
              "outlinewidth": 0,
              "ticks": ""
             }
            },
            "type": "scattermapbox"
           }
          ],
          "scatterpolar": [
           {
            "marker": {
             "colorbar": {
              "outlinewidth": 0,
              "ticks": ""
             }
            },
            "type": "scatterpolar"
           }
          ],
          "scatterpolargl": [
           {
            "marker": {
             "colorbar": {
              "outlinewidth": 0,
              "ticks": ""
             }
            },
            "type": "scatterpolargl"
           }
          ],
          "scatterternary": [
           {
            "marker": {
             "colorbar": {
              "outlinewidth": 0,
              "ticks": ""
             }
            },
            "type": "scatterternary"
           }
          ],
          "surface": [
           {
            "colorbar": {
             "outlinewidth": 0,
             "ticks": ""
            },
            "colorscale": [
             [
              0,
              "#0d0887"
             ],
             [
              0.1111111111111111,
              "#46039f"
             ],
             [
              0.2222222222222222,
              "#7201a8"
             ],
             [
              0.3333333333333333,
              "#9c179e"
             ],
             [
              0.4444444444444444,
              "#bd3786"
             ],
             [
              0.5555555555555556,
              "#d8576b"
             ],
             [
              0.6666666666666666,
              "#ed7953"
             ],
             [
              0.7777777777777778,
              "#fb9f3a"
             ],
             [
              0.8888888888888888,
              "#fdca26"
             ],
             [
              1,
              "#f0f921"
             ]
            ],
            "type": "surface"
           }
          ],
          "table": [
           {
            "cells": {
             "fill": {
              "color": "#EBF0F8"
             },
             "line": {
              "color": "white"
             }
            },
            "header": {
             "fill": {
              "color": "#C8D4E3"
             },
             "line": {
              "color": "white"
             }
            },
            "type": "table"
           }
          ]
         },
         "layout": {
          "annotationdefaults": {
           "arrowcolor": "#2a3f5f",
           "arrowhead": 0,
           "arrowwidth": 1
          },
          "autotypenumbers": "strict",
          "coloraxis": {
           "colorbar": {
            "outlinewidth": 0,
            "ticks": ""
           }
          },
          "colorscale": {
           "diverging": [
            [
             0,
             "#8e0152"
            ],
            [
             0.1,
             "#c51b7d"
            ],
            [
             0.2,
             "#de77ae"
            ],
            [
             0.3,
             "#f1b6da"
            ],
            [
             0.4,
             "#fde0ef"
            ],
            [
             0.5,
             "#f7f7f7"
            ],
            [
             0.6,
             "#e6f5d0"
            ],
            [
             0.7,
             "#b8e186"
            ],
            [
             0.8,
             "#7fbc41"
            ],
            [
             0.9,
             "#4d9221"
            ],
            [
             1,
             "#276419"
            ]
           ],
           "sequential": [
            [
             0,
             "#0d0887"
            ],
            [
             0.1111111111111111,
             "#46039f"
            ],
            [
             0.2222222222222222,
             "#7201a8"
            ],
            [
             0.3333333333333333,
             "#9c179e"
            ],
            [
             0.4444444444444444,
             "#bd3786"
            ],
            [
             0.5555555555555556,
             "#d8576b"
            ],
            [
             0.6666666666666666,
             "#ed7953"
            ],
            [
             0.7777777777777778,
             "#fb9f3a"
            ],
            [
             0.8888888888888888,
             "#fdca26"
            ],
            [
             1,
             "#f0f921"
            ]
           ],
           "sequentialminus": [
            [
             0,
             "#0d0887"
            ],
            [
             0.1111111111111111,
             "#46039f"
            ],
            [
             0.2222222222222222,
             "#7201a8"
            ],
            [
             0.3333333333333333,
             "#9c179e"
            ],
            [
             0.4444444444444444,
             "#bd3786"
            ],
            [
             0.5555555555555556,
             "#d8576b"
            ],
            [
             0.6666666666666666,
             "#ed7953"
            ],
            [
             0.7777777777777778,
             "#fb9f3a"
            ],
            [
             0.8888888888888888,
             "#fdca26"
            ],
            [
             1,
             "#f0f921"
            ]
           ]
          },
          "colorway": [
           "#636efa",
           "#EF553B",
           "#00cc96",
           "#ab63fa",
           "#FFA15A",
           "#19d3f3",
           "#FF6692",
           "#B6E880",
           "#FF97FF",
           "#FECB52"
          ],
          "font": {
           "color": "#2a3f5f"
          },
          "geo": {
           "bgcolor": "white",
           "lakecolor": "white",
           "landcolor": "#E5ECF6",
           "showlakes": true,
           "showland": true,
           "subunitcolor": "white"
          },
          "hoverlabel": {
           "align": "left"
          },
          "hovermode": "closest",
          "mapbox": {
           "style": "light"
          },
          "paper_bgcolor": "white",
          "plot_bgcolor": "#E5ECF6",
          "polar": {
           "angularaxis": {
            "gridcolor": "white",
            "linecolor": "white",
            "ticks": ""
           },
           "bgcolor": "#E5ECF6",
           "radialaxis": {
            "gridcolor": "white",
            "linecolor": "white",
            "ticks": ""
           }
          },
          "scene": {
           "xaxis": {
            "backgroundcolor": "#E5ECF6",
            "gridcolor": "white",
            "gridwidth": 2,
            "linecolor": "white",
            "showbackground": true,
            "ticks": "",
            "zerolinecolor": "white"
           },
           "yaxis": {
            "backgroundcolor": "#E5ECF6",
            "gridcolor": "white",
            "gridwidth": 2,
            "linecolor": "white",
            "showbackground": true,
            "ticks": "",
            "zerolinecolor": "white"
           },
           "zaxis": {
            "backgroundcolor": "#E5ECF6",
            "gridcolor": "white",
            "gridwidth": 2,
            "linecolor": "white",
            "showbackground": true,
            "ticks": "",
            "zerolinecolor": "white"
           }
          },
          "shapedefaults": {
           "line": {
            "color": "#2a3f5f"
           }
          },
          "ternary": {
           "aaxis": {
            "gridcolor": "white",
            "linecolor": "white",
            "ticks": ""
           },
           "baxis": {
            "gridcolor": "white",
            "linecolor": "white",
            "ticks": ""
           },
           "bgcolor": "#E5ECF6",
           "caxis": {
            "gridcolor": "white",
            "linecolor": "white",
            "ticks": ""
           }
          },
          "title": {
           "x": 0.05
          },
          "xaxis": {
           "automargin": true,
           "gridcolor": "white",
           "linecolor": "white",
           "ticks": "",
           "title": {
            "standoff": 15
           },
           "zerolinecolor": "white",
           "zerolinewidth": 2
          },
          "yaxis": {
           "automargin": true,
           "gridcolor": "white",
           "linecolor": "white",
           "ticks": "",
           "title": {
            "standoff": 15
           },
           "zerolinecolor": "white",
           "zerolinewidth": 2
          }
         }
        },
        "title": {
         "text": "Sorted by shcool size before 30"
        }
       }
      }
     },
     "metadata": {},
     "output_type": "display_data"
    },
    {
     "data": {
      "application/vnd.plotly.v1+json": {
       "config": {
        "plotlyServerURL": "https://plot.ly"
       },
       "data": [
        {
         "domain": {
          "x": [
           0,
           1
          ],
          "y": [
           0,
           1
          ]
         },
         "hovertemplate": "district=%{label}<br>school_count=%{value}<extra></extra>",
         "labels": [
          "中西區",
          "中西區",
          "中西區",
          "中西區",
          "中西區",
          "中西區",
          "中西區",
          "中西區",
          "中西區",
          "中西區",
          "中西區",
          "中西區",
          "中西區",
          "中西區",
          "中西區",
          "中西區",
          "中西區",
          "九龍城區",
          "九龍城區",
          "九龍城區",
          "九龍城區",
          "九龍城區",
          "九龍城區",
          "九龍城區",
          "九龍城區",
          "九龍城區",
          "九龍城區",
          "九龍城區",
          "九龍城區",
          "九龍城區",
          "九龍城區",
          "九龍城區",
          "九龍城區",
          "九龍城區",
          "九龍城區",
          "九龍城區",
          "九龍城區",
          "九龍城區",
          "九龍城區",
          "九龍城區",
          "九龍城區",
          "九龍城區",
          "九龍城區",
          "九龍城區",
          "九龍城區",
          "九龍城區",
          "九龍城區",
          "九龍城區",
          "九龍城區",
          "九龍城區",
          "九龍城區",
          "元朗區",
          "元朗區",
          "元朗區",
          "元朗區",
          "元朗區",
          "元朗區",
          "元朗區",
          "元朗區",
          "元朗區",
          "元朗區",
          "元朗區",
          "元朗區",
          "元朗區",
          "元朗區",
          "元朗區",
          "元朗區",
          "元朗區",
          "元朗區",
          "元朗區",
          "元朗區",
          "元朗區",
          "元朗區",
          "北區",
          "北區",
          "北區",
          "北區",
          "北區",
          "北區",
          "北區",
          "北區",
          "北區",
          "北區",
          "北區",
          "北區",
          "北區",
          "北區",
          "北區",
          "大埔區",
          "大埔區",
          "大埔區",
          "大埔區",
          "大埔區",
          "大埔區",
          "大埔區",
          "大埔區",
          "大埔區",
          "大埔區",
          "大埔區",
          "大埔區"
         ],
         "legendgroup": "",
         "name": "",
         "showlegend": true,
         "type": "pie",
         "values": [
          1,
          1,
          1,
          1,
          1,
          1,
          1,
          1,
          1,
          1,
          1,
          1,
          1,
          1,
          1,
          1,
          1,
          1,
          1,
          1,
          1,
          1,
          1,
          1,
          1,
          1,
          1,
          1,
          1,
          1,
          1,
          2,
          1,
          1,
          1,
          2,
          1,
          1,
          2,
          1,
          1,
          1,
          1,
          1,
          1,
          1,
          1,
          1,
          1,
          1,
          1,
          1,
          1,
          2,
          1,
          1,
          3,
          1,
          2,
          1,
          1,
          1,
          1,
          1,
          1,
          1,
          4,
          1,
          1,
          1,
          2,
          1,
          1,
          1,
          1,
          1,
          1,
          1,
          1,
          2,
          3,
          1,
          1,
          1,
          1,
          1,
          2,
          1,
          1,
          1,
          1,
          1,
          2,
          2,
          1,
          1,
          1,
          2,
          1,
          1
         ]
        }
       ],
       "layout": {
        "legend": {
         "tracegroupgap": 0
        },
        "template": {
         "data": {
          "bar": [
           {
            "error_x": {
             "color": "#2a3f5f"
            },
            "error_y": {
             "color": "#2a3f5f"
            },
            "marker": {
             "line": {
              "color": "#E5ECF6",
              "width": 0.5
             },
             "pattern": {
              "fillmode": "overlay",
              "size": 10,
              "solidity": 0.2
             }
            },
            "type": "bar"
           }
          ],
          "barpolar": [
           {
            "marker": {
             "line": {
              "color": "#E5ECF6",
              "width": 0.5
             },
             "pattern": {
              "fillmode": "overlay",
              "size": 10,
              "solidity": 0.2
             }
            },
            "type": "barpolar"
           }
          ],
          "carpet": [
           {
            "aaxis": {
             "endlinecolor": "#2a3f5f",
             "gridcolor": "white",
             "linecolor": "white",
             "minorgridcolor": "white",
             "startlinecolor": "#2a3f5f"
            },
            "baxis": {
             "endlinecolor": "#2a3f5f",
             "gridcolor": "white",
             "linecolor": "white",
             "minorgridcolor": "white",
             "startlinecolor": "#2a3f5f"
            },
            "type": "carpet"
           }
          ],
          "choropleth": [
           {
            "colorbar": {
             "outlinewidth": 0,
             "ticks": ""
            },
            "type": "choropleth"
           }
          ],
          "contour": [
           {
            "colorbar": {
             "outlinewidth": 0,
             "ticks": ""
            },
            "colorscale": [
             [
              0,
              "#0d0887"
             ],
             [
              0.1111111111111111,
              "#46039f"
             ],
             [
              0.2222222222222222,
              "#7201a8"
             ],
             [
              0.3333333333333333,
              "#9c179e"
             ],
             [
              0.4444444444444444,
              "#bd3786"
             ],
             [
              0.5555555555555556,
              "#d8576b"
             ],
             [
              0.6666666666666666,
              "#ed7953"
             ],
             [
              0.7777777777777778,
              "#fb9f3a"
             ],
             [
              0.8888888888888888,
              "#fdca26"
             ],
             [
              1,
              "#f0f921"
             ]
            ],
            "type": "contour"
           }
          ],
          "contourcarpet": [
           {
            "colorbar": {
             "outlinewidth": 0,
             "ticks": ""
            },
            "type": "contourcarpet"
           }
          ],
          "heatmap": [
           {
            "colorbar": {
             "outlinewidth": 0,
             "ticks": ""
            },
            "colorscale": [
             [
              0,
              "#0d0887"
             ],
             [
              0.1111111111111111,
              "#46039f"
             ],
             [
              0.2222222222222222,
              "#7201a8"
             ],
             [
              0.3333333333333333,
              "#9c179e"
             ],
             [
              0.4444444444444444,
              "#bd3786"
             ],
             [
              0.5555555555555556,
              "#d8576b"
             ],
             [
              0.6666666666666666,
              "#ed7953"
             ],
             [
              0.7777777777777778,
              "#fb9f3a"
             ],
             [
              0.8888888888888888,
              "#fdca26"
             ],
             [
              1,
              "#f0f921"
             ]
            ],
            "type": "heatmap"
           }
          ],
          "heatmapgl": [
           {
            "colorbar": {
             "outlinewidth": 0,
             "ticks": ""
            },
            "colorscale": [
             [
              0,
              "#0d0887"
             ],
             [
              0.1111111111111111,
              "#46039f"
             ],
             [
              0.2222222222222222,
              "#7201a8"
             ],
             [
              0.3333333333333333,
              "#9c179e"
             ],
             [
              0.4444444444444444,
              "#bd3786"
             ],
             [
              0.5555555555555556,
              "#d8576b"
             ],
             [
              0.6666666666666666,
              "#ed7953"
             ],
             [
              0.7777777777777778,
              "#fb9f3a"
             ],
             [
              0.8888888888888888,
              "#fdca26"
             ],
             [
              1,
              "#f0f921"
             ]
            ],
            "type": "heatmapgl"
           }
          ],
          "histogram": [
           {
            "marker": {
             "pattern": {
              "fillmode": "overlay",
              "size": 10,
              "solidity": 0.2
             }
            },
            "type": "histogram"
           }
          ],
          "histogram2d": [
           {
            "colorbar": {
             "outlinewidth": 0,
             "ticks": ""
            },
            "colorscale": [
             [
              0,
              "#0d0887"
             ],
             [
              0.1111111111111111,
              "#46039f"
             ],
             [
              0.2222222222222222,
              "#7201a8"
             ],
             [
              0.3333333333333333,
              "#9c179e"
             ],
             [
              0.4444444444444444,
              "#bd3786"
             ],
             [
              0.5555555555555556,
              "#d8576b"
             ],
             [
              0.6666666666666666,
              "#ed7953"
             ],
             [
              0.7777777777777778,
              "#fb9f3a"
             ],
             [
              0.8888888888888888,
              "#fdca26"
             ],
             [
              1,
              "#f0f921"
             ]
            ],
            "type": "histogram2d"
           }
          ],
          "histogram2dcontour": [
           {
            "colorbar": {
             "outlinewidth": 0,
             "ticks": ""
            },
            "colorscale": [
             [
              0,
              "#0d0887"
             ],
             [
              0.1111111111111111,
              "#46039f"
             ],
             [
              0.2222222222222222,
              "#7201a8"
             ],
             [
              0.3333333333333333,
              "#9c179e"
             ],
             [
              0.4444444444444444,
              "#bd3786"
             ],
             [
              0.5555555555555556,
              "#d8576b"
             ],
             [
              0.6666666666666666,
              "#ed7953"
             ],
             [
              0.7777777777777778,
              "#fb9f3a"
             ],
             [
              0.8888888888888888,
              "#fdca26"
             ],
             [
              1,
              "#f0f921"
             ]
            ],
            "type": "histogram2dcontour"
           }
          ],
          "mesh3d": [
           {
            "colorbar": {
             "outlinewidth": 0,
             "ticks": ""
            },
            "type": "mesh3d"
           }
          ],
          "parcoords": [
           {
            "line": {
             "colorbar": {
              "outlinewidth": 0,
              "ticks": ""
             }
            },
            "type": "parcoords"
           }
          ],
          "pie": [
           {
            "automargin": true,
            "type": "pie"
           }
          ],
          "scatter": [
           {
            "fillpattern": {
             "fillmode": "overlay",
             "size": 10,
             "solidity": 0.2
            },
            "type": "scatter"
           }
          ],
          "scatter3d": [
           {
            "line": {
             "colorbar": {
              "outlinewidth": 0,
              "ticks": ""
             }
            },
            "marker": {
             "colorbar": {
              "outlinewidth": 0,
              "ticks": ""
             }
            },
            "type": "scatter3d"
           }
          ],
          "scattercarpet": [
           {
            "marker": {
             "colorbar": {
              "outlinewidth": 0,
              "ticks": ""
             }
            },
            "type": "scattercarpet"
           }
          ],
          "scattergeo": [
           {
            "marker": {
             "colorbar": {
              "outlinewidth": 0,
              "ticks": ""
             }
            },
            "type": "scattergeo"
           }
          ],
          "scattergl": [
           {
            "marker": {
             "colorbar": {
              "outlinewidth": 0,
              "ticks": ""
             }
            },
            "type": "scattergl"
           }
          ],
          "scattermapbox": [
           {
            "marker": {
             "colorbar": {
              "outlinewidth": 0,
              "ticks": ""
             }
            },
            "type": "scattermapbox"
           }
          ],
          "scatterpolar": [
           {
            "marker": {
             "colorbar": {
              "outlinewidth": 0,
              "ticks": ""
             }
            },
            "type": "scatterpolar"
           }
          ],
          "scatterpolargl": [
           {
            "marker": {
             "colorbar": {
              "outlinewidth": 0,
              "ticks": ""
             }
            },
            "type": "scatterpolargl"
           }
          ],
          "scatterternary": [
           {
            "marker": {
             "colorbar": {
              "outlinewidth": 0,
              "ticks": ""
             }
            },
            "type": "scatterternary"
           }
          ],
          "surface": [
           {
            "colorbar": {
             "outlinewidth": 0,
             "ticks": ""
            },
            "colorscale": [
             [
              0,
              "#0d0887"
             ],
             [
              0.1111111111111111,
              "#46039f"
             ],
             [
              0.2222222222222222,
              "#7201a8"
             ],
             [
              0.3333333333333333,
              "#9c179e"
             ],
             [
              0.4444444444444444,
              "#bd3786"
             ],
             [
              0.5555555555555556,
              "#d8576b"
             ],
             [
              0.6666666666666666,
              "#ed7953"
             ],
             [
              0.7777777777777778,
              "#fb9f3a"
             ],
             [
              0.8888888888888888,
              "#fdca26"
             ],
             [
              1,
              "#f0f921"
             ]
            ],
            "type": "surface"
           }
          ],
          "table": [
           {
            "cells": {
             "fill": {
              "color": "#EBF0F8"
             },
             "line": {
              "color": "white"
             }
            },
            "header": {
             "fill": {
              "color": "#C8D4E3"
             },
             "line": {
              "color": "white"
             }
            },
            "type": "table"
           }
          ]
         },
         "layout": {
          "annotationdefaults": {
           "arrowcolor": "#2a3f5f",
           "arrowhead": 0,
           "arrowwidth": 1
          },
          "autotypenumbers": "strict",
          "coloraxis": {
           "colorbar": {
            "outlinewidth": 0,
            "ticks": ""
           }
          },
          "colorscale": {
           "diverging": [
            [
             0,
             "#8e0152"
            ],
            [
             0.1,
             "#c51b7d"
            ],
            [
             0.2,
             "#de77ae"
            ],
            [
             0.3,
             "#f1b6da"
            ],
            [
             0.4,
             "#fde0ef"
            ],
            [
             0.5,
             "#f7f7f7"
            ],
            [
             0.6,
             "#e6f5d0"
            ],
            [
             0.7,
             "#b8e186"
            ],
            [
             0.8,
             "#7fbc41"
            ],
            [
             0.9,
             "#4d9221"
            ],
            [
             1,
             "#276419"
            ]
           ],
           "sequential": [
            [
             0,
             "#0d0887"
            ],
            [
             0.1111111111111111,
             "#46039f"
            ],
            [
             0.2222222222222222,
             "#7201a8"
            ],
            [
             0.3333333333333333,
             "#9c179e"
            ],
            [
             0.4444444444444444,
             "#bd3786"
            ],
            [
             0.5555555555555556,
             "#d8576b"
            ],
            [
             0.6666666666666666,
             "#ed7953"
            ],
            [
             0.7777777777777778,
             "#fb9f3a"
            ],
            [
             0.8888888888888888,
             "#fdca26"
            ],
            [
             1,
             "#f0f921"
            ]
           ],
           "sequentialminus": [
            [
             0,
             "#0d0887"
            ],
            [
             0.1111111111111111,
             "#46039f"
            ],
            [
             0.2222222222222222,
             "#7201a8"
            ],
            [
             0.3333333333333333,
             "#9c179e"
            ],
            [
             0.4444444444444444,
             "#bd3786"
            ],
            [
             0.5555555555555556,
             "#d8576b"
            ],
            [
             0.6666666666666666,
             "#ed7953"
            ],
            [
             0.7777777777777778,
             "#fb9f3a"
            ],
            [
             0.8888888888888888,
             "#fdca26"
            ],
            [
             1,
             "#f0f921"
            ]
           ]
          },
          "colorway": [
           "#636efa",
           "#EF553B",
           "#00cc96",
           "#ab63fa",
           "#FFA15A",
           "#19d3f3",
           "#FF6692",
           "#B6E880",
           "#FF97FF",
           "#FECB52"
          ],
          "font": {
           "color": "#2a3f5f"
          },
          "geo": {
           "bgcolor": "white",
           "lakecolor": "white",
           "landcolor": "#E5ECF6",
           "showlakes": true,
           "showland": true,
           "subunitcolor": "white"
          },
          "hoverlabel": {
           "align": "left"
          },
          "hovermode": "closest",
          "mapbox": {
           "style": "light"
          },
          "paper_bgcolor": "white",
          "plot_bgcolor": "#E5ECF6",
          "polar": {
           "angularaxis": {
            "gridcolor": "white",
            "linecolor": "white",
            "ticks": ""
           },
           "bgcolor": "#E5ECF6",
           "radialaxis": {
            "gridcolor": "white",
            "linecolor": "white",
            "ticks": ""
           }
          },
          "scene": {
           "xaxis": {
            "backgroundcolor": "#E5ECF6",
            "gridcolor": "white",
            "gridwidth": 2,
            "linecolor": "white",
            "showbackground": true,
            "ticks": "",
            "zerolinecolor": "white"
           },
           "yaxis": {
            "backgroundcolor": "#E5ECF6",
            "gridcolor": "white",
            "gridwidth": 2,
            "linecolor": "white",
            "showbackground": true,
            "ticks": "",
            "zerolinecolor": "white"
           },
           "zaxis": {
            "backgroundcolor": "#E5ECF6",
            "gridcolor": "white",
            "gridwidth": 2,
            "linecolor": "white",
            "showbackground": true,
            "ticks": "",
            "zerolinecolor": "white"
           }
          },
          "shapedefaults": {
           "line": {
            "color": "#2a3f5f"
           }
          },
          "ternary": {
           "aaxis": {
            "gridcolor": "white",
            "linecolor": "white",
            "ticks": ""
           },
           "baxis": {
            "gridcolor": "white",
            "linecolor": "white",
            "ticks": ""
           },
           "bgcolor": "#E5ECF6",
           "caxis": {
            "gridcolor": "white",
            "linecolor": "white",
            "ticks": ""
           }
          },
          "title": {
           "x": 0.05
          },
          "xaxis": {
           "automargin": true,
           "gridcolor": "white",
           "linecolor": "white",
           "ticks": "",
           "title": {
            "standoff": 15
           },
           "zerolinecolor": "white",
           "zerolinewidth": 2
          },
          "yaxis": {
           "automargin": true,
           "gridcolor": "white",
           "linecolor": "white",
           "ticks": "",
           "title": {
            "standoff": 15
           },
           "zerolinecolor": "white",
           "zerolinewidth": 2
          }
         }
        },
        "title": {
         "text": "Sorted by shcool size before 100"
        }
       }
      }
     },
     "metadata": {},
     "output_type": "display_data"
    },
    {
     "data": {
      "application/vnd.plotly.v1+json": {
       "config": {
        "plotlyServerURL": "https://plot.ly"
       },
       "data": [
        {
         "domain": {
          "x": [
           0,
           1
          ],
          "y": [
           0,
           1
          ]
         },
         "hovertemplate": "district=%{label}<br>school_count=%{value}<extra></extra>",
         "labels": [
          "中西區",
          "中西區",
          "中西區",
          "中西區",
          "中西區",
          "中西區",
          "中西區",
          "中西區",
          "中西區",
          "中西區",
          "中西區",
          "中西區",
          "中西區",
          "中西區",
          "中西區",
          "中西區",
          "中西區",
          "九龍城區",
          "九龍城區",
          "九龍城區",
          "九龍城區",
          "九龍城區",
          "九龍城區",
          "九龍城區",
          "九龍城區",
          "九龍城區",
          "九龍城區",
          "九龍城區",
          "九龍城區",
          "九龍城區",
          "九龍城區",
          "九龍城區",
          "九龍城區",
          "九龍城區",
          "九龍城區",
          "九龍城區",
          "九龍城區",
          "九龍城區",
          "九龍城區",
          "九龍城區",
          "九龍城區",
          "九龍城區",
          "九龍城區",
          "九龍城區",
          "九龍城區",
          "九龍城區",
          "九龍城區",
          "九龍城區",
          "九龍城區",
          "九龍城區",
          "九龍城區",
          "元朗區",
          "元朗區",
          "元朗區",
          "元朗區",
          "元朗區",
          "元朗區",
          "元朗區",
          "元朗區",
          "元朗區",
          "元朗區",
          "元朗區",
          "元朗區",
          "元朗區",
          "元朗區",
          "元朗區",
          "元朗區",
          "元朗區",
          "元朗區",
          "元朗區",
          "元朗區",
          "元朗區",
          "元朗區",
          "北區",
          "北區",
          "北區",
          "北區",
          "北區",
          "北區",
          "北區",
          "北區",
          "北區",
          "北區",
          "北區",
          "北區",
          "北區",
          "北區",
          "北區",
          "大埔區",
          "大埔區",
          "大埔區",
          "大埔區",
          "大埔區",
          "大埔區",
          "大埔區",
          "大埔區",
          "大埔區",
          "大埔區",
          "大埔區",
          "大埔區",
          "大埔區",
          "屯門區",
          "屯門區",
          "屯門區",
          "屯門區",
          "屯門區",
          "屯門區",
          "屯門區",
          "屯門區",
          "屯門區",
          "屯門區",
          "屯門區",
          "屯門區",
          "屯門區",
          "屯門區",
          "屯門區",
          "屯門區",
          "屯門區",
          "屯門區",
          "屯門區",
          "沙田區",
          "沙田區",
          "沙田區",
          "沙田區",
          "沙田區",
          "沙田區",
          "沙田區",
          "沙田區",
          "沙田區",
          "沙田區",
          "沙田區",
          "沙田區",
          "沙田區",
          "沙田區",
          "沙田區",
          "沙田區",
          "沙田區",
          "沙田區",
          "沙田區",
          "沙田區",
          "沙田區",
          "沙田區",
          "沙田區",
          "沙田區",
          "沙田區",
          "沙田區",
          "沙田區",
          "沙田區",
          "油尖旺區",
          "油尖旺區",
          "油尖旺區",
          "油尖旺區",
          "油尖旺區",
          "油尖旺區",
          "油尖旺區",
          "油尖旺區",
          "油尖旺區",
          "油尖旺區",
          "油尖旺區",
          "油尖旺區",
          "深水埗區",
          "深水埗區",
          "深水埗區",
          "深水埗區",
          "深水埗區",
          "深水埗區",
          "深水埗區",
          "深水埗區",
          "深水埗區",
          "深水埗區",
          "深水埗區",
          "深水埗區",
          "深水埗區",
          "深水埗區",
          "深水埗區",
          "深水埗區",
          "深水埗區",
          "深水埗區",
          "灣仔區",
          "灣仔區",
          "灣仔區",
          "灣仔區",
          "灣仔區",
          "灣仔區",
          "灣仔區",
          "灣仔區",
          "灣仔區",
          "灣仔區",
          "荃灣區",
          "荃灣區",
          "荃灣區",
          "荃灣區",
          "荃灣區",
          "荃灣區",
          "荃灣區",
          "荃灣區",
          "荃灣區",
          "荃灣區",
          "荃灣區",
          "荃灣區",
          "葵青區",
          "葵青區",
          "葵青區",
          "葵青區",
          "葵青區",
          "葵青區",
          "葵青區",
          "葵青區",
          "葵青區",
          "葵青區",
          "葵青區",
          "葵青區",
          "葵青區",
          "西貢區",
          "西貢區",
          "西貢區",
          "西貢區",
          "西貢區",
          "西貢區",
          "西貢區",
          "西貢區",
          "西貢區",
          "西貢區",
          "西貢區",
          "觀塘區",
          "觀塘區",
          "觀塘區",
          "觀塘區",
          "觀塘區",
          "觀塘區",
          "觀塘區",
          "觀塘區",
          "觀塘區",
          "觀塘區",
          "觀塘區",
          "觀塘區",
          "觀塘區",
          "觀塘區",
          "觀塘區",
          "觀塘區",
          "離島區",
          "離島區",
          "離島區",
          "離島區",
          "離島區",
          "香港南區",
          "香港南區",
          "香港南區",
          "香港南區",
          "香港南區",
          "香港南區",
          "香港南區",
          "香港南區",
          "香港南區",
          "香港東區",
          "香港東區",
          "香港東區",
          "香港東區",
          "香港東區",
          "香港東區",
          "香港東區",
          "香港東區",
          "香港東區",
          "香港東區",
          "香港東區",
          "香港東區",
          "香港東區",
          "香港東區",
          "香港東區",
          "香港東區",
          "黃大仙區",
          "黃大仙區",
          "黃大仙區",
          "黃大仙區",
          "黃大仙區",
          "黃大仙區",
          "黃大仙區",
          "黃大仙區",
          "黃大仙區",
          "黃大仙區",
          "黃大仙區"
         ],
         "legendgroup": "",
         "name": "",
         "showlegend": true,
         "type": "pie",
         "values": [
          1,
          1,
          1,
          1,
          1,
          1,
          1,
          1,
          1,
          1,
          1,
          1,
          1,
          1,
          1,
          1,
          1,
          1,
          1,
          1,
          1,
          1,
          1,
          1,
          1,
          1,
          1,
          1,
          1,
          1,
          1,
          2,
          1,
          1,
          1,
          2,
          1,
          1,
          2,
          1,
          1,
          1,
          1,
          1,
          1,
          1,
          1,
          1,
          1,
          1,
          1,
          1,
          1,
          2,
          1,
          1,
          3,
          1,
          2,
          1,
          1,
          1,
          1,
          1,
          1,
          1,
          4,
          1,
          1,
          1,
          2,
          1,
          1,
          1,
          1,
          1,
          1,
          1,
          1,
          2,
          3,
          1,
          1,
          1,
          1,
          1,
          2,
          1,
          1,
          1,
          1,
          1,
          2,
          2,
          1,
          1,
          1,
          2,
          1,
          1,
          1,
          1,
          2,
          2,
          1,
          1,
          1,
          2,
          1,
          1,
          1,
          1,
          2,
          1,
          1,
          1,
          1,
          1,
          2,
          1,
          1,
          1,
          1,
          1,
          1,
          1,
          1,
          1,
          1,
          1,
          1,
          1,
          1,
          1,
          2,
          1,
          1,
          1,
          2,
          1,
          2,
          1,
          1,
          1,
          1,
          1,
          2,
          1,
          1,
          1,
          3,
          1,
          1,
          1,
          1,
          1,
          1,
          1,
          1,
          1,
          1,
          1,
          2,
          1,
          1,
          1,
          1,
          1,
          1,
          1,
          1,
          1,
          1,
          1,
          1,
          1,
          1,
          1,
          1,
          2,
          1,
          1,
          2,
          1,
          1,
          1,
          1,
          1,
          1,
          1,
          1,
          1,
          1,
          1,
          1,
          1,
          1,
          1,
          1,
          2,
          1,
          1,
          1,
          2,
          1,
          1,
          1,
          1,
          1,
          1,
          1,
          1,
          1,
          1,
          1,
          1,
          1,
          1,
          6,
          1,
          1,
          1,
          1,
          1,
          1,
          1,
          1,
          2,
          1,
          2,
          1,
          1,
          1,
          2,
          1,
          1,
          1,
          1,
          1,
          1,
          1,
          1,
          1,
          1,
          1,
          1,
          1,
          1,
          1,
          1,
          1,
          1,
          1,
          1,
          1,
          1,
          2,
          1,
          2,
          1,
          1,
          1,
          1,
          2,
          1,
          1,
          1,
          1,
          1,
          1,
          1,
          1,
          1,
          1,
          1,
          1,
          1,
          1,
          1,
          3,
          1
         ]
        }
       ],
       "layout": {
        "legend": {
         "tracegroupgap": 0
        },
        "template": {
         "data": {
          "bar": [
           {
            "error_x": {
             "color": "#2a3f5f"
            },
            "error_y": {
             "color": "#2a3f5f"
            },
            "marker": {
             "line": {
              "color": "#E5ECF6",
              "width": 0.5
             },
             "pattern": {
              "fillmode": "overlay",
              "size": 10,
              "solidity": 0.2
             }
            },
            "type": "bar"
           }
          ],
          "barpolar": [
           {
            "marker": {
             "line": {
              "color": "#E5ECF6",
              "width": 0.5
             },
             "pattern": {
              "fillmode": "overlay",
              "size": 10,
              "solidity": 0.2
             }
            },
            "type": "barpolar"
           }
          ],
          "carpet": [
           {
            "aaxis": {
             "endlinecolor": "#2a3f5f",
             "gridcolor": "white",
             "linecolor": "white",
             "minorgridcolor": "white",
             "startlinecolor": "#2a3f5f"
            },
            "baxis": {
             "endlinecolor": "#2a3f5f",
             "gridcolor": "white",
             "linecolor": "white",
             "minorgridcolor": "white",
             "startlinecolor": "#2a3f5f"
            },
            "type": "carpet"
           }
          ],
          "choropleth": [
           {
            "colorbar": {
             "outlinewidth": 0,
             "ticks": ""
            },
            "type": "choropleth"
           }
          ],
          "contour": [
           {
            "colorbar": {
             "outlinewidth": 0,
             "ticks": ""
            },
            "colorscale": [
             [
              0,
              "#0d0887"
             ],
             [
              0.1111111111111111,
              "#46039f"
             ],
             [
              0.2222222222222222,
              "#7201a8"
             ],
             [
              0.3333333333333333,
              "#9c179e"
             ],
             [
              0.4444444444444444,
              "#bd3786"
             ],
             [
              0.5555555555555556,
              "#d8576b"
             ],
             [
              0.6666666666666666,
              "#ed7953"
             ],
             [
              0.7777777777777778,
              "#fb9f3a"
             ],
             [
              0.8888888888888888,
              "#fdca26"
             ],
             [
              1,
              "#f0f921"
             ]
            ],
            "type": "contour"
           }
          ],
          "contourcarpet": [
           {
            "colorbar": {
             "outlinewidth": 0,
             "ticks": ""
            },
            "type": "contourcarpet"
           }
          ],
          "heatmap": [
           {
            "colorbar": {
             "outlinewidth": 0,
             "ticks": ""
            },
            "colorscale": [
             [
              0,
              "#0d0887"
             ],
             [
              0.1111111111111111,
              "#46039f"
             ],
             [
              0.2222222222222222,
              "#7201a8"
             ],
             [
              0.3333333333333333,
              "#9c179e"
             ],
             [
              0.4444444444444444,
              "#bd3786"
             ],
             [
              0.5555555555555556,
              "#d8576b"
             ],
             [
              0.6666666666666666,
              "#ed7953"
             ],
             [
              0.7777777777777778,
              "#fb9f3a"
             ],
             [
              0.8888888888888888,
              "#fdca26"
             ],
             [
              1,
              "#f0f921"
             ]
            ],
            "type": "heatmap"
           }
          ],
          "heatmapgl": [
           {
            "colorbar": {
             "outlinewidth": 0,
             "ticks": ""
            },
            "colorscale": [
             [
              0,
              "#0d0887"
             ],
             [
              0.1111111111111111,
              "#46039f"
             ],
             [
              0.2222222222222222,
              "#7201a8"
             ],
             [
              0.3333333333333333,
              "#9c179e"
             ],
             [
              0.4444444444444444,
              "#bd3786"
             ],
             [
              0.5555555555555556,
              "#d8576b"
             ],
             [
              0.6666666666666666,
              "#ed7953"
             ],
             [
              0.7777777777777778,
              "#fb9f3a"
             ],
             [
              0.8888888888888888,
              "#fdca26"
             ],
             [
              1,
              "#f0f921"
             ]
            ],
            "type": "heatmapgl"
           }
          ],
          "histogram": [
           {
            "marker": {
             "pattern": {
              "fillmode": "overlay",
              "size": 10,
              "solidity": 0.2
             }
            },
            "type": "histogram"
           }
          ],
          "histogram2d": [
           {
            "colorbar": {
             "outlinewidth": 0,
             "ticks": ""
            },
            "colorscale": [
             [
              0,
              "#0d0887"
             ],
             [
              0.1111111111111111,
              "#46039f"
             ],
             [
              0.2222222222222222,
              "#7201a8"
             ],
             [
              0.3333333333333333,
              "#9c179e"
             ],
             [
              0.4444444444444444,
              "#bd3786"
             ],
             [
              0.5555555555555556,
              "#d8576b"
             ],
             [
              0.6666666666666666,
              "#ed7953"
             ],
             [
              0.7777777777777778,
              "#fb9f3a"
             ],
             [
              0.8888888888888888,
              "#fdca26"
             ],
             [
              1,
              "#f0f921"
             ]
            ],
            "type": "histogram2d"
           }
          ],
          "histogram2dcontour": [
           {
            "colorbar": {
             "outlinewidth": 0,
             "ticks": ""
            },
            "colorscale": [
             [
              0,
              "#0d0887"
             ],
             [
              0.1111111111111111,
              "#46039f"
             ],
             [
              0.2222222222222222,
              "#7201a8"
             ],
             [
              0.3333333333333333,
              "#9c179e"
             ],
             [
              0.4444444444444444,
              "#bd3786"
             ],
             [
              0.5555555555555556,
              "#d8576b"
             ],
             [
              0.6666666666666666,
              "#ed7953"
             ],
             [
              0.7777777777777778,
              "#fb9f3a"
             ],
             [
              0.8888888888888888,
              "#fdca26"
             ],
             [
              1,
              "#f0f921"
             ]
            ],
            "type": "histogram2dcontour"
           }
          ],
          "mesh3d": [
           {
            "colorbar": {
             "outlinewidth": 0,
             "ticks": ""
            },
            "type": "mesh3d"
           }
          ],
          "parcoords": [
           {
            "line": {
             "colorbar": {
              "outlinewidth": 0,
              "ticks": ""
             }
            },
            "type": "parcoords"
           }
          ],
          "pie": [
           {
            "automargin": true,
            "type": "pie"
           }
          ],
          "scatter": [
           {
            "fillpattern": {
             "fillmode": "overlay",
             "size": 10,
             "solidity": 0.2
            },
            "type": "scatter"
           }
          ],
          "scatter3d": [
           {
            "line": {
             "colorbar": {
              "outlinewidth": 0,
              "ticks": ""
             }
            },
            "marker": {
             "colorbar": {
              "outlinewidth": 0,
              "ticks": ""
             }
            },
            "type": "scatter3d"
           }
          ],
          "scattercarpet": [
           {
            "marker": {
             "colorbar": {
              "outlinewidth": 0,
              "ticks": ""
             }
            },
            "type": "scattercarpet"
           }
          ],
          "scattergeo": [
           {
            "marker": {
             "colorbar": {
              "outlinewidth": 0,
              "ticks": ""
             }
            },
            "type": "scattergeo"
           }
          ],
          "scattergl": [
           {
            "marker": {
             "colorbar": {
              "outlinewidth": 0,
              "ticks": ""
             }
            },
            "type": "scattergl"
           }
          ],
          "scattermapbox": [
           {
            "marker": {
             "colorbar": {
              "outlinewidth": 0,
              "ticks": ""
             }
            },
            "type": "scattermapbox"
           }
          ],
          "scatterpolar": [
           {
            "marker": {
             "colorbar": {
              "outlinewidth": 0,
              "ticks": ""
             }
            },
            "type": "scatterpolar"
           }
          ],
          "scatterpolargl": [
           {
            "marker": {
             "colorbar": {
              "outlinewidth": 0,
              "ticks": ""
             }
            },
            "type": "scatterpolargl"
           }
          ],
          "scatterternary": [
           {
            "marker": {
             "colorbar": {
              "outlinewidth": 0,
              "ticks": ""
             }
            },
            "type": "scatterternary"
           }
          ],
          "surface": [
           {
            "colorbar": {
             "outlinewidth": 0,
             "ticks": ""
            },
            "colorscale": [
             [
              0,
              "#0d0887"
             ],
             [
              0.1111111111111111,
              "#46039f"
             ],
             [
              0.2222222222222222,
              "#7201a8"
             ],
             [
              0.3333333333333333,
              "#9c179e"
             ],
             [
              0.4444444444444444,
              "#bd3786"
             ],
             [
              0.5555555555555556,
              "#d8576b"
             ],
             [
              0.6666666666666666,
              "#ed7953"
             ],
             [
              0.7777777777777778,
              "#fb9f3a"
             ],
             [
              0.8888888888888888,
              "#fdca26"
             ],
             [
              1,
              "#f0f921"
             ]
            ],
            "type": "surface"
           }
          ],
          "table": [
           {
            "cells": {
             "fill": {
              "color": "#EBF0F8"
             },
             "line": {
              "color": "white"
             }
            },
            "header": {
             "fill": {
              "color": "#C8D4E3"
             },
             "line": {
              "color": "white"
             }
            },
            "type": "table"
           }
          ]
         },
         "layout": {
          "annotationdefaults": {
           "arrowcolor": "#2a3f5f",
           "arrowhead": 0,
           "arrowwidth": 1
          },
          "autotypenumbers": "strict",
          "coloraxis": {
           "colorbar": {
            "outlinewidth": 0,
            "ticks": ""
           }
          },
          "colorscale": {
           "diverging": [
            [
             0,
             "#8e0152"
            ],
            [
             0.1,
             "#c51b7d"
            ],
            [
             0.2,
             "#de77ae"
            ],
            [
             0.3,
             "#f1b6da"
            ],
            [
             0.4,
             "#fde0ef"
            ],
            [
             0.5,
             "#f7f7f7"
            ],
            [
             0.6,
             "#e6f5d0"
            ],
            [
             0.7,
             "#b8e186"
            ],
            [
             0.8,
             "#7fbc41"
            ],
            [
             0.9,
             "#4d9221"
            ],
            [
             1,
             "#276419"
            ]
           ],
           "sequential": [
            [
             0,
             "#0d0887"
            ],
            [
             0.1111111111111111,
             "#46039f"
            ],
            [
             0.2222222222222222,
             "#7201a8"
            ],
            [
             0.3333333333333333,
             "#9c179e"
            ],
            [
             0.4444444444444444,
             "#bd3786"
            ],
            [
             0.5555555555555556,
             "#d8576b"
            ],
            [
             0.6666666666666666,
             "#ed7953"
            ],
            [
             0.7777777777777778,
             "#fb9f3a"
            ],
            [
             0.8888888888888888,
             "#fdca26"
            ],
            [
             1,
             "#f0f921"
            ]
           ],
           "sequentialminus": [
            [
             0,
             "#0d0887"
            ],
            [
             0.1111111111111111,
             "#46039f"
            ],
            [
             0.2222222222222222,
             "#7201a8"
            ],
            [
             0.3333333333333333,
             "#9c179e"
            ],
            [
             0.4444444444444444,
             "#bd3786"
            ],
            [
             0.5555555555555556,
             "#d8576b"
            ],
            [
             0.6666666666666666,
             "#ed7953"
            ],
            [
             0.7777777777777778,
             "#fb9f3a"
            ],
            [
             0.8888888888888888,
             "#fdca26"
            ],
            [
             1,
             "#f0f921"
            ]
           ]
          },
          "colorway": [
           "#636efa",
           "#EF553B",
           "#00cc96",
           "#ab63fa",
           "#FFA15A",
           "#19d3f3",
           "#FF6692",
           "#B6E880",
           "#FF97FF",
           "#FECB52"
          ],
          "font": {
           "color": "#2a3f5f"
          },
          "geo": {
           "bgcolor": "white",
           "lakecolor": "white",
           "landcolor": "#E5ECF6",
           "showlakes": true,
           "showland": true,
           "subunitcolor": "white"
          },
          "hoverlabel": {
           "align": "left"
          },
          "hovermode": "closest",
          "mapbox": {
           "style": "light"
          },
          "paper_bgcolor": "white",
          "plot_bgcolor": "#E5ECF6",
          "polar": {
           "angularaxis": {
            "gridcolor": "white",
            "linecolor": "white",
            "ticks": ""
           },
           "bgcolor": "#E5ECF6",
           "radialaxis": {
            "gridcolor": "white",
            "linecolor": "white",
            "ticks": ""
           }
          },
          "scene": {
           "xaxis": {
            "backgroundcolor": "#E5ECF6",
            "gridcolor": "white",
            "gridwidth": 2,
            "linecolor": "white",
            "showbackground": true,
            "ticks": "",
            "zerolinecolor": "white"
           },
           "yaxis": {
            "backgroundcolor": "#E5ECF6",
            "gridcolor": "white",
            "gridwidth": 2,
            "linecolor": "white",
            "showbackground": true,
            "ticks": "",
            "zerolinecolor": "white"
           },
           "zaxis": {
            "backgroundcolor": "#E5ECF6",
            "gridcolor": "white",
            "gridwidth": 2,
            "linecolor": "white",
            "showbackground": true,
            "ticks": "",
            "zerolinecolor": "white"
           }
          },
          "shapedefaults": {
           "line": {
            "color": "#2a3f5f"
           }
          },
          "ternary": {
           "aaxis": {
            "gridcolor": "white",
            "linecolor": "white",
            "ticks": ""
           },
           "baxis": {
            "gridcolor": "white",
            "linecolor": "white",
            "ticks": ""
           },
           "bgcolor": "#E5ECF6",
           "caxis": {
            "gridcolor": "white",
            "linecolor": "white",
            "ticks": ""
           }
          },
          "title": {
           "x": 0.05
          },
          "xaxis": {
           "automargin": true,
           "gridcolor": "white",
           "linecolor": "white",
           "ticks": "",
           "title": {
            "standoff": 15
           },
           "zerolinecolor": "white",
           "zerolinewidth": 2
          },
          "yaxis": {
           "automargin": true,
           "gridcolor": "white",
           "linecolor": "white",
           "ticks": "",
           "title": {
            "standoff": 15
           },
           "zerolinecolor": "white",
           "zerolinewidth": 2
          }
         }
        },
        "title": {
         "text": "Sorted by shcool size before 300"
        }
       }
      }
     },
     "metadata": {},
     "output_type": "display_data"
    }
   ],
   "source": [
    "sorted_by_school_size = primary_school_all.sort_values(by=['school_size'], ascending=[False])\n",
    "\n",
    "district_and_school_size_30 = sorted_by_school_size.groupby(['district', 'school_size']).size().reset_index(name='school_count')[:30]\n",
    "fig1 = px.pie(district_and_school_size_30, values='school_count', names='district', title='Sorted by shcool size before 30')\n",
    "fig1.show()\n",
    "\n",
    "district_and_school_size_100 = primary_school_all.groupby(['district', 'school_size']).size().reset_index(name='school_count')[:100]\n",
    "fig2 = px.pie(district_and_school_size_100, values='school_count', names='district', title='Sorted by shcool size before 100')\n",
    "fig2.show()\n",
    "\n",
    "district_and_school_size_300 = sorted_by_school_size.groupby(['district', 'school_size']).size().reset_index(name='school_count')[:300]\n",
    "fig3 = px.pie(district_and_school_size_300, values='school_count', names='district', title='Sorted by shcool size before 300')\n",
    "fig3.show()"
   ]
  },
  {
   "cell_type": "code",
   "execution_count": null,
   "metadata": {},
   "outputs": [],
   "source": []
  }
 ],
 "metadata": {
  "kernelspec": {
   "display_name": "Python 3",
   "language": "python",
   "name": "python3"
  },
  "language_info": {
   "codemirror_mode": {
    "name": "ipython",
    "version": 3
   },
   "file_extension": ".py",
   "mimetype": "text/x-python",
   "name": "python",
   "nbconvert_exporter": "python",
   "pygments_lexer": "ipython3",
   "version": "3.12.4"
  }
 },
 "nbformat": 4,
 "nbformat_minor": 2
}
